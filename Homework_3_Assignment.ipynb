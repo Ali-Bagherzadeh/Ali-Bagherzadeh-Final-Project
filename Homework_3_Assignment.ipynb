{
  "cells": [
    {
      "cell_type": "markdown",
      "metadata": {
        "id": "view-in-github",
        "colab_type": "text"
      },
      "source": [
        "<a href=\"https://colab.research.google.com/github/Ali-Bagherzadeh/Ali-Bagherzadeh-Final-Project-MEM680-/blob/main/Homework_3_Assignment.ipynb\" target=\"_parent\"><img src=\"https://colab.research.google.com/assets/colab-badge.svg\" alt=\"Open In Colab\"/></a>"
      ]
    },
    {
      "cell_type": "markdown",
      "metadata": {
        "id": "UFVgmO9s7YnB"
      },
      "source": [
        "# Ali Bagherzadeh\n",
        "# Homework 3: Machine Learning Tasks (XX/125 points)\n",
        "\n",
        "## About Dataset\n",
        "### Data from a semi-conductor manufacturing process\n",
        "\n",
        "Number of Instances: 1567 <br>\n",
        "Area: Computer<br>\n",
        "Attribute Characteristics: Real<br>\n",
        "Number of Attributes: 591<br>\n",
        "Date Donated: 2008-11-19<br>\n",
        "Associated Tasks: Classification, Causal-Discovery<br>\n",
        "Missing Values? Yes<br>\n",
        "\n",
        "A complex modern semi-conductor manufacturing process is normally under consistent\n",
        "surveillance via the monitoring of signals/variables collected from sensors and or\n",
        "process measurement points. However, not all of these signals are equally valuable\n",
        "in a specific monitoring system. The measured signals contain a combination of\n",
        "useful information, irrelevant information as well as noise. It is often the case\n",
        "that useful information is buried in the latter two. Engineers typically have a\n",
        "much larger number of signals than are actually required. If we consider each type\n",
        "of signal as a feature, then feature selection may be applied to identify the most\n",
        "relevant signals. The Process Engineers may then use these signals to determine key\n",
        "factors contributing to yield excursions downstream in the process. This will\n",
        "enable an increase in process throughput, decreased time to learning and reduce the per unit production costs.\n",
        "\n",
        "To enhance current business improvement techniques the application of feature\n",
        "selection as an intelligent systems technique is being investigated.\n",
        "\n",
        "The dataset presented in this case represents a selection of such features where\n",
        "each example represents a single production entity with associated measured\n",
        "features and the labels represent a simple pass/fail yield for in-house line testing, figure 2, and associated date time stamp. Where -1 corresponds to a pass\n",
        "and 1 corresponds to a fail and the data time stamp is for that specific test\n",
        "point.\n",
        "\n",
        "This homework assignment will walk you through how to tackle this real problem. \n",
        "\n",
        "It is worth noting that this is an actual dataset and thus the problem is not fully tractable. Like many real problems, sometimes you do not have the necessary information to make a perfect solution. We want a useful and informative solution. "
      ]
    },
    {
      "cell_type": "code",
      "source": [
        "!pip install plotly_express"
      ],
      "metadata": {
        "colab": {
          "base_uri": "https://localhost:8080/"
        },
        "id": "9S0g1CJu_wEY",
        "outputId": "aa9ab7fd-72de-422c-abe5-d6c102e88ae1"
      },
      "execution_count": null,
      "outputs": [
        {
          "output_type": "stream",
          "name": "stdout",
          "text": [
            "Looking in indexes: https://pypi.org/simple, https://us-python.pkg.dev/colab-wheels/public/simple/\n",
            "Requirement already satisfied: plotly_express in /usr/local/lib/python3.8/dist-packages (0.4.1)\n",
            "Requirement already satisfied: scipy>=0.18 in /usr/local/lib/python3.8/dist-packages (from plotly_express) (1.7.3)\n",
            "Requirement already satisfied: pandas>=0.20.0 in /usr/local/lib/python3.8/dist-packages (from plotly_express) (1.3.5)\n",
            "Requirement already satisfied: statsmodels>=0.9.0 in /usr/local/lib/python3.8/dist-packages (from plotly_express) (0.12.2)\n",
            "Requirement already satisfied: plotly>=4.1.0 in /usr/local/lib/python3.8/dist-packages (from plotly_express) (5.5.0)\n",
            "Requirement already satisfied: patsy>=0.5 in /usr/local/lib/python3.8/dist-packages (from plotly_express) (0.5.3)\n",
            "Requirement already satisfied: numpy>=1.11 in /usr/local/lib/python3.8/dist-packages (from plotly_express) (1.21.6)\n",
            "Requirement already satisfied: python-dateutil>=2.7.3 in /usr/local/lib/python3.8/dist-packages (from pandas>=0.20.0->plotly_express) (2.8.2)\n",
            "Requirement already satisfied: pytz>=2017.3 in /usr/local/lib/python3.8/dist-packages (from pandas>=0.20.0->plotly_express) (2022.6)\n",
            "Requirement already satisfied: six in /usr/local/lib/python3.8/dist-packages (from patsy>=0.5->plotly_express) (1.15.0)\n",
            "Requirement already satisfied: tenacity>=6.2.0 in /usr/local/lib/python3.8/dist-packages (from plotly>=4.1.0->plotly_express) (8.1.0)\n"
          ]
        }
      ]
    },
    {
      "cell_type": "code",
      "execution_count": null,
      "metadata": {
        "id": "lve75w7g7YnG"
      },
      "outputs": [],
      "source": [
        "## Here are some packages and modules that you will use. Make sure they are installed.\n",
        "\n",
        "# for basic operations\n",
        "import numpy as np \n",
        "import pandas as pd \n",
        "\n",
        "# for visualizations\n",
        "import matplotlib.pyplot as plt\n",
        "import seaborn as sns\n",
        "\n",
        "# for modeling \n",
        "from sklearn.metrics import confusion_matrix\n",
        "from sklearn.model_selection import GridSearchCV\n",
        "from sklearn.model_selection import train_test_split\n",
        "from sklearn.preprocessing import StandardScaler\n",
        "from sklearn.ensemble import RandomForestClassifier\n",
        "from sklearn.linear_model import LogisticRegression\n",
        "from sklearn.metrics import classification_report, confusion_matrix\n",
        "from sklearn.pipeline import Pipeline\n",
        "from sklearn.decomposition import PCA\n",
        "\n",
        "import plotly_express as px\n",
        "\n",
        "from imblearn.over_sampling import SMOTE\n",
        "\n",
        "# to avoid warnings\n",
        "import warnings\n",
        "warnings.filterwarnings(\"ignore\", category=DeprecationWarning)\n"
      ]
    },
    {
      "cell_type": "markdown",
      "metadata": {
        "id": "SxZ7_s-q7YnI"
      },
      "source": [
        "## Loading the data (5 points)\n",
        "\n",
        "1. The data file is in a file called `uci-secom.csv` scikit-learn works well with pandas. It is recommended that you read the csv into a pandas array.\n",
        "2. It is useful to print the shape of the output array to know what the data is that you are working with\n"
      ]
    },
    {
      "cell_type": "code",
      "execution_count": null,
      "metadata": {
        "id": "fHEamoFr7YnI",
        "colab": {
          "base_uri": "https://localhost:8080/"
        },
        "outputId": "3ecc0559-a0be-4975-d21f-67c1889b2c52"
      },
      "outputs": [
        {
          "output_type": "stream",
          "name": "stdout",
          "text": [
            "(1567, 592)\n"
          ]
        }
      ],
      "source": [
        "# Read data from file 'filename.csv' \n",
        "data = pd.read_csv('uci-secom.csv') \n",
        "# data size\n",
        "print(data.shape)"
      ]
    },
    {
      "cell_type": "markdown",
      "metadata": {
        "id": "lKKVAzwk7YnJ"
      },
      "source": [
        "3. Pandas has a built-in method called head that shows the first few rows, this is useful to see what the data looks like "
      ]
    },
    {
      "cell_type": "code",
      "source": [
        "# Preview the first 5 lines of the loaded data \n",
        "data.head()"
      ],
      "metadata": {
        "colab": {
          "base_uri": "https://localhost:8080/",
          "height": 366
        },
        "id": "Rzmp5TqKFFN5",
        "outputId": "00d1042c-2ffc-44ed-8361-79f2f4b773a2"
      },
      "execution_count": null,
      "outputs": [
        {
          "output_type": "execute_result",
          "data": {
            "text/plain": [
              "                  Time        0        1          2          3       4      5  \\\n",
              "0  2008-07-19 11:55:00  3030.93  2564.00  2187.7333  1411.1265  1.3602  100.0   \n",
              "1  2008-07-19 12:32:00  3095.78  2465.14  2230.4222  1463.6606  0.8294  100.0   \n",
              "2  2008-07-19 13:17:00  2932.61  2559.94  2186.4111  1698.0172  1.5102  100.0   \n",
              "3  2008-07-19 14:43:00  2988.72  2479.90  2199.0333   909.7926  1.3204  100.0   \n",
              "4  2008-07-19 15:22:00  3032.24  2502.87  2233.3667  1326.5200  1.5334  100.0   \n",
              "\n",
              "          6       7       8  ...       581     582     583     584      585  \\\n",
              "0   97.6133  0.1242  1.5005  ...       NaN  0.5005  0.0118  0.0035   2.3630   \n",
              "1  102.3433  0.1247  1.4966  ...  208.2045  0.5019  0.0223  0.0055   4.4447   \n",
              "2   95.4878  0.1241  1.4436  ...   82.8602  0.4958  0.0157  0.0039   3.1745   \n",
              "3  104.2367  0.1217  1.4882  ...   73.8432  0.4990  0.0103  0.0025   2.0544   \n",
              "4  100.3967  0.1235  1.5031  ...       NaN  0.4800  0.4766  0.1045  99.3032   \n",
              "\n",
              "      586     587     588       589  Pass/Fail  \n",
              "0     NaN     NaN     NaN       NaN         -1  \n",
              "1  0.0096  0.0201  0.0060  208.2045         -1  \n",
              "2  0.0584  0.0484  0.0148   82.8602          1  \n",
              "3  0.0202  0.0149  0.0044   73.8432         -1  \n",
              "4  0.0202  0.0149  0.0044   73.8432         -1  \n",
              "\n",
              "[5 rows x 592 columns]"
            ],
            "text/html": [
              "\n",
              "  <div id=\"df-fc6964e2-dca5-418c-a958-3a27dc317cdf\">\n",
              "    <div class=\"colab-df-container\">\n",
              "      <div>\n",
              "<style scoped>\n",
              "    .dataframe tbody tr th:only-of-type {\n",
              "        vertical-align: middle;\n",
              "    }\n",
              "\n",
              "    .dataframe tbody tr th {\n",
              "        vertical-align: top;\n",
              "    }\n",
              "\n",
              "    .dataframe thead th {\n",
              "        text-align: right;\n",
              "    }\n",
              "</style>\n",
              "<table border=\"1\" class=\"dataframe\">\n",
              "  <thead>\n",
              "    <tr style=\"text-align: right;\">\n",
              "      <th></th>\n",
              "      <th>Time</th>\n",
              "      <th>0</th>\n",
              "      <th>1</th>\n",
              "      <th>2</th>\n",
              "      <th>3</th>\n",
              "      <th>4</th>\n",
              "      <th>5</th>\n",
              "      <th>6</th>\n",
              "      <th>7</th>\n",
              "      <th>8</th>\n",
              "      <th>...</th>\n",
              "      <th>581</th>\n",
              "      <th>582</th>\n",
              "      <th>583</th>\n",
              "      <th>584</th>\n",
              "      <th>585</th>\n",
              "      <th>586</th>\n",
              "      <th>587</th>\n",
              "      <th>588</th>\n",
              "      <th>589</th>\n",
              "      <th>Pass/Fail</th>\n",
              "    </tr>\n",
              "  </thead>\n",
              "  <tbody>\n",
              "    <tr>\n",
              "      <th>0</th>\n",
              "      <td>2008-07-19 11:55:00</td>\n",
              "      <td>3030.93</td>\n",
              "      <td>2564.00</td>\n",
              "      <td>2187.7333</td>\n",
              "      <td>1411.1265</td>\n",
              "      <td>1.3602</td>\n",
              "      <td>100.0</td>\n",
              "      <td>97.6133</td>\n",
              "      <td>0.1242</td>\n",
              "      <td>1.5005</td>\n",
              "      <td>...</td>\n",
              "      <td>NaN</td>\n",
              "      <td>0.5005</td>\n",
              "      <td>0.0118</td>\n",
              "      <td>0.0035</td>\n",
              "      <td>2.3630</td>\n",
              "      <td>NaN</td>\n",
              "      <td>NaN</td>\n",
              "      <td>NaN</td>\n",
              "      <td>NaN</td>\n",
              "      <td>-1</td>\n",
              "    </tr>\n",
              "    <tr>\n",
              "      <th>1</th>\n",
              "      <td>2008-07-19 12:32:00</td>\n",
              "      <td>3095.78</td>\n",
              "      <td>2465.14</td>\n",
              "      <td>2230.4222</td>\n",
              "      <td>1463.6606</td>\n",
              "      <td>0.8294</td>\n",
              "      <td>100.0</td>\n",
              "      <td>102.3433</td>\n",
              "      <td>0.1247</td>\n",
              "      <td>1.4966</td>\n",
              "      <td>...</td>\n",
              "      <td>208.2045</td>\n",
              "      <td>0.5019</td>\n",
              "      <td>0.0223</td>\n",
              "      <td>0.0055</td>\n",
              "      <td>4.4447</td>\n",
              "      <td>0.0096</td>\n",
              "      <td>0.0201</td>\n",
              "      <td>0.0060</td>\n",
              "      <td>208.2045</td>\n",
              "      <td>-1</td>\n",
              "    </tr>\n",
              "    <tr>\n",
              "      <th>2</th>\n",
              "      <td>2008-07-19 13:17:00</td>\n",
              "      <td>2932.61</td>\n",
              "      <td>2559.94</td>\n",
              "      <td>2186.4111</td>\n",
              "      <td>1698.0172</td>\n",
              "      <td>1.5102</td>\n",
              "      <td>100.0</td>\n",
              "      <td>95.4878</td>\n",
              "      <td>0.1241</td>\n",
              "      <td>1.4436</td>\n",
              "      <td>...</td>\n",
              "      <td>82.8602</td>\n",
              "      <td>0.4958</td>\n",
              "      <td>0.0157</td>\n",
              "      <td>0.0039</td>\n",
              "      <td>3.1745</td>\n",
              "      <td>0.0584</td>\n",
              "      <td>0.0484</td>\n",
              "      <td>0.0148</td>\n",
              "      <td>82.8602</td>\n",
              "      <td>1</td>\n",
              "    </tr>\n",
              "    <tr>\n",
              "      <th>3</th>\n",
              "      <td>2008-07-19 14:43:00</td>\n",
              "      <td>2988.72</td>\n",
              "      <td>2479.90</td>\n",
              "      <td>2199.0333</td>\n",
              "      <td>909.7926</td>\n",
              "      <td>1.3204</td>\n",
              "      <td>100.0</td>\n",
              "      <td>104.2367</td>\n",
              "      <td>0.1217</td>\n",
              "      <td>1.4882</td>\n",
              "      <td>...</td>\n",
              "      <td>73.8432</td>\n",
              "      <td>0.4990</td>\n",
              "      <td>0.0103</td>\n",
              "      <td>0.0025</td>\n",
              "      <td>2.0544</td>\n",
              "      <td>0.0202</td>\n",
              "      <td>0.0149</td>\n",
              "      <td>0.0044</td>\n",
              "      <td>73.8432</td>\n",
              "      <td>-1</td>\n",
              "    </tr>\n",
              "    <tr>\n",
              "      <th>4</th>\n",
              "      <td>2008-07-19 15:22:00</td>\n",
              "      <td>3032.24</td>\n",
              "      <td>2502.87</td>\n",
              "      <td>2233.3667</td>\n",
              "      <td>1326.5200</td>\n",
              "      <td>1.5334</td>\n",
              "      <td>100.0</td>\n",
              "      <td>100.3967</td>\n",
              "      <td>0.1235</td>\n",
              "      <td>1.5031</td>\n",
              "      <td>...</td>\n",
              "      <td>NaN</td>\n",
              "      <td>0.4800</td>\n",
              "      <td>0.4766</td>\n",
              "      <td>0.1045</td>\n",
              "      <td>99.3032</td>\n",
              "      <td>0.0202</td>\n",
              "      <td>0.0149</td>\n",
              "      <td>0.0044</td>\n",
              "      <td>73.8432</td>\n",
              "      <td>-1</td>\n",
              "    </tr>\n",
              "  </tbody>\n",
              "</table>\n",
              "<p>5 rows × 592 columns</p>\n",
              "</div>\n",
              "      <button class=\"colab-df-convert\" onclick=\"convertToInteractive('df-fc6964e2-dca5-418c-a958-3a27dc317cdf')\"\n",
              "              title=\"Convert this dataframe to an interactive table.\"\n",
              "              style=\"display:none;\">\n",
              "        \n",
              "  <svg xmlns=\"http://www.w3.org/2000/svg\" height=\"24px\"viewBox=\"0 0 24 24\"\n",
              "       width=\"24px\">\n",
              "    <path d=\"M0 0h24v24H0V0z\" fill=\"none\"/>\n",
              "    <path d=\"M18.56 5.44l.94 2.06.94-2.06 2.06-.94-2.06-.94-.94-2.06-.94 2.06-2.06.94zm-11 1L8.5 8.5l.94-2.06 2.06-.94-2.06-.94L8.5 2.5l-.94 2.06-2.06.94zm10 10l.94 2.06.94-2.06 2.06-.94-2.06-.94-.94-2.06-.94 2.06-2.06.94z\"/><path d=\"M17.41 7.96l-1.37-1.37c-.4-.4-.92-.59-1.43-.59-.52 0-1.04.2-1.43.59L10.3 9.45l-7.72 7.72c-.78.78-.78 2.05 0 2.83L4 21.41c.39.39.9.59 1.41.59.51 0 1.02-.2 1.41-.59l7.78-7.78 2.81-2.81c.8-.78.8-2.07 0-2.86zM5.41 20L4 18.59l7.72-7.72 1.47 1.35L5.41 20z\"/>\n",
              "  </svg>\n",
              "      </button>\n",
              "      \n",
              "  <style>\n",
              "    .colab-df-container {\n",
              "      display:flex;\n",
              "      flex-wrap:wrap;\n",
              "      gap: 12px;\n",
              "    }\n",
              "\n",
              "    .colab-df-convert {\n",
              "      background-color: #E8F0FE;\n",
              "      border: none;\n",
              "      border-radius: 50%;\n",
              "      cursor: pointer;\n",
              "      display: none;\n",
              "      fill: #1967D2;\n",
              "      height: 32px;\n",
              "      padding: 0 0 0 0;\n",
              "      width: 32px;\n",
              "    }\n",
              "\n",
              "    .colab-df-convert:hover {\n",
              "      background-color: #E2EBFA;\n",
              "      box-shadow: 0px 1px 2px rgba(60, 64, 67, 0.3), 0px 1px 3px 1px rgba(60, 64, 67, 0.15);\n",
              "      fill: #174EA6;\n",
              "    }\n",
              "\n",
              "    [theme=dark] .colab-df-convert {\n",
              "      background-color: #3B4455;\n",
              "      fill: #D2E3FC;\n",
              "    }\n",
              "\n",
              "    [theme=dark] .colab-df-convert:hover {\n",
              "      background-color: #434B5C;\n",
              "      box-shadow: 0px 1px 3px 1px rgba(0, 0, 0, 0.15);\n",
              "      filter: drop-shadow(0px 1px 2px rgba(0, 0, 0, 0.3));\n",
              "      fill: #FFFFFF;\n",
              "    }\n",
              "  </style>\n",
              "\n",
              "      <script>\n",
              "        const buttonEl =\n",
              "          document.querySelector('#df-fc6964e2-dca5-418c-a958-3a27dc317cdf button.colab-df-convert');\n",
              "        buttonEl.style.display =\n",
              "          google.colab.kernel.accessAllowed ? 'block' : 'none';\n",
              "\n",
              "        async function convertToInteractive(key) {\n",
              "          const element = document.querySelector('#df-fc6964e2-dca5-418c-a958-3a27dc317cdf');\n",
              "          const dataTable =\n",
              "            await google.colab.kernel.invokeFunction('convertToInteractive',\n",
              "                                                     [key], {});\n",
              "          if (!dataTable) return;\n",
              "\n",
              "          const docLinkHtml = 'Like what you see? Visit the ' +\n",
              "            '<a target=\"_blank\" href=https://colab.research.google.com/notebooks/data_table.ipynb>data table notebook</a>'\n",
              "            + ' to learn more about interactive tables.';\n",
              "          element.innerHTML = '';\n",
              "          dataTable['output_type'] = 'display_data';\n",
              "          await google.colab.output.renderOutput(dataTable, element);\n",
              "          const docLink = document.createElement('div');\n",
              "          docLink.innerHTML = docLinkHtml;\n",
              "          element.appendChild(docLink);\n",
              "        }\n",
              "      </script>\n",
              "    </div>\n",
              "  </div>\n",
              "  "
            ]
          },
          "metadata": {},
          "execution_count": 48
        }
      ]
    },
    {
      "cell_type": "markdown",
      "metadata": {
        "id": "3NKKS_5u7YnK"
      },
      "source": [
        "## Filtering Data (5 points)\n",
        "\n",
        "Real data is usually a mess. There could be missing points, outliers, and features that could have vastly different values and ranges. \n",
        "* Machine learning models are influenced heavily by these problems \n"
      ]
    },
    {
      "cell_type": "code",
      "source": [
        "# Cheking for Missing value\n",
        "df=pd.DataFrame(data)\n",
        "data.isnull()"
      ],
      "metadata": {
        "colab": {
          "base_uri": "https://localhost:8080/",
          "height": 424
        },
        "id": "uAnzsq6kFfuO",
        "outputId": "495e132a-a394-4728-ca9d-c3fd189133ab"
      },
      "execution_count": null,
      "outputs": [
        {
          "output_type": "execute_result",
          "data": {
            "text/plain": [
              "       Time      0      1      2      3      4      5      6      7      8  \\\n",
              "0     False  False  False  False  False  False  False  False  False  False   \n",
              "1     False  False  False  False  False  False  False  False  False  False   \n",
              "2     False  False  False  False  False  False  False  False  False  False   \n",
              "3     False  False  False  False  False  False  False  False  False  False   \n",
              "4     False  False  False  False  False  False  False  False  False  False   \n",
              "...     ...    ...    ...    ...    ...    ...    ...    ...    ...    ...   \n",
              "1562  False  False  False  False  False  False  False  False  False  False   \n",
              "1563  False  False  False  False  False  False  False  False  False  False   \n",
              "1564  False  False  False  False  False  False  False  False  False   True   \n",
              "1565  False  False  False  False  False  False  False  False  False  False   \n",
              "1566  False  False  False  False  False  False  False  False  False   True   \n",
              "\n",
              "      ...    581    582    583    584    585    586    587    588    589  \\\n",
              "0     ...   True  False  False  False  False   True   True   True   True   \n",
              "1     ...  False  False  False  False  False  False  False  False  False   \n",
              "2     ...  False  False  False  False  False  False  False  False  False   \n",
              "3     ...  False  False  False  False  False  False  False  False  False   \n",
              "4     ...   True  False  False  False  False  False  False  False  False   \n",
              "...   ...    ...    ...    ...    ...    ...    ...    ...    ...    ...   \n",
              "1562  ...  False  False  False  False  False  False  False  False  False   \n",
              "1563  ...   True  False  False  False  False  False  False  False  False   \n",
              "1564  ...  False  False  False  False  False  False  False  False  False   \n",
              "1565  ...  False  False  False  False  False  False  False  False  False   \n",
              "1566  ...  False  False  False  False  False  False  False  False  False   \n",
              "\n",
              "      Pass/Fail  \n",
              "0         False  \n",
              "1         False  \n",
              "2         False  \n",
              "3         False  \n",
              "4         False  \n",
              "...         ...  \n",
              "1562      False  \n",
              "1563      False  \n",
              "1564      False  \n",
              "1565      False  \n",
              "1566      False  \n",
              "\n",
              "[1567 rows x 592 columns]"
            ],
            "text/html": [
              "\n",
              "  <div id=\"df-91b87145-e5f1-4007-9faa-208f971c9d1b\">\n",
              "    <div class=\"colab-df-container\">\n",
              "      <div>\n",
              "<style scoped>\n",
              "    .dataframe tbody tr th:only-of-type {\n",
              "        vertical-align: middle;\n",
              "    }\n",
              "\n",
              "    .dataframe tbody tr th {\n",
              "        vertical-align: top;\n",
              "    }\n",
              "\n",
              "    .dataframe thead th {\n",
              "        text-align: right;\n",
              "    }\n",
              "</style>\n",
              "<table border=\"1\" class=\"dataframe\">\n",
              "  <thead>\n",
              "    <tr style=\"text-align: right;\">\n",
              "      <th></th>\n",
              "      <th>Time</th>\n",
              "      <th>0</th>\n",
              "      <th>1</th>\n",
              "      <th>2</th>\n",
              "      <th>3</th>\n",
              "      <th>4</th>\n",
              "      <th>5</th>\n",
              "      <th>6</th>\n",
              "      <th>7</th>\n",
              "      <th>8</th>\n",
              "      <th>...</th>\n",
              "      <th>581</th>\n",
              "      <th>582</th>\n",
              "      <th>583</th>\n",
              "      <th>584</th>\n",
              "      <th>585</th>\n",
              "      <th>586</th>\n",
              "      <th>587</th>\n",
              "      <th>588</th>\n",
              "      <th>589</th>\n",
              "      <th>Pass/Fail</th>\n",
              "    </tr>\n",
              "  </thead>\n",
              "  <tbody>\n",
              "    <tr>\n",
              "      <th>0</th>\n",
              "      <td>False</td>\n",
              "      <td>False</td>\n",
              "      <td>False</td>\n",
              "      <td>False</td>\n",
              "      <td>False</td>\n",
              "      <td>False</td>\n",
              "      <td>False</td>\n",
              "      <td>False</td>\n",
              "      <td>False</td>\n",
              "      <td>False</td>\n",
              "      <td>...</td>\n",
              "      <td>True</td>\n",
              "      <td>False</td>\n",
              "      <td>False</td>\n",
              "      <td>False</td>\n",
              "      <td>False</td>\n",
              "      <td>True</td>\n",
              "      <td>True</td>\n",
              "      <td>True</td>\n",
              "      <td>True</td>\n",
              "      <td>False</td>\n",
              "    </tr>\n",
              "    <tr>\n",
              "      <th>1</th>\n",
              "      <td>False</td>\n",
              "      <td>False</td>\n",
              "      <td>False</td>\n",
              "      <td>False</td>\n",
              "      <td>False</td>\n",
              "      <td>False</td>\n",
              "      <td>False</td>\n",
              "      <td>False</td>\n",
              "      <td>False</td>\n",
              "      <td>False</td>\n",
              "      <td>...</td>\n",
              "      <td>False</td>\n",
              "      <td>False</td>\n",
              "      <td>False</td>\n",
              "      <td>False</td>\n",
              "      <td>False</td>\n",
              "      <td>False</td>\n",
              "      <td>False</td>\n",
              "      <td>False</td>\n",
              "      <td>False</td>\n",
              "      <td>False</td>\n",
              "    </tr>\n",
              "    <tr>\n",
              "      <th>2</th>\n",
              "      <td>False</td>\n",
              "      <td>False</td>\n",
              "      <td>False</td>\n",
              "      <td>False</td>\n",
              "      <td>False</td>\n",
              "      <td>False</td>\n",
              "      <td>False</td>\n",
              "      <td>False</td>\n",
              "      <td>False</td>\n",
              "      <td>False</td>\n",
              "      <td>...</td>\n",
              "      <td>False</td>\n",
              "      <td>False</td>\n",
              "      <td>False</td>\n",
              "      <td>False</td>\n",
              "      <td>False</td>\n",
              "      <td>False</td>\n",
              "      <td>False</td>\n",
              "      <td>False</td>\n",
              "      <td>False</td>\n",
              "      <td>False</td>\n",
              "    </tr>\n",
              "    <tr>\n",
              "      <th>3</th>\n",
              "      <td>False</td>\n",
              "      <td>False</td>\n",
              "      <td>False</td>\n",
              "      <td>False</td>\n",
              "      <td>False</td>\n",
              "      <td>False</td>\n",
              "      <td>False</td>\n",
              "      <td>False</td>\n",
              "      <td>False</td>\n",
              "      <td>False</td>\n",
              "      <td>...</td>\n",
              "      <td>False</td>\n",
              "      <td>False</td>\n",
              "      <td>False</td>\n",
              "      <td>False</td>\n",
              "      <td>False</td>\n",
              "      <td>False</td>\n",
              "      <td>False</td>\n",
              "      <td>False</td>\n",
              "      <td>False</td>\n",
              "      <td>False</td>\n",
              "    </tr>\n",
              "    <tr>\n",
              "      <th>4</th>\n",
              "      <td>False</td>\n",
              "      <td>False</td>\n",
              "      <td>False</td>\n",
              "      <td>False</td>\n",
              "      <td>False</td>\n",
              "      <td>False</td>\n",
              "      <td>False</td>\n",
              "      <td>False</td>\n",
              "      <td>False</td>\n",
              "      <td>False</td>\n",
              "      <td>...</td>\n",
              "      <td>True</td>\n",
              "      <td>False</td>\n",
              "      <td>False</td>\n",
              "      <td>False</td>\n",
              "      <td>False</td>\n",
              "      <td>False</td>\n",
              "      <td>False</td>\n",
              "      <td>False</td>\n",
              "      <td>False</td>\n",
              "      <td>False</td>\n",
              "    </tr>\n",
              "    <tr>\n",
              "      <th>...</th>\n",
              "      <td>...</td>\n",
              "      <td>...</td>\n",
              "      <td>...</td>\n",
              "      <td>...</td>\n",
              "      <td>...</td>\n",
              "      <td>...</td>\n",
              "      <td>...</td>\n",
              "      <td>...</td>\n",
              "      <td>...</td>\n",
              "      <td>...</td>\n",
              "      <td>...</td>\n",
              "      <td>...</td>\n",
              "      <td>...</td>\n",
              "      <td>...</td>\n",
              "      <td>...</td>\n",
              "      <td>...</td>\n",
              "      <td>...</td>\n",
              "      <td>...</td>\n",
              "      <td>...</td>\n",
              "      <td>...</td>\n",
              "      <td>...</td>\n",
              "    </tr>\n",
              "    <tr>\n",
              "      <th>1562</th>\n",
              "      <td>False</td>\n",
              "      <td>False</td>\n",
              "      <td>False</td>\n",
              "      <td>False</td>\n",
              "      <td>False</td>\n",
              "      <td>False</td>\n",
              "      <td>False</td>\n",
              "      <td>False</td>\n",
              "      <td>False</td>\n",
              "      <td>False</td>\n",
              "      <td>...</td>\n",
              "      <td>False</td>\n",
              "      <td>False</td>\n",
              "      <td>False</td>\n",
              "      <td>False</td>\n",
              "      <td>False</td>\n",
              "      <td>False</td>\n",
              "      <td>False</td>\n",
              "      <td>False</td>\n",
              "      <td>False</td>\n",
              "      <td>False</td>\n",
              "    </tr>\n",
              "    <tr>\n",
              "      <th>1563</th>\n",
              "      <td>False</td>\n",
              "      <td>False</td>\n",
              "      <td>False</td>\n",
              "      <td>False</td>\n",
              "      <td>False</td>\n",
              "      <td>False</td>\n",
              "      <td>False</td>\n",
              "      <td>False</td>\n",
              "      <td>False</td>\n",
              "      <td>False</td>\n",
              "      <td>...</td>\n",
              "      <td>True</td>\n",
              "      <td>False</td>\n",
              "      <td>False</td>\n",
              "      <td>False</td>\n",
              "      <td>False</td>\n",
              "      <td>False</td>\n",
              "      <td>False</td>\n",
              "      <td>False</td>\n",
              "      <td>False</td>\n",
              "      <td>False</td>\n",
              "    </tr>\n",
              "    <tr>\n",
              "      <th>1564</th>\n",
              "      <td>False</td>\n",
              "      <td>False</td>\n",
              "      <td>False</td>\n",
              "      <td>False</td>\n",
              "      <td>False</td>\n",
              "      <td>False</td>\n",
              "      <td>False</td>\n",
              "      <td>False</td>\n",
              "      <td>False</td>\n",
              "      <td>True</td>\n",
              "      <td>...</td>\n",
              "      <td>False</td>\n",
              "      <td>False</td>\n",
              "      <td>False</td>\n",
              "      <td>False</td>\n",
              "      <td>False</td>\n",
              "      <td>False</td>\n",
              "      <td>False</td>\n",
              "      <td>False</td>\n",
              "      <td>False</td>\n",
              "      <td>False</td>\n",
              "    </tr>\n",
              "    <tr>\n",
              "      <th>1565</th>\n",
              "      <td>False</td>\n",
              "      <td>False</td>\n",
              "      <td>False</td>\n",
              "      <td>False</td>\n",
              "      <td>False</td>\n",
              "      <td>False</td>\n",
              "      <td>False</td>\n",
              "      <td>False</td>\n",
              "      <td>False</td>\n",
              "      <td>False</td>\n",
              "      <td>...</td>\n",
              "      <td>False</td>\n",
              "      <td>False</td>\n",
              "      <td>False</td>\n",
              "      <td>False</td>\n",
              "      <td>False</td>\n",
              "      <td>False</td>\n",
              "      <td>False</td>\n",
              "      <td>False</td>\n",
              "      <td>False</td>\n",
              "      <td>False</td>\n",
              "    </tr>\n",
              "    <tr>\n",
              "      <th>1566</th>\n",
              "      <td>False</td>\n",
              "      <td>False</td>\n",
              "      <td>False</td>\n",
              "      <td>False</td>\n",
              "      <td>False</td>\n",
              "      <td>False</td>\n",
              "      <td>False</td>\n",
              "      <td>False</td>\n",
              "      <td>False</td>\n",
              "      <td>True</td>\n",
              "      <td>...</td>\n",
              "      <td>False</td>\n",
              "      <td>False</td>\n",
              "      <td>False</td>\n",
              "      <td>False</td>\n",
              "      <td>False</td>\n",
              "      <td>False</td>\n",
              "      <td>False</td>\n",
              "      <td>False</td>\n",
              "      <td>False</td>\n",
              "      <td>False</td>\n",
              "    </tr>\n",
              "  </tbody>\n",
              "</table>\n",
              "<p>1567 rows × 592 columns</p>\n",
              "</div>\n",
              "      <button class=\"colab-df-convert\" onclick=\"convertToInteractive('df-91b87145-e5f1-4007-9faa-208f971c9d1b')\"\n",
              "              title=\"Convert this dataframe to an interactive table.\"\n",
              "              style=\"display:none;\">\n",
              "        \n",
              "  <svg xmlns=\"http://www.w3.org/2000/svg\" height=\"24px\"viewBox=\"0 0 24 24\"\n",
              "       width=\"24px\">\n",
              "    <path d=\"M0 0h24v24H0V0z\" fill=\"none\"/>\n",
              "    <path d=\"M18.56 5.44l.94 2.06.94-2.06 2.06-.94-2.06-.94-.94-2.06-.94 2.06-2.06.94zm-11 1L8.5 8.5l.94-2.06 2.06-.94-2.06-.94L8.5 2.5l-.94 2.06-2.06.94zm10 10l.94 2.06.94-2.06 2.06-.94-2.06-.94-.94-2.06-.94 2.06-2.06.94z\"/><path d=\"M17.41 7.96l-1.37-1.37c-.4-.4-.92-.59-1.43-.59-.52 0-1.04.2-1.43.59L10.3 9.45l-7.72 7.72c-.78.78-.78 2.05 0 2.83L4 21.41c.39.39.9.59 1.41.59.51 0 1.02-.2 1.41-.59l7.78-7.78 2.81-2.81c.8-.78.8-2.07 0-2.86zM5.41 20L4 18.59l7.72-7.72 1.47 1.35L5.41 20z\"/>\n",
              "  </svg>\n",
              "      </button>\n",
              "      \n",
              "  <style>\n",
              "    .colab-df-container {\n",
              "      display:flex;\n",
              "      flex-wrap:wrap;\n",
              "      gap: 12px;\n",
              "    }\n",
              "\n",
              "    .colab-df-convert {\n",
              "      background-color: #E8F0FE;\n",
              "      border: none;\n",
              "      border-radius: 50%;\n",
              "      cursor: pointer;\n",
              "      display: none;\n",
              "      fill: #1967D2;\n",
              "      height: 32px;\n",
              "      padding: 0 0 0 0;\n",
              "      width: 32px;\n",
              "    }\n",
              "\n",
              "    .colab-df-convert:hover {\n",
              "      background-color: #E2EBFA;\n",
              "      box-shadow: 0px 1px 2px rgba(60, 64, 67, 0.3), 0px 1px 3px 1px rgba(60, 64, 67, 0.15);\n",
              "      fill: #174EA6;\n",
              "    }\n",
              "\n",
              "    [theme=dark] .colab-df-convert {\n",
              "      background-color: #3B4455;\n",
              "      fill: #D2E3FC;\n",
              "    }\n",
              "\n",
              "    [theme=dark] .colab-df-convert:hover {\n",
              "      background-color: #434B5C;\n",
              "      box-shadow: 0px 1px 3px 1px rgba(0, 0, 0, 0.15);\n",
              "      filter: drop-shadow(0px 1px 2px rgba(0, 0, 0, 0.3));\n",
              "      fill: #FFFFFF;\n",
              "    }\n",
              "  </style>\n",
              "\n",
              "      <script>\n",
              "        const buttonEl =\n",
              "          document.querySelector('#df-91b87145-e5f1-4007-9faa-208f971c9d1b button.colab-df-convert');\n",
              "        buttonEl.style.display =\n",
              "          google.colab.kernel.accessAllowed ? 'block' : 'none';\n",
              "\n",
              "        async function convertToInteractive(key) {\n",
              "          const element = document.querySelector('#df-91b87145-e5f1-4007-9faa-208f971c9d1b');\n",
              "          const dataTable =\n",
              "            await google.colab.kernel.invokeFunction('convertToInteractive',\n",
              "                                                     [key], {});\n",
              "          if (!dataTable) return;\n",
              "\n",
              "          const docLinkHtml = 'Like what you see? Visit the ' +\n",
              "            '<a target=\"_blank\" href=https://colab.research.google.com/notebooks/data_table.ipynb>data table notebook</a>'\n",
              "            + ' to learn more about interactive tables.';\n",
              "          element.innerHTML = '';\n",
              "          dataTable['output_type'] = 'display_data';\n",
              "          await google.colab.output.renderOutput(dataTable, element);\n",
              "          const docLink = document.createElement('div');\n",
              "          docLink.innerHTML = docLinkHtml;\n",
              "          element.appendChild(docLink);\n",
              "        }\n",
              "      </script>\n",
              "    </div>\n",
              "  </div>\n",
              "  "
            ]
          },
          "metadata": {},
          "execution_count": 49
        }
      ]
    },
    {
      "cell_type": "markdown",
      "metadata": {
        "id": "1xSlB6LC7YnL"
      },
      "source": [
        "### Fixing Missing Values (5 Points)\n",
        "\n",
        "1. It is not uncommon that some of the features have only a few entries. These are not helpful for machine learning. We should just remove these features from the data\n",
        "\n",
        "It is good to visualize how many missing values each feature has."
      ]
    },
    {
      "cell_type": "code",
      "source": [
        "data.isnull().sum()"
      ],
      "metadata": {
        "colab": {
          "base_uri": "https://localhost:8080/"
        },
        "id": "mJdIn8WR9GEN",
        "outputId": "fd379cb9-58fc-4674-810c-c4423d65d486"
      },
      "execution_count": null,
      "outputs": [
        {
          "output_type": "execute_result",
          "data": {
            "text/plain": [
              "Time          0\n",
              "0             6\n",
              "1             7\n",
              "2            14\n",
              "3            14\n",
              "             ..\n",
              "586           1\n",
              "587           1\n",
              "588           1\n",
              "589           1\n",
              "Pass/Fail     0\n",
              "Length: 592, dtype: int64"
            ]
          },
          "metadata": {},
          "execution_count": 56
        }
      ]
    },
    {
      "cell_type": "code",
      "source": [
        "nan_count_column = data.isnull().sum()"
      ],
      "metadata": {
        "id": "7UpDLePsRz8c"
      },
      "execution_count": null,
      "outputs": []
    },
    {
      "cell_type": "markdown",
      "metadata": {
        "id": "kq9_kfR27YnL"
      },
      "source": [
        "### Plotting the Missing Data Entries (5 points)\n",
        "\n",
        "Hint: you can find the nan values with the `.isna()` method, and the sum using `.sum()`\n",
        "\n",
        "You can plot the data using `px.histogram`"
      ]
    },
    {
      "cell_type": "code",
      "source": [
        "px.histogram(data,x=\"1\")"
      ],
      "metadata": {
        "colab": {
          "base_uri": "https://localhost:8080/",
          "height": 542
        },
        "id": "XNOGClNDW19n",
        "outputId": "9e424161-9b23-401e-ca36-582e6781b501"
      },
      "execution_count": null,
      "outputs": [
        {
          "output_type": "display_data",
          "data": {
            "text/html": [
              "<html>\n",
              "<head><meta charset=\"utf-8\" /></head>\n",
              "<body>\n",
              "    <div>            <script src=\"https://cdnjs.cloudflare.com/ajax/libs/mathjax/2.7.5/MathJax.js?config=TeX-AMS-MML_SVG\"></script><script type=\"text/javascript\">if (window.MathJax) {MathJax.Hub.Config({SVG: {font: \"STIX-Web\"}});}</script>                <script type=\"text/javascript\">window.PlotlyConfig = {MathJaxConfig: 'local'};</script>\n",
              "        <script src=\"https://cdn.plot.ly/plotly-2.8.3.min.js\"></script>                <div id=\"d0d9704e-630a-4fea-ad2b-e1c7f1abd15f\" class=\"plotly-graph-div\" style=\"height:525px; width:100%;\"></div>            <script type=\"text/javascript\">                                    window.PLOTLYENV=window.PLOTLYENV || {};                                    if (document.getElementById(\"d0d9704e-630a-4fea-ad2b-e1c7f1abd15f\")) {                    Plotly.newPlot(                        \"d0d9704e-630a-4fea-ad2b-e1c7f1abd15f\",                        [{\"alignmentgroup\":\"True\",\"bingroup\":\"x\",\"hovertemplate\":\"1=%{x}<br>count=%{y}<extra></extra>\",\"legendgroup\":\"\",\"marker\":{\"color\":\"#636efa\",\"pattern\":{\"shape\":\"\"}},\"name\":\"\",\"offsetgroup\":\"\",\"orientation\":\"v\",\"showlegend\":false,\"x\":[2564.0,2465.14,2559.94,2479.9,2502.87,2432.84,2430.12,2690.15,2600.47,2428.37,2548.21,2479.4,2507.4,2529.27,2629.48,2546.26,2560.87,2517.79,2501.16,2519.05,2528.81,2481.85,2497.45,2514.54,2632.8,2446.56,2456.33,2607.63,2431.57,2529.11,2489.7,2492.36,2524.18,2566.35,2457.64,2477.35,2445.44,2302.46,2542.24,2530.67,2545.71,2517.18,2503.46,2748.67,2490.71,2446.25,2475.53,2788.4,2345.95,2533.91,2446.74,2520.21,2466.78,2484.31,2398.44,2809.79,2569.81,2586.05,2388.74,2481.28,2694.31,2541.92,2483.66,2492.8,2628.76,2461.38,2544.52,2508.28,2702.64,2565.8,2315.76,2375.49,2623.1,2424.37,2450.25,2492.29,2500.41,2505.73,2500.81,2531.75,2537.35,2417.85,2502.62,2459.87,2503.59,2565.03,2739.19,2655.37,2531.98,2414.83,2519.68,2547.43,2447.89,2478.55,2545.34,2560.99,2467.07,2453.82,2537.9,2544.52,2526.82,2439.13,2459.62,2436.17,2523.08,2474.05,2433.96,2607.75,2479.17,2395.85,2437.69,2583.78,2485.57,2523.21,2418.83,2502.05,2307.24,2810.12,2496.73,2512.49,2481.43,2495.35,2518.21,2468.33,2534.74,2416.73,2460.08,2690.99,2502.96,2481.09,2634.3,2714.3,2531.34,2432.85,2477.86,2567.29,2490.86,2497.58,2576.84,2473.27,2581.07,2587.6,2364.73,2374.5,2539.37,2394.58,2406.22,2515.3,2581.93,2537.4,2522.16,2494.55,2560.67,2557.94,2359.01,2525.33,2492.14,2491.19,2524.44,2456.17,2468.41,2546.75,2517.09,2474.32,2447.29,2581.18,2469.6,2529.16,2493.32,2508.56,2465.07,2335.06,2576.94,2320.05,2486.59,2521.23,2505.4,2501.93,2514.66,2480.64,2504.38,2543.11,2497.03,2455.14,2485.0,2511.09,2509.65,2662.19,2391.71,2480.9,2553.6,2487.16,2436.12,2521.24,2401.53,2559.12,2553.04,2496.56,2538.75,2706.54,2550.51,2511.14,2632.88,2279.48,2384.66,2551.84,2559.07,2539.78,2540.95,2464.39,2506.27,2332.39,2526.22,2631.47,2491.55,2466.36,2441.61,2162.87,2521.84,2480.54,2548.95,2439.31,2463.11,2474.95,2502.62,2287.9,2470.14,2472.13,2489.91,2257.81,2378.95,null,2444.55,2478.99,2604.26,2490.25,2458.15,2494.37,2444.09,2344.91,2483.06,2467.49,2491.6,2593.63,2470.81,2616.63,2509.8,2483.74,2549.73,2402.57,2463.51,2382.03,2513.68,2570.13,2523.55,2549.89,2349.48,2498.28,2308.6,2494.25,2460.94,2483.97,2570.42,2464.8,2377.27,2561.1,2581.67,2610.78,2503.32,2443.68,2291.92,2587.27,2554.29,2575.68,2337.96,2575.71,2734.33,2408.46,2488.5,2513.05,2573.74,2374.64,2522.9,2537.88,2539.73,2629.06,2533.49,2693.16,2535.19,2509.19,2786.97,2672.94,2459.56,2457.92,2509.24,2467.11,2533.75,2505.03,2356.94,2524.25,2611.21,2486.48,2487.46,null,2436.77,2483.52,2417.7,2312.14,2414.48,2477.46,2453.54,2540.19,2515.55,2520.85,2529.42,2461.89,2575.71,2450.48,2512.51,2421.45,2442.26,2526.22,2413.92,2286.25,2584.15,2393.78,2499.72,2559.27,2490.06,2431.54,2526.29,2273.46,2496.08,2405.53,2475.67,2484.62,2551.17,2412.41,2273.8,2453.47,2531.63,2567.68,2512.99,2536.56,2439.82,2453.91,2478.62,2709.45,2379.96,2569.58,2517.54,2517.34,2391.47,2408.4,2479.69,2503.69,2495.4,2226.99,2450.05,2590.8,2421.45,2270.68,2401.8,2547.84,2333.96,2460.91,2546.27,2516.11,2574.32,2456.65,2510.08,2475.5,2605.26,2478.88,2502.34,2479.93,2512.14,2288.05,2462.82,2523.6,2513.28,2560.91,2436.01,2305.52,2375.55,2570.93,2311.42,2555.49,2474.41,2578.76,2434.0,2566.22,2488.76,2512.97,2491.13,2371.45,2478.97,2735.65,2310.29,2533.52,2441.22,2318.95,2587.3,2490.54,2490.92,2501.63,2518.96,2502.06,2364.31,2419.83,2514.3,2488.49,2501.88,2536.43,2467.94,2577.27,2532.88,2434.32,2535.82,2539.46,2675.58,2460.11,2436.69,2281.3,2297.3,2405.56,2541.21,2364.78,2457.08,2396.4,2592.29,2439.0,2506.39,2605.48,2417.04,2526.73,2489.47,2496.54,2467.8,2370.5,2500.27,2514.95,2644.32,2354.51,2656.84,2601.98,2653.23,2505.83,2523.71,2516.11,2446.96,2406.58,2481.04,2520.91,2474.97,2534.62,2460.19,2490.68,2611.98,2501.03,2705.16,2378.77,2481.59,2362.09,2673.41,2556.22,2473.49,2636.69,2465.16,2531.25,2504.5,2570.13,2412.53,2187.67,2566.94,2500.59,2459.21,2558.81,2493.12,2377.89,2340.05,2425.16,2441.12,2521.76,2459.39,2485.5,2446.92,2406.4,2550.52,2391.09,2487.45,2461.28,2484.78,2441.16,2473.34,2536.48,2480.51,2471.01,2614.99,2619.88,2474.37,2550.52,2445.54,2534.91,2349.27,2600.07,2561.99,2606.0,2527.25,2506.32,2693.2,2662.7,2526.16,2598.02,2523.36,2480.48,2492.81,2516.33,2384.19,2473.54,2533.76,2575.39,2502.25,2720.38,2506.19,2505.35,2491.9,2508.22,2547.83,2186.06,2158.75,2511.92,2505.17,2357.99,2475.18,2538.05,2569.67,2626.13,2651.37,2480.42,2487.08,2442.47,2560.69,2503.86,2436.39,2695.57,2506.42,2563.58,2564.91,2568.35,2585.06,2462.64,2456.56,2370.72,2436.85,2413.65,2548.34,2545.77,2449.26,2471.62,2590.95,2436.38,2518.44,2559.32,2321.45,2538.43,2484.55,2403.47,2571.21,2458.12,2496.55,2508.1,2515.97,2576.19,2607.33,2560.92,2425.46,2532.81,2573.36,2493.85,2497.09,2666.04,2497.49,2497.56,2501.48,2440.82,2449.17,2481.2,2527.77,2484.78,2574.32,2568.93,2323.34,2505.38,2355.11,2468.91,2513.26,2547.13,2508.86,2573.59,2508.09,2369.95,2449.16,2574.48,2499.72,2436.65,2542.34,2477.72,2698.14,2509.22,null,2573.09,2480.11,2541.13,2564.29,2435.99,2690.55,2641.11,2498.91,2574.53,2329.66,2573.21,2468.65,2517.65,2487.66,2492.4,2485.99,2473.55,2420.25,2459.5,2584.75,2281.35,2565.47,2685.06,2449.25,2524.09,2221.1,2521.85,2691.96,2615.96,2455.32,2497.13,2541.12,2487.83,2610.62,2467.4,2373.03,2614.54,2363.52,2482.88,2449.48,2478.81,2447.28,2411.42,2504.66,2440.21,2591.83,2512.79,2473.39,2515.32,2513.79,2428.95,2433.99,2604.99,2546.78,2386.33,2428.25,2471.74,2419.18,2481.53,2545.48,2459.14,2505.7,2523.93,2393.56,2366.36,2514.76,2432.02,2669.09,2605.97,2397.92,2556.62,2461.41,2715.5,2442.71,2380.33,2446.06,2451.12,2521.41,2314.35,2379.31,2541.55,2292.4,2540.36,2286.45,2539.47,2440.05,2474.3,2443.39,2526.22,2472.68,2491.13,null,2559.7,2560.75,2482.61,2503.09,2506.6,2479.24,2485.81,2519.87,2476.75,2329.44,2476.95,2464.33,2459.22,2543.62,2445.17,2513.22,2522.32,2498.3,2432.18,2502.48,2516.95,2512.65,2608.11,2583.36,2508.03,2523.94,2510.76,2442.45,2353.21,2484.27,2361.5,2533.45,2636.81,2415.87,2437.82,2441.8,2483.44,2540.97,2539.59,2512.38,2448.07,2469.13,2531.05,2502.44,2540.35,2728.28,2505.62,2557.58,2590.45,2474.6,2423.57,2727.56,2525.29,2504.86,2477.47,2517.22,2542.64,2491.23,2530.67,2487.01,2455.05,2511.37,2504.44,2463.06,2583.6,2560.61,2368.34,2431.66,2529.08,2415.75,2452.28,2377.97,2523.65,2492.24,2525.16,2474.94,2582.08,2625.2,2517.25,2466.86,2570.5,2575.33,2504.94,2579.84,2432.09,2435.47,2470.21,2574.45,2488.5,2566.79,2501.91,2535.71,2448.37,2314.52,2512.61,2510.72,2535.07,2508.8,2308.45,2483.93,2618.25,2518.47,2453.53,2531.16,2519.26,2472.23,2294.01,2595.82,2403.21,2598.94,2846.44,2551.08,2470.95,2461.82,2502.89,2392.0,2478.51,2470.26,2565.53,2435.9,2544.1,2563.08,2484.44,2443.1,2504.01,2256.12,2462.06,2476.58,2506.43,2500.68,2419.83,2435.34,2537.66,2504.86,2360.04,2545.68,2619.6,2460.05,2504.21,2445.2,2431.35,2519.92,2544.64,2440.93,2528.74,2514.67,2596.63,2453.97,2468.56,2517.5,2414.29,2577.23,2489.15,2525.0,2254.99,2499.68,2420.32,2453.78,2372.79,2474.88,2471.97,2530.63,2528.5,2493.03,2424.13,2522.76,2499.75,2500.13,2522.41,2447.06,2404.13,2488.96,2441.68,2515.91,2453.75,2568.32,2532.66,2440.08,2533.04,2571.18,2515.63,2464.4,2532.45,2510.59,2535.14,2456.75,2664.52,2642.15,2448.82,2598.22,2405.62,2500.26,2518.5,2527.2,2439.59,2480.05,2524.6,2473.1,2545.53,2559.8,2286.09,2456.25,2526.19,2507.22,2417.34,2454.8,2412.76,2483.71,2387.23,2492.27,2437.21,2471.5,2400.4,2479.77,2536.68,2391.2,2593.09,2494.75,2506.56,2572.62,2572.78,2391.56,2526.44,2477.01,2387.42,2541.89,2465.11,2431.93,2461.58,2433.67,2484.9,2368.12,2430.6,2496.01,2531.81,2555.69,2521.25,2440.94,2467.5,2539.58,2470.28,2495.7,2475.5,2508.52,2451.82,2705.0,2540.07,2469.1,2442.49,2501.0,2516.47,2528.73,2538.74,2461.17,2438.56,2370.44,2620.96,2586.86,2526.85,2512.03,2447.43,2577.44,2456.68,2524.91,2426.86,2462.75,2469.59,2539.01,2403.24,2473.67,2457.64,2467.4,2508.88,2498.67,2481.52,2494.58,2445.41,2377.31,2614.51,2420.35,2415.79,2428.2,2498.77,2510.24,2395.39,2347.02,2522.16,2411.35,2517.42,2520.63,2524.57,2547.79,2528.21,2569.45,2351.94,2453.25,2444.87,2435.14,2533.92,2495.16,2481.56,2483.66,2570.44,2434.6,2476.8,2460.59,2423.38,2500.25,2509.62,2590.8,2497.76,2397.99,2449.84,2463.72,2353.23,2622.6,2494.57,2516.35,2553.9,2548.91,2405.53,2361.71,2557.37,2554.21,2488.15,2561.21,2584.79,2467.18,2430.03,2533.95,2500.9,2497.58,2428.85,2441.17,2448.38,2517.09,2570.46,2440.29,2465.42,2506.0,2674.54,2538.56,2551.27,2465.62,2505.27,2488.9,2481.64,2408.28,2422.48,2522.35,2446.47,2577.44,2515.83,2481.32,2409.49,2444.92,2398.66,2519.77,2621.33,2422.0,2596.71,2536.82,2558.28,2531.78,2579.88,2496.09,2541.27,2572.15,2569.69,2327.29,2501.13,2504.96,2490.26,2517.04,2493.13,2483.29,2485.64,2473.48,2573.39,2421.7,2538.44,null,2507.04,2481.37,2588.52,2553.54,2463.23,2524.62,2540.03,2316.01,2266.53,2438.58,2448.68,2491.31,2592.56,2458.09,2304.83,2489.76,2450.29,2509.54,2627.29,2443.66,2500.01,2545.83,2493.2,2563.53,2607.01,2571.06,2501.26,2578.76,2424.52,2533.39,2520.4,2475.59,2595.74,2496.49,2376.27,2450.49,2512.1,2577.58,2398.4,2562.2,2517.21,2432.83,2476.1,2630.42,2450.31,2447.22,2567.48,2532.4,2485.8,2427.2,2573.37,2452.15,2552.96,2605.97,2628.68,2555.27,2552.65,2431.12,2456.06,2518.89,2382.18,2495.58,2522.77,2512.14,2499.04,2438.11,2539.5,2528.73,2510.26,2435.85,2563.28,2574.38,2397.74,2449.84,2365.17,2412.64,2401.5,2558.88,2492.72,2462.09,2539.61,2452.1,2523.21,2502.42,2508.94,2595.7,2618.12,2585.92,2391.87,2464.45,2546.74,2418.41,2453.34,2503.52,2496.32,2479.17,2472.6,2631.92,2611.65,2490.63,2500.85,2441.12,2549.21,2603.92,2534.16,2257.95,2266.0,2474.9,2514.52,2485.73,2449.59,2567.33,2512.44,2491.07,2530.99,2491.01,2501.26,2462.85,2486.94,2501.91,2454.38,2587.37,2548.76,2572.85,2522.03,2473.65,2524.13,2446.38,2233.29,2629.96,2565.73,2439.42,2545.77,null,2521.93,2574.34,2553.64,null,2572.48,2427.36,2487.12,2555.41,2457.42,2502.09,2493.34,2544.85,2563.75,2489.86,2523.78,2413.39,2522.4,2547.2,2567.76,2571.41,2532.3,2506.21,2530.11,2512.77,2486.53,2446.49,2357.09,2501.54,2519.92,2514.38,2405.19,2537.68,2525.84,2459.56,2525.56,2598.77,2510.19,2487.1,2434.42,2673.38,2424.11,2384.04,2467.44,2541.55,2459.87,2507.57,2485.82,2548.79,2500.38,2412.91,2477.25,2396.64,2423.98,2579.49,2484.43,2523.94,2582.12,2517.11,2524.88,2465.32,2488.94,2464.86,2497.33,2525.39,2538.76,2576.98,2429.47,2486.23,2504.01,2520.88,2485.47,2493.56,2583.05,2551.06,2450.89,2563.19,2414.63,2503.18,2415.79,2537.39,2449.21,2503.48,2563.64,2473.14,2588.74,2440.56,2462.34,2532.78,2414.43,2419.55,2453.45,2568.55,2535.93,2527.32,2839.46,2474.55,2459.02,2545.4,2512.63,2472.92,2438.17,2535.43,2516.34,2577.39,2555.88,2410.53,2587.86,2461.08,2565.93,2369.84,2425.3,2541.13,2506.62,2408.85,2566.3,2744.54,2529.79,2551.78,2496.52,2555.01,2472.74,2532.34,2556.35,2406.11,2467.73,2474.97,2534.49,2442.51,2449.85,2540.17,2446.55,2584.52,2529.9,2584.24,2483.2,2494.33,2386.26,2517.44,2527.68,2451.85,2534.68,2538.13,2580.44,2465.51,2559.42,2470.6,2493.72,2538.52,2499.46,2806.91,2424.95,2508.03,2525.74,2493.03,2457.48,2581.64,2594.52,2494.43,2580.25,2480.71,2494.82,2456.82,2593.67,2583.01,2499.15,2465.71,2514.44,2541.6,2484.71,2538.38,2556.95,2504.2,2442.6,2424.39,2560.38,2477.75,2427.14,2475.9,2550.88,2573.94,2521.49,2515.51,2583.56,2493.11,2430.7,2498.09,2516.64,2454.33,2460.97,2634.43,2489.07,2403.89,2420.03,2516.06,2528.67,2384.1,2441.77,2419.25,2599.93,2574.7,2493.21,2517.35,2564.93,2434.79,2470.5,2387.73,2265.6,2516.4,2448.34,2500.05,2458.9,2380.39,2259.49,2481.72,2585.72,2815.31,2524.95,2557.2,2507.02,2477.13,2458.88,2479.73,2489.53,2521.87,2428.64,2534.66,2373.31,2496.67,2553.24,2597.0,2445.56,2574.43,2510.09,2423.75,2504.48,2393.97,2507.66,2497.62,2531.02,2504.81,2536.87,2527.7,2451.5,2509.14,2507.74,2590.62,2449.49,2530.97,2444.69,2451.53,2547.65,2493.72,2383.76,2424.39,2349.85,2538.41,2472.41,2477.37,2417.92,2515.15,2426.76,2482.88,2590.88,2542.56,2548.46,2507.01,2556.64,2432.38,2512.75,2494.39,2480.56,2538.37,2444.67,2499.35,2549.85,2498.02,2459.97,2528.59,2543.1,2505.29,2451.31,2404.67,2546.24,2506.0,2483.77,2493.47,2529.82,2515.46,2512.02,2354.5,2485.99,2588.36,2501.05,2580.67,2608.21,2447.26,2416.09,2430.37,2575.41,2276.93,2585.48,2465.43,2481.99,2531.5,2538.33,2389.91,2611.5,2530.96,2401.59,2499.72,2452.52,2354.24,2437.76,2563.95,2417.43,2558.56,2532.71,2465.54,2525.2,2367.16,2560.99,2555.92,2499.79,2487.91,2447.97,2537.73,2490.6,2488.18,2542.36,2464.98,2498.0,2406.47,2489.06,2521.98,2500.19,2528.55,2515.03,2503.3,2534.87,2466.84,2456.13,2549.42,2326.59,2464.36,2522.55,2379.78,2532.01,2450.76],\"xaxis\":\"x\",\"yaxis\":\"y\",\"type\":\"histogram\"}],                        {\"template\":{\"data\":{\"bar\":[{\"error_x\":{\"color\":\"#2a3f5f\"},\"error_y\":{\"color\":\"#2a3f5f\"},\"marker\":{\"line\":{\"color\":\"#E5ECF6\",\"width\":0.5},\"pattern\":{\"fillmode\":\"overlay\",\"size\":10,\"solidity\":0.2}},\"type\":\"bar\"}],\"barpolar\":[{\"marker\":{\"line\":{\"color\":\"#E5ECF6\",\"width\":0.5},\"pattern\":{\"fillmode\":\"overlay\",\"size\":10,\"solidity\":0.2}},\"type\":\"barpolar\"}],\"carpet\":[{\"aaxis\":{\"endlinecolor\":\"#2a3f5f\",\"gridcolor\":\"white\",\"linecolor\":\"white\",\"minorgridcolor\":\"white\",\"startlinecolor\":\"#2a3f5f\"},\"baxis\":{\"endlinecolor\":\"#2a3f5f\",\"gridcolor\":\"white\",\"linecolor\":\"white\",\"minorgridcolor\":\"white\",\"startlinecolor\":\"#2a3f5f\"},\"type\":\"carpet\"}],\"choropleth\":[{\"colorbar\":{\"outlinewidth\":0,\"ticks\":\"\"},\"type\":\"choropleth\"}],\"contour\":[{\"colorbar\":{\"outlinewidth\":0,\"ticks\":\"\"},\"colorscale\":[[0.0,\"#0d0887\"],[0.1111111111111111,\"#46039f\"],[0.2222222222222222,\"#7201a8\"],[0.3333333333333333,\"#9c179e\"],[0.4444444444444444,\"#bd3786\"],[0.5555555555555556,\"#d8576b\"],[0.6666666666666666,\"#ed7953\"],[0.7777777777777778,\"#fb9f3a\"],[0.8888888888888888,\"#fdca26\"],[1.0,\"#f0f921\"]],\"type\":\"contour\"}],\"contourcarpet\":[{\"colorbar\":{\"outlinewidth\":0,\"ticks\":\"\"},\"type\":\"contourcarpet\"}],\"heatmap\":[{\"colorbar\":{\"outlinewidth\":0,\"ticks\":\"\"},\"colorscale\":[[0.0,\"#0d0887\"],[0.1111111111111111,\"#46039f\"],[0.2222222222222222,\"#7201a8\"],[0.3333333333333333,\"#9c179e\"],[0.4444444444444444,\"#bd3786\"],[0.5555555555555556,\"#d8576b\"],[0.6666666666666666,\"#ed7953\"],[0.7777777777777778,\"#fb9f3a\"],[0.8888888888888888,\"#fdca26\"],[1.0,\"#f0f921\"]],\"type\":\"heatmap\"}],\"heatmapgl\":[{\"colorbar\":{\"outlinewidth\":0,\"ticks\":\"\"},\"colorscale\":[[0.0,\"#0d0887\"],[0.1111111111111111,\"#46039f\"],[0.2222222222222222,\"#7201a8\"],[0.3333333333333333,\"#9c179e\"],[0.4444444444444444,\"#bd3786\"],[0.5555555555555556,\"#d8576b\"],[0.6666666666666666,\"#ed7953\"],[0.7777777777777778,\"#fb9f3a\"],[0.8888888888888888,\"#fdca26\"],[1.0,\"#f0f921\"]],\"type\":\"heatmapgl\"}],\"histogram\":[{\"marker\":{\"pattern\":{\"fillmode\":\"overlay\",\"size\":10,\"solidity\":0.2}},\"type\":\"histogram\"}],\"histogram2d\":[{\"colorbar\":{\"outlinewidth\":0,\"ticks\":\"\"},\"colorscale\":[[0.0,\"#0d0887\"],[0.1111111111111111,\"#46039f\"],[0.2222222222222222,\"#7201a8\"],[0.3333333333333333,\"#9c179e\"],[0.4444444444444444,\"#bd3786\"],[0.5555555555555556,\"#d8576b\"],[0.6666666666666666,\"#ed7953\"],[0.7777777777777778,\"#fb9f3a\"],[0.8888888888888888,\"#fdca26\"],[1.0,\"#f0f921\"]],\"type\":\"histogram2d\"}],\"histogram2dcontour\":[{\"colorbar\":{\"outlinewidth\":0,\"ticks\":\"\"},\"colorscale\":[[0.0,\"#0d0887\"],[0.1111111111111111,\"#46039f\"],[0.2222222222222222,\"#7201a8\"],[0.3333333333333333,\"#9c179e\"],[0.4444444444444444,\"#bd3786\"],[0.5555555555555556,\"#d8576b\"],[0.6666666666666666,\"#ed7953\"],[0.7777777777777778,\"#fb9f3a\"],[0.8888888888888888,\"#fdca26\"],[1.0,\"#f0f921\"]],\"type\":\"histogram2dcontour\"}],\"mesh3d\":[{\"colorbar\":{\"outlinewidth\":0,\"ticks\":\"\"},\"type\":\"mesh3d\"}],\"parcoords\":[{\"line\":{\"colorbar\":{\"outlinewidth\":0,\"ticks\":\"\"}},\"type\":\"parcoords\"}],\"pie\":[{\"automargin\":true,\"type\":\"pie\"}],\"scatter\":[{\"marker\":{\"colorbar\":{\"outlinewidth\":0,\"ticks\":\"\"}},\"type\":\"scatter\"}],\"scatter3d\":[{\"line\":{\"colorbar\":{\"outlinewidth\":0,\"ticks\":\"\"}},\"marker\":{\"colorbar\":{\"outlinewidth\":0,\"ticks\":\"\"}},\"type\":\"scatter3d\"}],\"scattercarpet\":[{\"marker\":{\"colorbar\":{\"outlinewidth\":0,\"ticks\":\"\"}},\"type\":\"scattercarpet\"}],\"scattergeo\":[{\"marker\":{\"colorbar\":{\"outlinewidth\":0,\"ticks\":\"\"}},\"type\":\"scattergeo\"}],\"scattergl\":[{\"marker\":{\"colorbar\":{\"outlinewidth\":0,\"ticks\":\"\"}},\"type\":\"scattergl\"}],\"scattermapbox\":[{\"marker\":{\"colorbar\":{\"outlinewidth\":0,\"ticks\":\"\"}},\"type\":\"scattermapbox\"}],\"scatterpolar\":[{\"marker\":{\"colorbar\":{\"outlinewidth\":0,\"ticks\":\"\"}},\"type\":\"scatterpolar\"}],\"scatterpolargl\":[{\"marker\":{\"colorbar\":{\"outlinewidth\":0,\"ticks\":\"\"}},\"type\":\"scatterpolargl\"}],\"scatterternary\":[{\"marker\":{\"colorbar\":{\"outlinewidth\":0,\"ticks\":\"\"}},\"type\":\"scatterternary\"}],\"surface\":[{\"colorbar\":{\"outlinewidth\":0,\"ticks\":\"\"},\"colorscale\":[[0.0,\"#0d0887\"],[0.1111111111111111,\"#46039f\"],[0.2222222222222222,\"#7201a8\"],[0.3333333333333333,\"#9c179e\"],[0.4444444444444444,\"#bd3786\"],[0.5555555555555556,\"#d8576b\"],[0.6666666666666666,\"#ed7953\"],[0.7777777777777778,\"#fb9f3a\"],[0.8888888888888888,\"#fdca26\"],[1.0,\"#f0f921\"]],\"type\":\"surface\"}],\"table\":[{\"cells\":{\"fill\":{\"color\":\"#EBF0F8\"},\"line\":{\"color\":\"white\"}},\"header\":{\"fill\":{\"color\":\"#C8D4E3\"},\"line\":{\"color\":\"white\"}},\"type\":\"table\"}]},\"layout\":{\"annotationdefaults\":{\"arrowcolor\":\"#2a3f5f\",\"arrowhead\":0,\"arrowwidth\":1},\"autotypenumbers\":\"strict\",\"coloraxis\":{\"colorbar\":{\"outlinewidth\":0,\"ticks\":\"\"}},\"colorscale\":{\"diverging\":[[0,\"#8e0152\"],[0.1,\"#c51b7d\"],[0.2,\"#de77ae\"],[0.3,\"#f1b6da\"],[0.4,\"#fde0ef\"],[0.5,\"#f7f7f7\"],[0.6,\"#e6f5d0\"],[0.7,\"#b8e186\"],[0.8,\"#7fbc41\"],[0.9,\"#4d9221\"],[1,\"#276419\"]],\"sequential\":[[0.0,\"#0d0887\"],[0.1111111111111111,\"#46039f\"],[0.2222222222222222,\"#7201a8\"],[0.3333333333333333,\"#9c179e\"],[0.4444444444444444,\"#bd3786\"],[0.5555555555555556,\"#d8576b\"],[0.6666666666666666,\"#ed7953\"],[0.7777777777777778,\"#fb9f3a\"],[0.8888888888888888,\"#fdca26\"],[1.0,\"#f0f921\"]],\"sequentialminus\":[[0.0,\"#0d0887\"],[0.1111111111111111,\"#46039f\"],[0.2222222222222222,\"#7201a8\"],[0.3333333333333333,\"#9c179e\"],[0.4444444444444444,\"#bd3786\"],[0.5555555555555556,\"#d8576b\"],[0.6666666666666666,\"#ed7953\"],[0.7777777777777778,\"#fb9f3a\"],[0.8888888888888888,\"#fdca26\"],[1.0,\"#f0f921\"]]},\"colorway\":[\"#636efa\",\"#EF553B\",\"#00cc96\",\"#ab63fa\",\"#FFA15A\",\"#19d3f3\",\"#FF6692\",\"#B6E880\",\"#FF97FF\",\"#FECB52\"],\"font\":{\"color\":\"#2a3f5f\"},\"geo\":{\"bgcolor\":\"white\",\"lakecolor\":\"white\",\"landcolor\":\"#E5ECF6\",\"showlakes\":true,\"showland\":true,\"subunitcolor\":\"white\"},\"hoverlabel\":{\"align\":\"left\"},\"hovermode\":\"closest\",\"mapbox\":{\"style\":\"light\"},\"paper_bgcolor\":\"white\",\"plot_bgcolor\":\"#E5ECF6\",\"polar\":{\"angularaxis\":{\"gridcolor\":\"white\",\"linecolor\":\"white\",\"ticks\":\"\"},\"bgcolor\":\"#E5ECF6\",\"radialaxis\":{\"gridcolor\":\"white\",\"linecolor\":\"white\",\"ticks\":\"\"}},\"scene\":{\"xaxis\":{\"backgroundcolor\":\"#E5ECF6\",\"gridcolor\":\"white\",\"gridwidth\":2,\"linecolor\":\"white\",\"showbackground\":true,\"ticks\":\"\",\"zerolinecolor\":\"white\"},\"yaxis\":{\"backgroundcolor\":\"#E5ECF6\",\"gridcolor\":\"white\",\"gridwidth\":2,\"linecolor\":\"white\",\"showbackground\":true,\"ticks\":\"\",\"zerolinecolor\":\"white\"},\"zaxis\":{\"backgroundcolor\":\"#E5ECF6\",\"gridcolor\":\"white\",\"gridwidth\":2,\"linecolor\":\"white\",\"showbackground\":true,\"ticks\":\"\",\"zerolinecolor\":\"white\"}},\"shapedefaults\":{\"line\":{\"color\":\"#2a3f5f\"}},\"ternary\":{\"aaxis\":{\"gridcolor\":\"white\",\"linecolor\":\"white\",\"ticks\":\"\"},\"baxis\":{\"gridcolor\":\"white\",\"linecolor\":\"white\",\"ticks\":\"\"},\"bgcolor\":\"#E5ECF6\",\"caxis\":{\"gridcolor\":\"white\",\"linecolor\":\"white\",\"ticks\":\"\"}},\"title\":{\"x\":0.05},\"xaxis\":{\"automargin\":true,\"gridcolor\":\"white\",\"linecolor\":\"white\",\"ticks\":\"\",\"title\":{\"standoff\":15},\"zerolinecolor\":\"white\",\"zerolinewidth\":2},\"yaxis\":{\"automargin\":true,\"gridcolor\":\"white\",\"linecolor\":\"white\",\"ticks\":\"\",\"title\":{\"standoff\":15},\"zerolinecolor\":\"white\",\"zerolinewidth\":2}}},\"xaxis\":{\"anchor\":\"y\",\"domain\":[0.0,1.0],\"title\":{\"text\":\"1\"}},\"yaxis\":{\"anchor\":\"x\",\"domain\":[0.0,1.0],\"title\":{\"text\":\"count\"}},\"legend\":{\"tracegroupgap\":0},\"margin\":{\"t\":60},\"barmode\":\"relative\"},                        {\"responsive\": true}                    ).then(function(){\n",
              "                            \n",
              "var gd = document.getElementById('d0d9704e-630a-4fea-ad2b-e1c7f1abd15f');\n",
              "var x = new MutationObserver(function (mutations, observer) {{\n",
              "        var display = window.getComputedStyle(gd).display;\n",
              "        if (!display || display === 'none') {{\n",
              "            console.log([gd, 'removed!']);\n",
              "            Plotly.purge(gd);\n",
              "            observer.disconnect();\n",
              "        }}\n",
              "}});\n",
              "\n",
              "// Listen for the removal of the full notebook cells\n",
              "var notebookContainer = gd.closest('#notebook-container');\n",
              "if (notebookContainer) {{\n",
              "    x.observe(notebookContainer, {childList: true});\n",
              "}}\n",
              "\n",
              "// Listen for the clearing of the current output cell\n",
              "var outputEl = gd.closest('.output');\n",
              "if (outputEl) {{\n",
              "    x.observe(outputEl, {childList: true});\n",
              "}}\n",
              "\n",
              "                        })                };                            </script>        </div>\n",
              "</body>\n",
              "</html>"
            ]
          },
          "metadata": {}
        }
      ]
    },
    {
      "cell_type": "markdown",
      "metadata": {
        "id": "RGHAFaAa7YnN"
      },
      "source": [
        "### Removing Sparse Features (10 points)\n",
        "\n",
        "We can remove the features that have more than 100 missing entries. \n",
        "\n",
        "You can find the location where a condition is met in a Pandas array using `data.loc[:,:]` with traditional numpy-like indexing"
      ]
    },
    {
      "cell_type": "markdown",
      "metadata": {
        "id": "5eI0faee7YnN"
      },
      "source": [
        "Remove these columns in the dataframe using the `.drop()` method, make sure inplace is set to True"
      ]
    },
    {
      "cell_type": "code",
      "source": [
        "df.iloc[:,73].isna().sum()"
      ],
      "metadata": {
        "colab": {
          "base_uri": "https://localhost:8080/"
        },
        "id": "z58oYrSq75rQ",
        "outputId": "01b425e0-8fd4-468d-ecda-06597595ed90"
      },
      "execution_count": null,
      "outputs": [
        {
          "output_type": "execute_result",
          "data": {
            "text/plain": [
              "794"
            ]
          },
          "metadata": {},
          "execution_count": 58
        }
      ]
    },
    {
      "cell_type": "code",
      "source": [
        "df.iloc[:,73]"
      ],
      "metadata": {
        "colab": {
          "base_uri": "https://localhost:8080/"
        },
        "id": "DXLn_jh8W6w8",
        "outputId": "8f0b0f96-fdf5-49e2-b02b-0ea14924d365"
      },
      "execution_count": null,
      "outputs": [
        {
          "output_type": "execute_result",
          "data": {
            "text/plain": [
              "0            NaN\n",
              "1            NaN\n",
              "2       140.6972\n",
              "3       160.3210\n",
              "4            NaN\n",
              "          ...   \n",
              "1562         NaN\n",
              "1563    158.7832\n",
              "1564         NaN\n",
              "1565         NaN\n",
              "1566         NaN\n",
              "Name: 72, Length: 1567, dtype: float64"
            ]
          },
          "metadata": {},
          "execution_count": 59
        }
      ]
    },
    {
      "cell_type": "code",
      "source": [
        "count=0\n",
        "for i in range(len(nan_count_column)):\n",
        "    if nan_count_column[i]>100:\n",
        "        count+=1\n",
        "        df.drop(labels=f\"{i-1}\",axis =1, inplace=True)\n",
        "print(count)  #to see how many features are removed."
      ],
      "metadata": {
        "colab": {
          "base_uri": "https://localhost:8080/"
        },
        "id": "XyPg9uuz8s5W",
        "outputId": "e81c9521-02c2-4a91-ffd5-41a53ee40ecb"
      },
      "execution_count": null,
      "outputs": [
        {
          "output_type": "stream",
          "name": "stdout",
          "text": [
            "52\n"
          ]
        }
      ]
    },
    {
      "cell_type": "code",
      "source": [
        "nan_count_column2 = df.isna().sum()\n",
        "nan_count_column2\n",
        "\n",
        "count=0\n",
        "for i in range(len(nan_count_column2)):\n",
        "    if nan_count_column2[i]>100:\n",
        "        count+=1\n",
        "        print(i)\n",
        "print(count)  #to see how many features are removed."
      ],
      "metadata": {
        "colab": {
          "base_uri": "https://localhost:8080/"
        },
        "id": "G7T7w2so8GQS",
        "outputId": "087c3333-5bf1-41f5-cc0d-17759c43a9be"
      },
      "execution_count": null,
      "outputs": [
        {
          "output_type": "stream",
          "name": "stdout",
          "text": [
            "0\n"
          ]
        }
      ]
    },
    {
      "cell_type": "markdown",
      "metadata": {
        "id": "fCRU621B7YnR"
      },
      "source": [
        "It is useful to check the shape to make sure that the operation worked"
      ]
    },
    {
      "cell_type": "code",
      "source": [
        "column_names = df.columns.values\n",
        "df.shape"
      ],
      "metadata": {
        "colab": {
          "base_uri": "https://localhost:8080/"
        },
        "id": "OnvUch9Z9fVt",
        "outputId": "af17086e-cef4-4d80-dc35-ad2d5caec922"
      },
      "execution_count": null,
      "outputs": [
        {
          "output_type": "execute_result",
          "data": {
            "text/plain": [
              "(1567, 540)"
            ]
          },
          "metadata": {},
          "execution_count": 62
        }
      ]
    },
    {
      "cell_type": "markdown",
      "metadata": {
        "id": "B-Nu5wtu7YnS"
      },
      "source": [
        "It is useful to see how many data points have missing information\n",
        "\n",
        "Hint: you can change the axis of the `isna()`\n",
        "\n",
        "You can use the built-in method `value_counts()` to view the number of samples with bad rows."
      ]
    },
    {
      "cell_type": "code",
      "execution_count": null,
      "metadata": {
        "id": "68j0YJxc7YnS",
        "colab": {
          "base_uri": "https://localhost:8080/"
        },
        "outputId": "677addc7-42ce-4b34-b4e6-552bacc6f168"
      },
      "outputs": [
        {
          "output_type": "stream",
          "name": "stdout",
          "text": [
            "32\n"
          ]
        }
      ],
      "source": [
        "df_nan = df.isna() \n",
        "i=0\n",
        "count=0\n",
        "for i in range(len(df.index.values)):\n",
        "    if df_nan.iloc[i].value_counts()[0].item() < 500: #Value counts give True and False Numbers. If there is more than 40 NaN in an instance,\n",
        "        #if condition is satisfied and it remove that instance from row.\n",
        "        df.drop(index=i, inplace=True)\n",
        "        count+=1\n",
        "print(count) #to see how many instances are removed."
      ]
    },
    {
      "cell_type": "code",
      "source": [
        "df_nan = df.isna() \n",
        "i=0\n",
        "count=0\n",
        "for i in range(len(df.index.values)):\n",
        "    if df_nan.iloc[i].value_counts()[0].item() < 500: #Value counts give True and False Numbers. If there is more than 40 NaN in an instance,\n",
        "        #if condition is satisfied and it remove that instance from row.\n",
        "        #df.drop(index=i, inplace=True)\n",
        "        count+=1\n",
        "print(count) #to see how many instances are removed."
      ],
      "metadata": {
        "colab": {
          "base_uri": "https://localhost:8080/"
        },
        "id": "fasXyE5V9mii",
        "outputId": "9ab6f43f-0edc-4c90-ea48-a14aba506afb"
      },
      "execution_count": null,
      "outputs": [
        {
          "output_type": "stream",
          "name": "stdout",
          "text": [
            "0\n"
          ]
        }
      ]
    },
    {
      "cell_type": "code",
      "source": [
        "df.shape"
      ],
      "metadata": {
        "colab": {
          "base_uri": "https://localhost:8080/"
        },
        "id": "K7WLCHz-9pdE",
        "outputId": "13ff8fc7-2c5a-4266-dd80-5ffad4e02027"
      },
      "execution_count": null,
      "outputs": [
        {
          "output_type": "execute_result",
          "data": {
            "text/plain": [
              "(1535, 540)"
            ]
          },
          "metadata": {},
          "execution_count": 65
        }
      ]
    },
    {
      "cell_type": "markdown",
      "metadata": {
        "id": "6SIl3Y1z7YnS"
      },
      "source": [
        "Since it is not that many we can remove these rows.\n",
        "* you can just index the data that you want using the built-in method `.loc()`"
      ]
    },
    {
      "cell_type": "code",
      "source": [
        "df.loc[1,:]"
      ],
      "metadata": {
        "colab": {
          "base_uri": "https://localhost:8080/"
        },
        "id": "4fx8HelUX0sT",
        "outputId": "4309fb72-1c37-4179-e0ad-5dcfea4dd222"
      },
      "execution_count": null,
      "outputs": [
        {
          "output_type": "execute_result",
          "data": {
            "text/plain": [
              "Time         2008-07-19 12:32:00\n",
              "0                        3095.78\n",
              "1                        2465.14\n",
              "2                      2230.4222\n",
              "3                      1463.6606\n",
              "                    ...         \n",
              "586                       0.0096\n",
              "587                       0.0201\n",
              "588                        0.006\n",
              "589                     208.2045\n",
              "Pass/Fail                     -1\n",
              "Name: 1, Length: 540, dtype: object"
            ]
          },
          "metadata": {},
          "execution_count": 66
        }
      ]
    },
    {
      "cell_type": "markdown",
      "metadata": {
        "id": "Zpx5Gwct7YnT"
      },
      "source": [
        "You should grab the features and labels you can do this by:\n",
        "1. Using the Pandas `drop` built-in method, you can also drop the time\n",
        "2. You should set the the prediction to be if the dataset passed or failed\n",
        "3. It is a good idea to replace the -1 values with 0 using the pandas built-in method `.replace`"
      ]
    },
    {
      "cell_type": "code",
      "execution_count": null,
      "metadata": {
        "id": "cJD2wwiG7YnT",
        "colab": {
          "base_uri": "https://localhost:8080/",
          "height": 424
        },
        "outputId": "930de89e-a55c-4d0f-c34a-d9e8fa08d084"
      },
      "outputs": [
        {
          "output_type": "execute_result",
          "data": {
            "text/plain": [
              "            0        1          2          3       4      5         6       7  \\\n",
              "0     3030.93  2564.00  2187.7333  1411.1265  1.3602  100.0   97.6133  0.1242   \n",
              "1     3095.78  2465.14  2230.4222  1463.6606  0.8294  100.0  102.3433  0.1247   \n",
              "2     2932.61  2559.94  2186.4111  1698.0172  1.5102  100.0   95.4878  0.1241   \n",
              "3     2988.72  2479.90  2199.0333   909.7926  1.3204  100.0  104.2367  0.1217   \n",
              "4     3032.24  2502.87  2233.3667  1326.5200  1.5334  100.0  100.3967  0.1235   \n",
              "...       ...      ...        ...        ...     ...    ...       ...     ...   \n",
              "1557  3072.10  2534.87  2177.4333  2945.8855  1.3321  100.0   83.1700  0.1253   \n",
              "1558  3012.30  2466.84  2217.4111  1032.2836  1.4802  100.0  101.3511  0.1195   \n",
              "1559  3076.33  2456.13  2217.4111  1032.2836  1.4802  100.0  101.3511  0.1195   \n",
              "1562  2899.41  2464.36  2179.7333  3085.3781  1.4843  100.0   82.2467  0.1248   \n",
              "1563  3052.31  2522.55  2198.5667  1124.6595  0.8763  100.0   98.4689  0.1205   \n",
              "\n",
              "           8       9  ...      577     582     583     584      585     586  \\\n",
              "0     1.5005  0.0162  ...  14.9509  0.5005  0.0118  0.0035   2.3630  0.0000   \n",
              "1     1.4966 -0.0005  ...  10.9003  0.5019  0.0223  0.0055   4.4447  0.0096   \n",
              "2     1.4436  0.0041  ...   9.2721  0.4958  0.0157  0.0039   3.1745  0.0584   \n",
              "3     1.4882 -0.0124  ...   8.5831  0.4990  0.0103  0.0025   2.0544  0.0202   \n",
              "4     1.5031 -0.0031  ...  10.9698  0.4800  0.4766  0.1045  99.3032  0.0202   \n",
              "...      ...     ...  ...      ...     ...     ...     ...      ...     ...   \n",
              "1557  1.4359 -0.0114  ...  12.8330  0.5010  0.0132  0.0035   2.6249  0.0277   \n",
              "1558  1.3832  0.0042  ...  23.4054  0.4993  0.0130  0.0037   2.5976  0.0097   \n",
              "1559  1.3120 -0.0043  ...  22.9183  0.4960  0.0157  0.0036   3.1743  0.0150   \n",
              "1562  1.3424 -0.0045  ...  11.7256  0.4988  0.0143  0.0039   2.8669  0.0068   \n",
              "1563  1.4333 -0.0061  ...  17.8379  0.4975  0.0131  0.0036   2.6238  0.0068   \n",
              "\n",
              "         587     588       589  Pass/Fail  \n",
              "0     0.0000  0.0000    0.0000          0  \n",
              "1     0.0201  0.0060  208.2045          0  \n",
              "2     0.0484  0.0148   82.8602          1  \n",
              "3     0.0149  0.0044   73.8432          0  \n",
              "4     0.0149  0.0044   73.8432          0  \n",
              "...      ...     ...       ...        ...  \n",
              "1557  0.0074  0.0023   26.7330          0  \n",
              "1558  0.0172  0.0054  176.6783          0  \n",
              "1559  0.0176  0.0057  117.4564          0  \n",
              "1562  0.0138  0.0047  203.1720          0  \n",
              "1563  0.0138  0.0047  203.1720          0  \n",
              "\n",
              "[1535 rows x 539 columns]"
            ],
            "text/html": [
              "\n",
              "  <div id=\"df-86ae7c12-b8c3-4fc3-8d60-0b9f0c293d4e\">\n",
              "    <div class=\"colab-df-container\">\n",
              "      <div>\n",
              "<style scoped>\n",
              "    .dataframe tbody tr th:only-of-type {\n",
              "        vertical-align: middle;\n",
              "    }\n",
              "\n",
              "    .dataframe tbody tr th {\n",
              "        vertical-align: top;\n",
              "    }\n",
              "\n",
              "    .dataframe thead th {\n",
              "        text-align: right;\n",
              "    }\n",
              "</style>\n",
              "<table border=\"1\" class=\"dataframe\">\n",
              "  <thead>\n",
              "    <tr style=\"text-align: right;\">\n",
              "      <th></th>\n",
              "      <th>0</th>\n",
              "      <th>1</th>\n",
              "      <th>2</th>\n",
              "      <th>3</th>\n",
              "      <th>4</th>\n",
              "      <th>5</th>\n",
              "      <th>6</th>\n",
              "      <th>7</th>\n",
              "      <th>8</th>\n",
              "      <th>9</th>\n",
              "      <th>...</th>\n",
              "      <th>577</th>\n",
              "      <th>582</th>\n",
              "      <th>583</th>\n",
              "      <th>584</th>\n",
              "      <th>585</th>\n",
              "      <th>586</th>\n",
              "      <th>587</th>\n",
              "      <th>588</th>\n",
              "      <th>589</th>\n",
              "      <th>Pass/Fail</th>\n",
              "    </tr>\n",
              "  </thead>\n",
              "  <tbody>\n",
              "    <tr>\n",
              "      <th>0</th>\n",
              "      <td>3030.93</td>\n",
              "      <td>2564.00</td>\n",
              "      <td>2187.7333</td>\n",
              "      <td>1411.1265</td>\n",
              "      <td>1.3602</td>\n",
              "      <td>100.0</td>\n",
              "      <td>97.6133</td>\n",
              "      <td>0.1242</td>\n",
              "      <td>1.5005</td>\n",
              "      <td>0.0162</td>\n",
              "      <td>...</td>\n",
              "      <td>14.9509</td>\n",
              "      <td>0.5005</td>\n",
              "      <td>0.0118</td>\n",
              "      <td>0.0035</td>\n",
              "      <td>2.3630</td>\n",
              "      <td>0.0000</td>\n",
              "      <td>0.0000</td>\n",
              "      <td>0.0000</td>\n",
              "      <td>0.0000</td>\n",
              "      <td>0</td>\n",
              "    </tr>\n",
              "    <tr>\n",
              "      <th>1</th>\n",
              "      <td>3095.78</td>\n",
              "      <td>2465.14</td>\n",
              "      <td>2230.4222</td>\n",
              "      <td>1463.6606</td>\n",
              "      <td>0.8294</td>\n",
              "      <td>100.0</td>\n",
              "      <td>102.3433</td>\n",
              "      <td>0.1247</td>\n",
              "      <td>1.4966</td>\n",
              "      <td>-0.0005</td>\n",
              "      <td>...</td>\n",
              "      <td>10.9003</td>\n",
              "      <td>0.5019</td>\n",
              "      <td>0.0223</td>\n",
              "      <td>0.0055</td>\n",
              "      <td>4.4447</td>\n",
              "      <td>0.0096</td>\n",
              "      <td>0.0201</td>\n",
              "      <td>0.0060</td>\n",
              "      <td>208.2045</td>\n",
              "      <td>0</td>\n",
              "    </tr>\n",
              "    <tr>\n",
              "      <th>2</th>\n",
              "      <td>2932.61</td>\n",
              "      <td>2559.94</td>\n",
              "      <td>2186.4111</td>\n",
              "      <td>1698.0172</td>\n",
              "      <td>1.5102</td>\n",
              "      <td>100.0</td>\n",
              "      <td>95.4878</td>\n",
              "      <td>0.1241</td>\n",
              "      <td>1.4436</td>\n",
              "      <td>0.0041</td>\n",
              "      <td>...</td>\n",
              "      <td>9.2721</td>\n",
              "      <td>0.4958</td>\n",
              "      <td>0.0157</td>\n",
              "      <td>0.0039</td>\n",
              "      <td>3.1745</td>\n",
              "      <td>0.0584</td>\n",
              "      <td>0.0484</td>\n",
              "      <td>0.0148</td>\n",
              "      <td>82.8602</td>\n",
              "      <td>1</td>\n",
              "    </tr>\n",
              "    <tr>\n",
              "      <th>3</th>\n",
              "      <td>2988.72</td>\n",
              "      <td>2479.90</td>\n",
              "      <td>2199.0333</td>\n",
              "      <td>909.7926</td>\n",
              "      <td>1.3204</td>\n",
              "      <td>100.0</td>\n",
              "      <td>104.2367</td>\n",
              "      <td>0.1217</td>\n",
              "      <td>1.4882</td>\n",
              "      <td>-0.0124</td>\n",
              "      <td>...</td>\n",
              "      <td>8.5831</td>\n",
              "      <td>0.4990</td>\n",
              "      <td>0.0103</td>\n",
              "      <td>0.0025</td>\n",
              "      <td>2.0544</td>\n",
              "      <td>0.0202</td>\n",
              "      <td>0.0149</td>\n",
              "      <td>0.0044</td>\n",
              "      <td>73.8432</td>\n",
              "      <td>0</td>\n",
              "    </tr>\n",
              "    <tr>\n",
              "      <th>4</th>\n",
              "      <td>3032.24</td>\n",
              "      <td>2502.87</td>\n",
              "      <td>2233.3667</td>\n",
              "      <td>1326.5200</td>\n",
              "      <td>1.5334</td>\n",
              "      <td>100.0</td>\n",
              "      <td>100.3967</td>\n",
              "      <td>0.1235</td>\n",
              "      <td>1.5031</td>\n",
              "      <td>-0.0031</td>\n",
              "      <td>...</td>\n",
              "      <td>10.9698</td>\n",
              "      <td>0.4800</td>\n",
              "      <td>0.4766</td>\n",
              "      <td>0.1045</td>\n",
              "      <td>99.3032</td>\n",
              "      <td>0.0202</td>\n",
              "      <td>0.0149</td>\n",
              "      <td>0.0044</td>\n",
              "      <td>73.8432</td>\n",
              "      <td>0</td>\n",
              "    </tr>\n",
              "    <tr>\n",
              "      <th>...</th>\n",
              "      <td>...</td>\n",
              "      <td>...</td>\n",
              "      <td>...</td>\n",
              "      <td>...</td>\n",
              "      <td>...</td>\n",
              "      <td>...</td>\n",
              "      <td>...</td>\n",
              "      <td>...</td>\n",
              "      <td>...</td>\n",
              "      <td>...</td>\n",
              "      <td>...</td>\n",
              "      <td>...</td>\n",
              "      <td>...</td>\n",
              "      <td>...</td>\n",
              "      <td>...</td>\n",
              "      <td>...</td>\n",
              "      <td>...</td>\n",
              "      <td>...</td>\n",
              "      <td>...</td>\n",
              "      <td>...</td>\n",
              "      <td>...</td>\n",
              "    </tr>\n",
              "    <tr>\n",
              "      <th>1557</th>\n",
              "      <td>3072.10</td>\n",
              "      <td>2534.87</td>\n",
              "      <td>2177.4333</td>\n",
              "      <td>2945.8855</td>\n",
              "      <td>1.3321</td>\n",
              "      <td>100.0</td>\n",
              "      <td>83.1700</td>\n",
              "      <td>0.1253</td>\n",
              "      <td>1.4359</td>\n",
              "      <td>-0.0114</td>\n",
              "      <td>...</td>\n",
              "      <td>12.8330</td>\n",
              "      <td>0.5010</td>\n",
              "      <td>0.0132</td>\n",
              "      <td>0.0035</td>\n",
              "      <td>2.6249</td>\n",
              "      <td>0.0277</td>\n",
              "      <td>0.0074</td>\n",
              "      <td>0.0023</td>\n",
              "      <td>26.7330</td>\n",
              "      <td>0</td>\n",
              "    </tr>\n",
              "    <tr>\n",
              "      <th>1558</th>\n",
              "      <td>3012.30</td>\n",
              "      <td>2466.84</td>\n",
              "      <td>2217.4111</td>\n",
              "      <td>1032.2836</td>\n",
              "      <td>1.4802</td>\n",
              "      <td>100.0</td>\n",
              "      <td>101.3511</td>\n",
              "      <td>0.1195</td>\n",
              "      <td>1.3832</td>\n",
              "      <td>0.0042</td>\n",
              "      <td>...</td>\n",
              "      <td>23.4054</td>\n",
              "      <td>0.4993</td>\n",
              "      <td>0.0130</td>\n",
              "      <td>0.0037</td>\n",
              "      <td>2.5976</td>\n",
              "      <td>0.0097</td>\n",
              "      <td>0.0172</td>\n",
              "      <td>0.0054</td>\n",
              "      <td>176.6783</td>\n",
              "      <td>0</td>\n",
              "    </tr>\n",
              "    <tr>\n",
              "      <th>1559</th>\n",
              "      <td>3076.33</td>\n",
              "      <td>2456.13</td>\n",
              "      <td>2217.4111</td>\n",
              "      <td>1032.2836</td>\n",
              "      <td>1.4802</td>\n",
              "      <td>100.0</td>\n",
              "      <td>101.3511</td>\n",
              "      <td>0.1195</td>\n",
              "      <td>1.3120</td>\n",
              "      <td>-0.0043</td>\n",
              "      <td>...</td>\n",
              "      <td>22.9183</td>\n",
              "      <td>0.4960</td>\n",
              "      <td>0.0157</td>\n",
              "      <td>0.0036</td>\n",
              "      <td>3.1743</td>\n",
              "      <td>0.0150</td>\n",
              "      <td>0.0176</td>\n",
              "      <td>0.0057</td>\n",
              "      <td>117.4564</td>\n",
              "      <td>0</td>\n",
              "    </tr>\n",
              "    <tr>\n",
              "      <th>1562</th>\n",
              "      <td>2899.41</td>\n",
              "      <td>2464.36</td>\n",
              "      <td>2179.7333</td>\n",
              "      <td>3085.3781</td>\n",
              "      <td>1.4843</td>\n",
              "      <td>100.0</td>\n",
              "      <td>82.2467</td>\n",
              "      <td>0.1248</td>\n",
              "      <td>1.3424</td>\n",
              "      <td>-0.0045</td>\n",
              "      <td>...</td>\n",
              "      <td>11.7256</td>\n",
              "      <td>0.4988</td>\n",
              "      <td>0.0143</td>\n",
              "      <td>0.0039</td>\n",
              "      <td>2.8669</td>\n",
              "      <td>0.0068</td>\n",
              "      <td>0.0138</td>\n",
              "      <td>0.0047</td>\n",
              "      <td>203.1720</td>\n",
              "      <td>0</td>\n",
              "    </tr>\n",
              "    <tr>\n",
              "      <th>1563</th>\n",
              "      <td>3052.31</td>\n",
              "      <td>2522.55</td>\n",
              "      <td>2198.5667</td>\n",
              "      <td>1124.6595</td>\n",
              "      <td>0.8763</td>\n",
              "      <td>100.0</td>\n",
              "      <td>98.4689</td>\n",
              "      <td>0.1205</td>\n",
              "      <td>1.4333</td>\n",
              "      <td>-0.0061</td>\n",
              "      <td>...</td>\n",
              "      <td>17.8379</td>\n",
              "      <td>0.4975</td>\n",
              "      <td>0.0131</td>\n",
              "      <td>0.0036</td>\n",
              "      <td>2.6238</td>\n",
              "      <td>0.0068</td>\n",
              "      <td>0.0138</td>\n",
              "      <td>0.0047</td>\n",
              "      <td>203.1720</td>\n",
              "      <td>0</td>\n",
              "    </tr>\n",
              "  </tbody>\n",
              "</table>\n",
              "<p>1535 rows × 539 columns</p>\n",
              "</div>\n",
              "      <button class=\"colab-df-convert\" onclick=\"convertToInteractive('df-86ae7c12-b8c3-4fc3-8d60-0b9f0c293d4e')\"\n",
              "              title=\"Convert this dataframe to an interactive table.\"\n",
              "              style=\"display:none;\">\n",
              "        \n",
              "  <svg xmlns=\"http://www.w3.org/2000/svg\" height=\"24px\"viewBox=\"0 0 24 24\"\n",
              "       width=\"24px\">\n",
              "    <path d=\"M0 0h24v24H0V0z\" fill=\"none\"/>\n",
              "    <path d=\"M18.56 5.44l.94 2.06.94-2.06 2.06-.94-2.06-.94-.94-2.06-.94 2.06-2.06.94zm-11 1L8.5 8.5l.94-2.06 2.06-.94-2.06-.94L8.5 2.5l-.94 2.06-2.06.94zm10 10l.94 2.06.94-2.06 2.06-.94-2.06-.94-.94-2.06-.94 2.06-2.06.94z\"/><path d=\"M17.41 7.96l-1.37-1.37c-.4-.4-.92-.59-1.43-.59-.52 0-1.04.2-1.43.59L10.3 9.45l-7.72 7.72c-.78.78-.78 2.05 0 2.83L4 21.41c.39.39.9.59 1.41.59.51 0 1.02-.2 1.41-.59l7.78-7.78 2.81-2.81c.8-.78.8-2.07 0-2.86zM5.41 20L4 18.59l7.72-7.72 1.47 1.35L5.41 20z\"/>\n",
              "  </svg>\n",
              "      </button>\n",
              "      \n",
              "  <style>\n",
              "    .colab-df-container {\n",
              "      display:flex;\n",
              "      flex-wrap:wrap;\n",
              "      gap: 12px;\n",
              "    }\n",
              "\n",
              "    .colab-df-convert {\n",
              "      background-color: #E8F0FE;\n",
              "      border: none;\n",
              "      border-radius: 50%;\n",
              "      cursor: pointer;\n",
              "      display: none;\n",
              "      fill: #1967D2;\n",
              "      height: 32px;\n",
              "      padding: 0 0 0 0;\n",
              "      width: 32px;\n",
              "    }\n",
              "\n",
              "    .colab-df-convert:hover {\n",
              "      background-color: #E2EBFA;\n",
              "      box-shadow: 0px 1px 2px rgba(60, 64, 67, 0.3), 0px 1px 3px 1px rgba(60, 64, 67, 0.15);\n",
              "      fill: #174EA6;\n",
              "    }\n",
              "\n",
              "    [theme=dark] .colab-df-convert {\n",
              "      background-color: #3B4455;\n",
              "      fill: #D2E3FC;\n",
              "    }\n",
              "\n",
              "    [theme=dark] .colab-df-convert:hover {\n",
              "      background-color: #434B5C;\n",
              "      box-shadow: 0px 1px 3px 1px rgba(0, 0, 0, 0.15);\n",
              "      filter: drop-shadow(0px 1px 2px rgba(0, 0, 0, 0.3));\n",
              "      fill: #FFFFFF;\n",
              "    }\n",
              "  </style>\n",
              "\n",
              "      <script>\n",
              "        const buttonEl =\n",
              "          document.querySelector('#df-86ae7c12-b8c3-4fc3-8d60-0b9f0c293d4e button.colab-df-convert');\n",
              "        buttonEl.style.display =\n",
              "          google.colab.kernel.accessAllowed ? 'block' : 'none';\n",
              "\n",
              "        async function convertToInteractive(key) {\n",
              "          const element = document.querySelector('#df-86ae7c12-b8c3-4fc3-8d60-0b9f0c293d4e');\n",
              "          const dataTable =\n",
              "            await google.colab.kernel.invokeFunction('convertToInteractive',\n",
              "                                                     [key], {});\n",
              "          if (!dataTable) return;\n",
              "\n",
              "          const docLinkHtml = 'Like what you see? Visit the ' +\n",
              "            '<a target=\"_blank\" href=https://colab.research.google.com/notebooks/data_table.ipynb>data table notebook</a>'\n",
              "            + ' to learn more about interactive tables.';\n",
              "          element.innerHTML = '';\n",
              "          dataTable['output_type'] = 'display_data';\n",
              "          await google.colab.output.renderOutput(dataTable, element);\n",
              "          const docLink = document.createElement('div');\n",
              "          docLink.innerHTML = docLinkHtml;\n",
              "          element.appendChild(docLink);\n",
              "        }\n",
              "      </script>\n",
              "    </div>\n",
              "  </div>\n",
              "  "
            ]
          },
          "metadata": {},
          "execution_count": 68
        }
      ],
      "source": [
        "try:\n",
        "    df.drop(labels=\"Time\",axis=1, inplace=True)\n",
        "except: \n",
        "    pass\n",
        "\n",
        "df = df.replace(-1,0)\n",
        "df = df.fillna(0)\n",
        "df"
      ]
    },
    {
      "cell_type": "markdown",
      "metadata": {
        "id": "EdX3qczL7YnU"
      },
      "source": [
        "## Test-train split (5 points)\n",
        "\n",
        "Use the `train_test_split` method to split the data.\n",
        "\n",
        "For consistency make the `test_size = .3`, and the `random_state = 42`."
      ]
    },
    {
      "cell_type": "code",
      "execution_count": null,
      "metadata": {
        "id": "M3YIg1PU7YnU"
      },
      "outputs": [],
      "source": [
        "X=df.drop('Pass/Fail', axis=1)\n",
        "y=df['Pass/Fail']\n",
        "X_train, X_test, y_train, y_test=train_test_split(X, y, stratify=y, test_size=0.3, random_state=42)"
      ]
    },
    {
      "cell_type": "code",
      "source": [
        "sns.countplot(x='Pass/Fail', data=df)\n",
        "df[\"Pass/Fail\"].value_counts()"
      ],
      "metadata": {
        "colab": {
          "base_uri": "https://localhost:8080/",
          "height": 331
        },
        "id": "gcxHniRxT-EB",
        "outputId": "ae6b0eb9-0022-4bc6-a4e9-868558ce14f2"
      },
      "execution_count": null,
      "outputs": [
        {
          "output_type": "execute_result",
          "data": {
            "text/plain": [
              "0    1432\n",
              "1     103\n",
              "Name: Pass/Fail, dtype: int64"
            ]
          },
          "metadata": {},
          "execution_count": 70
        },
        {
          "output_type": "display_data",
          "data": {
            "text/plain": [
              "<Figure size 432x288 with 1 Axes>"
            ],
            "image/png": "[encoded data removed]"
          },
          "metadata": {
            "needs_background": "light"
          }
        }
      ]
    },
    {
      "cell_type": "code",
      "source": [
        "y_frame=pd.DataFrame()\n",
        "y_frame['Pass/Fail']=y_train\n",
        "sns.countplot(x=\"Pass/Fail\",data =y_frame)\n",
        "y_frame[\"Pass/Fail\"].value_counts()"
      ],
      "metadata": {
        "colab": {
          "base_uri": "https://localhost:8080/",
          "height": 331
        },
        "id": "jGKYPviAUBAM",
        "outputId": "e80089f6-6897-436e-9c03-f3e77b5f8e4c"
      },
      "execution_count": null,
      "outputs": [
        {
          "output_type": "execute_result",
          "data": {
            "text/plain": [
              "0    1002\n",
              "1      72\n",
              "Name: Pass/Fail, dtype: int64"
            ]
          },
          "metadata": {},
          "execution_count": 71
        },
        {
          "output_type": "display_data",
          "data": {
            "text/plain": [
              "<Figure size 432x288 with 1 Axes>"
            ],
            "image/png": "[encoded data removed]"
          },
          "metadata": {
            "needs_background": "light"
          }
        }
      ]
    },
    {
      "cell_type": "markdown",
      "metadata": {
        "id": "ydsCQGPn7YnU"
      },
      "source": [
        "## Machine Learning (5 points)\n",
        "\n",
        "It is always good to try a quick machine learning model. If your data is simple it might just work.\n",
        "\n",
        "* Implement a `LogisticRegression` from scikit-learn\n",
        "* Fit the model"
      ]
    },
    {
      "cell_type": "code",
      "execution_count": null,
      "metadata": {
        "id": "xrLbXGTY7YnU",
        "colab": {
          "base_uri": "https://localhost:8080/"
        },
        "outputId": "71ebf054-7432-4119-8eba-cca34b5e5eea"
      },
      "outputs": [
        {
          "output_type": "stream",
          "name": "stdout",
          "text": [
            "The nltk version is 3.7.\n",
            "The scikit-learn version is 1.0.2.\n"
          ]
        }
      ],
      "source": [
        "from sklearn import datasets, linear_model, metrics\n",
        "import pandas as pd\n",
        "import nltk\n",
        "import sklearn\n",
        "\n",
        "print('The nltk version is {}.'.format(nltk.__version__))\n",
        "print('The scikit-learn version is {}.'.format(sklearn.__version__))\n",
        "\n"
      ]
    },
    {
      "cell_type": "code",
      "source": [
        "lr = LogisticRegression(max_iter=1000)\n",
        "lr.fit(X_train, y_train)"
      ],
      "metadata": {
        "colab": {
          "base_uri": "https://localhost:8080/"
        },
        "id": "w8goO23B-F_B",
        "outputId": "243e1e26-c8b2-475f-e1f8-9f8eeba2eb20"
      },
      "execution_count": null,
      "outputs": [
        {
          "output_type": "stream",
          "name": "stderr",
          "text": [
            "/usr/local/lib/python3.8/dist-packages/sklearn/linear_model/_logistic.py:814: ConvergenceWarning:\n",
            "\n",
            "lbfgs failed to converge (status=1):\n",
            "STOP: TOTAL NO. of ITERATIONS REACHED LIMIT.\n",
            "\n",
            "Increase the number of iterations (max_iter) or scale the data as shown in:\n",
            "    https://scikit-learn.org/stable/modules/preprocessing.html\n",
            "Please also refer to the documentation for alternative solver options:\n",
            "    https://scikit-learn.org/stable/modules/linear_model.html#logistic-regression\n",
            "\n"
          ]
        },
        {
          "output_type": "execute_result",
          "data": {
            "text/plain": [
              "LogisticRegression(max_iter=1000)"
            ]
          },
          "metadata": {},
          "execution_count": 75
        }
      ]
    },
    {
      "cell_type": "code",
      "source": [
        "print(\"model score: %.3f\" % lr.score(X_test, y_test))"
      ],
      "metadata": {
        "colab": {
          "base_uri": "https://localhost:8080/"
        },
        "id": "v2ZQkZFC-Jy9",
        "outputId": "00a52163-6011-4e4e-ebd2-dba2600f208a"
      },
      "execution_count": null,
      "outputs": [
        {
          "output_type": "stream",
          "name": "stdout",
          "text": [
            "model score: 0.924\n"
          ]
        }
      ]
    },
    {
      "cell_type": "markdown",
      "metadata": {
        "id": "DKiYqNKG7YnV"
      },
      "source": [
        "It is always a good idea to see if the model fit the data well.\n",
        "* uses the `.predict()` method to predict on the training data\n",
        "* use the sklearn function `classification_report` to evaluate the model\n",
        "* use the sklearn function `confusion_matrix`, you can plot this in plotly using `px.imshow()`\n",
        "\n",
        "You will reuse these lines of code to visualize your results"
      ]
    },
    {
      "cell_type": "code",
      "execution_count": null,
      "metadata": {
        "id": "DLEe77qB7YnV",
        "colab": {
          "base_uri": "https://localhost:8080/"
        },
        "outputId": "f8f3cdf2-a93d-451b-a67d-24562a40213a"
      },
      "outputs": [
        {
          "output_type": "stream",
          "name": "stdout",
          "text": [
            "[0 0 0 ... 0 0 0]\n"
          ]
        }
      ],
      "source": [
        "y_pred= lr.predict(X_train)\n",
        "print(y_pred)"
      ]
    },
    {
      "cell_type": "code",
      "source": [
        "print(\"classification reports:\\n\",classification_report(y_train, y_pred))"
      ],
      "metadata": {
        "colab": {
          "base_uri": "https://localhost:8080/"
        },
        "id": "hT5Mj8bntYYq",
        "outputId": "87f7c036-537c-43ca-9171-9e5bbf36897f"
      },
      "execution_count": null,
      "outputs": [
        {
          "output_type": "stream",
          "name": "stdout",
          "text": [
            "classification reports:\n",
            "               precision    recall  f1-score   support\n",
            "\n",
            "           0       0.94      1.00      0.97      1002\n",
            "           1       0.55      0.08      0.14        72\n",
            "\n",
            "    accuracy                           0.93      1074\n",
            "   macro avg       0.74      0.54      0.56      1074\n",
            "weighted avg       0.91      0.93      0.91      1074\n",
            "\n"
          ]
        }
      ]
    },
    {
      "cell_type": "code",
      "source": [
        "predictions = lr.predict(X_train)\n",
        "cm = confusion_matrix(y_train,predictions)\n",
        "    \n",
        "fig, ax = plt.subplots(figsize=(12,8))\n",
        "plt.clf()\n",
        "plt.imshow(cm, interpolation='nearest', cmap=plt.cm.cividis)\n",
        "classNames = ['Negative','Positive']\n",
        "plt.title('Pass/Fail Index')\n",
        "plt.ylabel('True label')\n",
        "plt.xlabel('Predicted label')\n",
        "tick_marks = np.arange(len(classNames))\n",
        "plt.xticks(tick_marks, classNames)\n",
        "plt.yticks(tick_marks, classNames)\n",
        "s = [['TN','FP'], ['FN', 'TP']]\n",
        "for i in range(2):\n",
        "    for j in range(2):\n",
        "        plt.text(j,i, str(s[i][j])+\" = \"+str(cm[i][j]))\n",
        "plt.show()"
      ],
      "metadata": {
        "colab": {
          "base_uri": "https://localhost:8080/",
          "height": 513
        },
        "id": "eqjR_Gr1Ud5m",
        "outputId": "6da21856-c416-4c89-ccb1-e53c9bf24653"
      },
      "execution_count": null,
      "outputs": [
        {
          "output_type": "display_data",
          "data": {
            "text/plain": [
              "<Figure size 864x576 with 1 Axes>"
            ],
            "image/png": "[encoded data removed]"
          },
          "metadata": {
            "needs_background": "light"
          }
        }
      ]
    },
    {
      "cell_type": "markdown",
      "metadata": {
        "id": "cj8OgBZy7YnV"
      },
      "source": [
        "Now use the same approach to visualize the test results"
      ]
    },
    {
      "cell_type": "code",
      "execution_count": null,
      "metadata": {
        "id": "tr0ui_g27YnV",
        "colab": {
          "base_uri": "https://localhost:8080/",
          "height": 687
        },
        "outputId": "942c53d9-d3a0-47bb-8e61-68cd3b25cb37"
      },
      "outputs": [
        {
          "output_type": "stream",
          "name": "stdout",
          "text": [
            "classification reports:\n",
            "               precision    recall  f1-score   support\n",
            "\n",
            "           0       0.94      0.99      0.96       430\n",
            "           1       0.25      0.06      0.10        31\n",
            "\n",
            "    accuracy                           0.92       461\n",
            "   macro avg       0.59      0.53      0.53       461\n",
            "weighted avg       0.89      0.92      0.90       461\n",
            "\n"
          ]
        },
        {
          "output_type": "display_data",
          "data": {
            "text/plain": [
              "<Figure size 864x576 with 1 Axes>"
            ],
            "image/png": "[encoded data removed]"
          },
          "metadata": {
            "needs_background": "light"
          }
        }
      ],
      "source": [
        "from matplotlib.colors import ListedColormap\n",
        "\n",
        "y_pred_test= lr.predict(X_test)\n",
        "\n",
        "print(\"classification reports:\\n\",classification_report(y_test, y_pred_test))\n",
        "predictions = lr.predict(X_test)\n",
        "cm = confusion_matrix(y_test,predictions)\n",
        "    \n",
        "fig, ax = plt.subplots(figsize=(12,8))\n",
        "plt.clf()\n",
        "plt.imshow(cm, interpolation='nearest', cmap=plt.cm.cividis)\n",
        "classNames = ['Negative','Positive']\n",
        "plt.title('Pass/Fail Index')\n",
        "plt.ylabel('True label')\n",
        "plt.xlabel('Predicted label')\n",
        "tick_marks = np.arange(len(classNames))\n",
        "plt.xticks(tick_marks, classNames)\n",
        "plt.yticks(tick_marks, classNames)\n",
        "s = [['TN','FP'], ['FN', 'TP']]\n",
        "for i in range(2):\n",
        "    for j in range(2):\n",
        "        plt.text(j,i, str(s[i][j])+\" = \"+str(cm[i][j]))\n",
        "plt.show()"
      ]
    },
    {
      "cell_type": "markdown",
      "metadata": {
        "id": "etROVK8U7YnV"
      },
      "source": [
        "<span style=\"color:blue\">Question: Describe what might be wrong with this model, does it provide any practical value? (5 points)</span>"
      ]
    },
    {
      "cell_type": "markdown",
      "metadata": {
        "id": "OiNKSHte7YnW"
      },
      "source": [
        "### Try Another Model (5 points)\n",
        "\n",
        "It could be that we just selected a bad model for the problem, try with a random forest classifier as implemented in scikit-learn\n",
        "* Instantiate the model\n",
        "* Fit the data"
      ]
    },
    {
      "cell_type": "code",
      "execution_count": null,
      "metadata": {
        "id": "rIdc_fpU7YnW",
        "colab": {
          "base_uri": "https://localhost:8080/"
        },
        "outputId": "4c7a7892-d9bb-4454-d687-aaae891d58b8"
      },
      "outputs": [
        {
          "output_type": "execute_result",
          "data": {
            "text/plain": [
              "RandomForestClassifier()"
            ]
          },
          "metadata": {},
          "execution_count": 83
        }
      ],
      "source": [
        "rf=RandomForestClassifier()\n",
        "rf.fit(X_train, y_train)"
      ]
    },
    {
      "cell_type": "markdown",
      "metadata": {
        "id": "c514y54V7YnW"
      },
      "source": [
        "Validate the model on the training and testing dataset"
      ]
    },
    {
      "cell_type": "code",
      "execution_count": null,
      "metadata": {
        "id": "YRh73HMr7YnW",
        "colab": {
          "base_uri": "https://localhost:8080/",
          "height": 687
        },
        "outputId": "8f8cf926-b8d0-41ee-f887-e1e64a7807a8"
      },
      "outputs": [
        {
          "output_type": "stream",
          "name": "stdout",
          "text": [
            "classification reports:\n",
            "               precision    recall  f1-score   support\n",
            "\n",
            "           0       1.00      1.00      1.00      1002\n",
            "           1       1.00      1.00      1.00        72\n",
            "\n",
            "    accuracy                           1.00      1074\n",
            "   macro avg       1.00      1.00      1.00      1074\n",
            "weighted avg       1.00      1.00      1.00      1074\n",
            "\n"
          ]
        },
        {
          "output_type": "display_data",
          "data": {
            "text/plain": [
              "<Figure size 864x576 with 1 Axes>"
            ],
            "image/png": "[encoded data removed]"
          },
          "metadata": {
            "needs_background": "light"
          }
        }
      ],
      "source": [
        "y_pred_rf= rf.predict(X_train)\n",
        "print(\"classification reports:\\n\",classification_report(y_train, y_pred_rf))\n",
        "\n",
        "cm = confusion_matrix(y_train,y_pred_rf)\n",
        "    \n",
        "fig, ax = plt.subplots(figsize=(12,8))\n",
        "plt.clf()\n",
        "plt.imshow(cm, interpolation='nearest', cmap=plt.cm.cividis)\n",
        "classNames = ['Negative','Positive']\n",
        "plt.title('Pass/Fail Index')\n",
        "plt.ylabel('True label')\n",
        "plt.xlabel('Predicted label')\n",
        "tick_marks = np.arange(len(classNames))\n",
        "plt.xticks(tick_marks, classNames)\n",
        "plt.yticks(tick_marks, classNames)\n",
        "s = [['TN','FP'], ['FN', 'TP']]\n",
        "for i in range(2):\n",
        "    for j in range(2):\n",
        "        plt.text(j,i, str(s[i][j])+\" = \"+str(cm[i][j]))\n",
        "plt.show()"
      ]
    },
    {
      "cell_type": "code",
      "execution_count": null,
      "metadata": {
        "id": "4kxIBFm47YnW",
        "colab": {
          "base_uri": "https://localhost:8080/",
          "height": 687
        },
        "outputId": "f9f6ff59-2035-4185-9bf3-f900cbb8f6d5"
      },
      "outputs": [
        {
          "output_type": "stream",
          "name": "stdout",
          "text": [
            "classification reports:\n",
            "               precision    recall  f1-score   support\n",
            "\n",
            "           0       0.93      1.00      0.96       430\n",
            "           1       0.33      0.03      0.06        31\n",
            "\n",
            "    accuracy                           0.93       461\n",
            "   macro avg       0.63      0.51      0.51       461\n",
            "weighted avg       0.89      0.93      0.90       461\n",
            "\n"
          ]
        },
        {
          "output_type": "display_data",
          "data": {
            "text/plain": [
              "<Figure size 864x576 with 1 Axes>"
            ],
            "image/png": "[encoded data removed]"
          },
          "metadata": {
            "needs_background": "light"
          }
        }
      ],
      "source": [
        "# Your code goes here\n",
        "y_pred_rf_test= rf.predict(X_test)\n",
        "print(\"classification reports:\\n\",classification_report(y_test, y_pred_rf_test))\n",
        "\n",
        "cm = confusion_matrix(y_test,y_pred_rf_test)\n",
        "    \n",
        "fig, ax = plt.subplots(figsize=(12,8))\n",
        "plt.clf()\n",
        "plt.imshow(cm, interpolation='nearest', cmap=plt.cm.cividis)\n",
        "classNames = ['Negative','Positive']\n",
        "plt.title('Pass/Fail Index')\n",
        "plt.ylabel('True label')\n",
        "plt.xlabel('Predicted label')\n",
        "tick_marks = np.arange(len(classNames))\n",
        "plt.xticks(tick_marks, classNames)\n",
        "plt.yticks(tick_marks, classNames)\n",
        "s = [['TN','FP'], ['FN', 'TP']]\n",
        "for i in range(2):\n",
        "    for j in range(2):\n",
        "        plt.text(j,i, str(s[i][j])+\" = \"+str(cm[i][j]))\n",
        "plt.show()"
      ]
    },
    {
      "cell_type": "code",
      "source": [
        "y_pred_rf_test= rf.predict(X_test)\n",
        "print(\"classification reports:\\n\",classification_report(y_test, y_pred_rf_test))\n",
        "\n",
        "cm = confusion_matrix(y_test,y_pred_rf_test)\n",
        "    \n",
        "fig, ax = plt.subplots(figsize=(12,8))\n",
        "plt.clf()\n",
        "plt.imshow(cm, interpolation='nearest', cmap=plt.cm.cividis)\n",
        "classNames = ['Negative','Positive']\n",
        "plt.title('Pass/Fail Index')\n",
        "plt.ylabel('True label')\n",
        "plt.xlabel('Predicted label')\n",
        "tick_marks = np.arange(len(classNames))\n",
        "plt.xticks(tick_marks, classNames)\n",
        "plt.yticks(tick_marks, classNames)\n",
        "s = [['TN','FP'], ['FN', 'TP']]\n",
        "for i in range(2):\n",
        "    for j in range(2):\n",
        "        plt.text(j,i, str(s[i][j])+\" = \"+str(cm[i][j]))\n",
        "plt.show()"
      ],
      "metadata": {
        "colab": {
          "base_uri": "https://localhost:8080/",
          "height": 687
        },
        "id": "FHiMFj0gVdwA",
        "outputId": "d57fa4d7-37c2-4d80-978d-8bcdfeeb0e5f"
      },
      "execution_count": null,
      "outputs": [
        {
          "output_type": "stream",
          "name": "stdout",
          "text": [
            "classification reports:\n",
            "               precision    recall  f1-score   support\n",
            "\n",
            "           0       0.93      1.00      0.96       430\n",
            "           1       0.33      0.03      0.06        31\n",
            "\n",
            "    accuracy                           0.93       461\n",
            "   macro avg       0.63      0.51      0.51       461\n",
            "weighted avg       0.89      0.93      0.90       461\n",
            "\n"
          ]
        },
        {
          "output_type": "display_data",
          "data": {
            "text/plain": [
              "<Figure size 864x576 with 1 Axes>"
            ],
            "image/png": "[encoded data removed]"
          },
          "metadata": {
            "needs_background": "light"
          }
        }
      ]
    },
    {
      "cell_type": "markdown",
      "metadata": {
        "id": "rfnMYI-77YnW"
      },
      "source": [
        "That still does not do anything meaningful"
      ]
    },
    {
      "cell_type": "markdown",
      "metadata": {
        "id": "gf0AxbON7YnX"
      },
      "source": [
        "## Normalizing the Data (10 points)\n",
        "\n",
        "Machine learning models prefer features with a mean of 0 and a standard deviation of 1. This makes the optimization easier.\n",
        "\n",
        "1. Make a histogram of the mean and standard deviation you can use the built-in method `.mean()` and `.std()`\n",
        "2. You can plot this using `px.histogram`"
      ]
    },
    {
      "cell_type": "code",
      "execution_count": null,
      "metadata": {
        "id": "T103YcYN7YnX",
        "colab": {
          "base_uri": "https://localhost:8080/",
          "height": 296
        },
        "outputId": "93d07a48-62c8-4600-e185-d45a2e853671"
      },
      "outputs": [
        {
          "output_type": "execute_result",
          "data": {
            "text/plain": [
              "<matplotlib.axes._subplots.AxesSubplot at 0x7fe4405c36d0>"
            ]
          },
          "metadata": {},
          "execution_count": 87
        },
        {
          "output_type": "display_data",
          "data": {
            "text/plain": [
              "<Figure size 432x288 with 1 Axes>"
            ],
            "image/png": "[encoded data removed]"
          },
          "metadata": {
            "needs_background": "light"
          }
        }
      ],
      "source": [
        "# Your code goes here\n",
        "\n",
        "sns.countplot(x='Pass/Fail', data=df)"
      ]
    },
    {
      "cell_type": "code",
      "execution_count": null,
      "metadata": {
        "id": "UbG2lEnQ7YnX",
        "colab": {
          "base_uri": "https://localhost:8080/"
        },
        "outputId": "3db17c69-4b93-430e-f0fb-aca6cb1b882d"
      },
      "outputs": [
        {
          "output_type": "stream",
          "name": "stdout",
          "text": [
            "Mean Function\n",
            " 0            3003.170085\n",
            "1            2484.126378\n",
            "2            2181.839114\n",
            "3            1379.474087\n",
            "4               4.220810\n",
            "                ...     \n",
            "586             0.021502\n",
            "587             0.016474\n",
            "588             0.005284\n",
            "589            99.016395\n",
            "Pass/Fail       0.067101\n",
            "Length: 539, dtype: float64\n",
            "\n",
            "Std Function\n",
            " 0            201.947880\n",
            "1            186.411299\n",
            "2            203.847495\n",
            "3            453.372464\n",
            "4             56.684970\n",
            "                ...    \n",
            "586            0.012405\n",
            "587            0.008850\n",
            "588            0.002881\n",
            "589           93.177219\n",
            "Pass/Fail      0.250278\n",
            "Length: 539, dtype: float64\n"
          ]
        }
      ],
      "source": [
        "# Your code goes here\n",
        "print(\"Mean Function\\n\",df.mean())\n",
        "print(\"\\nStd Function\\n\",df.std())"
      ]
    },
    {
      "cell_type": "code",
      "source": [
        "px.histogram(df.mean(),title=\"Mean Histogram\",nbins=100)"
      ],
      "metadata": {
        "colab": {
          "base_uri": "https://localhost:8080/",
          "height": 542
        },
        "id": "xzcMDE2yVr8y",
        "outputId": "cdb99de5-68b1-4d91-af2a-f97503a17b7a"
      },
      "execution_count": null,
      "outputs": [
        {
          "output_type": "display_data",
          "data": {
            "text/html": [
              "<html>\n",
              "<head><meta charset=\"utf-8\" /></head>\n",
              "<body>\n",
              "    <div>            <script src=\"https://cdnjs.cloudflare.com/ajax/libs/mathjax/2.7.5/MathJax.js?config=TeX-AMS-MML_SVG\"></script><script type=\"text/javascript\">if (window.MathJax) {MathJax.Hub.Config({SVG: {font: \"STIX-Web\"}});}</script>                <script type=\"text/javascript\">window.PlotlyConfig = {MathJaxConfig: 'local'};</script>\n",
              "        <script src=\"https://cdn.plot.ly/plotly-2.8.3.min.js\"></script>                <div id=\"a31e55f1-05e6-48ea-b909-220498ad073d\" class=\"plotly-graph-div\" style=\"height:525px; width:100%;\"></div>            <script type=\"text/javascript\">                                    window.PLOTLYENV=window.PLOTLYENV || {};                                    if (document.getElementById(\"a31e55f1-05e6-48ea-b909-220498ad073d\")) {                    Plotly.newPlot(                        \"a31e55f1-05e6-48ea-b909-220498ad073d\",                        [{\"alignmentgroup\":\"True\",\"bingroup\":\"x\",\"hovertemplate\":\"variable=0<br>value=%{x}<br>count=%{y}<extra></extra>\",\"legendgroup\":\"0\",\"marker\":{\"color\":\"#636efa\",\"pattern\":{\"shape\":\"\"}},\"name\":\"0\",\"nbinsx\":100,\"offsetgroup\":\"0\",\"orientation\":\"v\",\"showlegend\":true,\"x\":[3003.1700846905537,2484.126377850163,2181.8391141368074,1379.4740869706839,4.220809511400652,99.15309446254072,100.29822579804559,0.1211627361563518,1.4632160912052115,-0.000817785016286645,5.889250814332243e-05,0.9643465798045602,199.9396529641694,0.0,9.003592768729641,413.10572618892513,9.907558762214983,0.9714114657980458,190.03209504885993,12.399369250814333,1.4050200651465796,-5618.668078175896,2699.680618892508,-3794.1179152442996,-295.51102019543976,1.203955374592834,1.9385381107491857,6.640262540716613,69.49014938110749,2.3660435830618893,0.18411446254071662,3.6738379153094463,85.29132788273616,8.957449120521172,50.553211205211724,64.52055081433225,49.381651400651464,66.18045986970684,86.78552827361564,118.60995674267103,66.73017915309447,3.312074983713355,70.0,355.51909420195443,10.03093400651466,136.786894267101,733.7121940065148,1.1772570684039088,139.96178377850163,1.0,632.2677746579805,157.03596247557002,0.0,4.580963517915309,4.825910749185668,2848.6899022801304,0.9264344625407166,0.9467344625407166,4.581531270358306,3.0191362866449505,355.1745891205211,10.420975374592834,116.56173146579806,13.955511009771987,20.5272264495114,27.125629706840392,706.7233132247557,16.982012247557005,147.41865778501628,1.0,619.1577098371336,104.19258045602606,0.002733224755700326,-0.0068996742671009765,-0.02937928338762215,-0.00719557003257329,-0.0135757003257329,0.0035456026058631913,-0.01851231270358306,-0.020931530944625406,0.005905407166123779,7.446387426710097,0.13203680781758956,2.401787947882736,0.9823779804560261,1808.0911832573292,0.18355368078175896,8579.920343778502,0.0021856677524429977,0.0005290553745928339,-0.0005431270358306187,-2.8794788273615638e-05,6.006514657980457e-05,0.016707622149837138,0.0,-0.016520716612377848,0.001342019543973941,-2.2475570032573292e-05,-6.5146579804560266e-06,0.0014504885993485346,-0.009798697068403906,-1.3159609120521179e-05,-0.0005199348534201955,0.0005429967426710096,-0.0017925732899022795,-0.010856677524429967,0.9453880130293161,0.00012175895765472314,747.3108912052116,0.987111009771987,58.624356677524425,0.5933082084690554,0.9707876872964168,6.311174723127036,15.796410423452768,3.898834527687296,15.82957003257329,15.794671009771987,1.1834908143322476,2.7516885993485345,0.6485396091205211,3.1913622149837133,-0.553322671009772,0.7451339413680782,0.9978138110749185,2.318583061889251,1004.0189854723127,39.389824495114006,117.00651465798046,137.48423452768728,122.12436482084692,57.11042136807818,411.5806299022802,26.375837719869708,0.0,6.584657980456027,0.004147622149837133,0.11999237785016288,0.0635556351791531,0.05496540716612378,0.017428925081433223,8.473733159609122,0.0,6.808902931596092,14.109250814332247,1.209368729641694,0.011944364820846905,7.694306188925082,0.505958306188925,0.058349837133550485,879.299674267101,555.6514657980456,4069.2912052117263,4811.184364820847,0.1403100977198697,0.12764104234527685,0.2512384364820847,2.7879478827361566,1.2356351791530946,0.12441824104234525,0.400514657980456,0.6841837133550488,0.11977570032573291,0.3198554397394137,0.5761228013029316,0.31985537459283386,0.7767933550488599,0.24461980456026058,0.39395765472312705,0.0,0.0,19.01304885993485,0.5464657980456027,10.772032573289902,26.698877394136808,0.14493335504885993,7.388169381107492,0.0,17.96971980456026,43.143563517915304,0.0,0.0,0.0,0.0,0.0,0.0,0.278128990228013,8.684039087947882,20.11556351791531,0.5579941368078175,11.493387622149836,17.64082736156352,7.821081433224756,10.166651335504886,30.14756143322476,32.76111609120521,9.06899022801303,0.0013029315960912053,20.44091856677524,73.30312899022802,0.03006514657980456,0.0882585667752443,0.05622586319218242,0.05098416938110748,0.05989022801302932,0.08277263843648207,0.08045328990228014,0.08282638436482084,0.07107758957654724,3.7718421498371337,0.003220130293159609,0.060693355048859934,0.008924234527687296,122.87577934853421,0.057604104234527685,1011.3812959609121,0.0,0.0191528338762215,0.0178414332247557,0.0,0.0,0.0,0.0,0.0,0.0,0.0,0.0,0.0,0.004791335504885992,0.004576612377850163,0.0,0.0,0.0,0.0,0.02525472312703583,0.0010542671009771984,109.49897524429969,0.0043376547231270355,4.678950879478826,0.032939348534201954,0.013896286644951138,0.4037164820846905,0.0,0.0,0.0,0.0,0.0,0.0,0.0,0.0,0.0,0.0,0.0,0.07044267100977199,19.50849381107492,3.7750448208469054,29.09201654723127,45.84113791530945,41.12568866449511,20.015031791530944,134.6094438436482,8.792538762214981,0.0,2.192168990228013,0.0011124429967426708,0.0410485342019544,0.018008143322475568,0.01506788273615635,0.00577530944625407,2.8049158957654723,0.0,2.1165434527687297,4.277466775244299,0.3715233224755701,0.003929185667752443,2.5777338110749186,0.12318820846905537,0.020005798045602607,400.3785313355049,253.24181061889252,1879.7524678827363,2350.851710488599,0.0638628013029316,0.060120521172638434,0.11803068403908795,0.9097316612377849,0.4034250162866449,0.040365667752443,0.13210482084690553,0.2648711400651466,0.04850840390879478,0.12885980456026058,0.21836918566775243,0.1288599348534202,0.3043616286644951,0.09730325732899023,0.1597828013029316,0.0,0.0,0.0,5.97599661237785,0.17245798045602603,3.185335895765473,7.928476221498371,0.043147687296416944,2.2700348534201953,0.0,5.402768599348535,13.30757641693811,0.0,0.0,0.0,0.0,0.0,0.0,0.08197100977198697,2.5921888599348533,6.2236614332247555,0.1686414332247557,3.4174811726384364,9.747853811074918,2.3218536156351792,3.0382019543973944,9.349472573289901,14.921237524429968,2.7380166123778498,0.00029133550488599346,6.218302410423452,23.230479478827366,0.009064951140065147,0.0245357003257329,0.025017263843648208,0.02300058631921824,0.027368208469055372,0.023197198697068405,0.04002618892508143,0.04159869706840391,0.034269315960912046,1.2989127035830619,0.0009883387622149837,0.019829641693811073,0.002980846905537459,39.94322631921824,0.017837133550488597,323.81753042345275,0.0,0.005205342019543973,0.004813224755700325,0.0037859283387622145,0.0031748534201954397,0.0,0.0,0.0,0.0,0.0,0.0,0.0,0.0016018892508143322,0.0015710097719869708,0.0,0.0,0.0,0.0,0.00830403908794788,0.00033583061889250806,35.11617928338762,0.0013543322475570033,1.4427398697068405,0.010864234527687297,0.0045205863192182396,0.13399758957654723,0.0,0.0,0.0,0.0,0.0,0.0,0.0,0.0,0.0,0.0,0.0,0.024153941368078174,6.7341111400651466,1.2308015635179155,5.298309771986971,4.555801824104234,4.907530553745929,2.59382325732899,30.69114605863192,25.30779081433225,0.0,6.569763517915309,3.3868834527687297,8.186269576547232,320.27696729641696,309.1489192833876,1.8233162866449513,4.175001758957655,0.0,77.60884436482085,3.328612703583062,6.823508208469056,1.2357921824104234,4.057189706840391,4.2134070358306195,4.191182996742671,18.393667882736157,22.3875874267101,99.7223535504886,205.09861107491858,14.76602892508143,9.383080846905537,7.518071661237786,4.016018566775244,54.7250135504886,70.71705596091206,11.525835504885992,0.8018315309446254,1.3415236482084691,0.6334123778501629,0.894891661237785,0.6465983713355048,1.1730694462540716,0.2817657980456026,0.3315555048859935,0.0,0.0,0.0,5.347034527687296,5.458011921824104,7.875851791530944,3.6415660586319216,12.345034136807818,5.279501824104234,0.0,2.8436044299674266,29.266377394136804,0.0,0.0,0.0,0.0,0.0,0.0,6.059277719869707,223.45489726384366,5.668683452768729,5.374526579804559,9.597468859934855,138.1199741368078,39.34279342019544,37.59579231270358,4.2729349837133555,20.188985146579803,6.27322996742671,0.13029315960912052,3.2935351140065148,75.69799530944626,0.0,316.24216208469056,203.76650299674267,214.3866,198.20597192182407,300.7233540716612,236.83053563517913,350.470148208469,268.23692807817594,51.36919439739414,2.418319674267101,2.529087947882736,0.9681185016286644,6.808354006514659,28.949708013029316,11.48470599348534,0.0,261.25602019543976,240.96566560260587,0.0,0.0,0.0,0.0,0.0,0.0,0.0,0.0,0.0,55.77318912052118,275.9040506188925,0.0,0.0,0.0,0.0,2.7054711400651463,11.200648143322475,14.709653159609122,0.4596338110749186,5.699025863192183,5.51440684039088,1.438617328990228,6.393236742671009,0.0,0.0,0.0,0.0,0.0,0.0,0.0,0.0,0.0,0.0,0.0,3.0280581758957656,1.943285928338762,9.604882866449513,0.1110500325732899,0.00846201954397394,0.0025069706840390874,7.604432247557004,0.9940373941368079,0.3257742671009772,0.07251628664495113,32.29638918566775,530.5133459283388,2.1011634527687297,28.317347622149835,0.34508351791530945,9.12467687296417,0.1045272312703583,5.537361237785015,16.615189576547234,0.49976625407166125,0.015320325732899024,0.003846384364820847,3.0684145276872967,0.021502019543973943,0.016473811074918566,0.005284234527687296,99.0163951791531,0.06710097719869706],\"xaxis\":\"x\",\"yaxis\":\"y\",\"type\":\"histogram\"}],                        {\"template\":{\"data\":{\"bar\":[{\"error_x\":{\"color\":\"#2a3f5f\"},\"error_y\":{\"color\":\"#2a3f5f\"},\"marker\":{\"line\":{\"color\":\"#E5ECF6\",\"width\":0.5},\"pattern\":{\"fillmode\":\"overlay\",\"size\":10,\"solidity\":0.2}},\"type\":\"bar\"}],\"barpolar\":[{\"marker\":{\"line\":{\"color\":\"#E5ECF6\",\"width\":0.5},\"pattern\":{\"fillmode\":\"overlay\",\"size\":10,\"solidity\":0.2}},\"type\":\"barpolar\"}],\"carpet\":[{\"aaxis\":{\"endlinecolor\":\"#2a3f5f\",\"gridcolor\":\"white\",\"linecolor\":\"white\",\"minorgridcolor\":\"white\",\"startlinecolor\":\"#2a3f5f\"},\"baxis\":{\"endlinecolor\":\"#2a3f5f\",\"gridcolor\":\"white\",\"linecolor\":\"white\",\"minorgridcolor\":\"white\",\"startlinecolor\":\"#2a3f5f\"},\"type\":\"carpet\"}],\"choropleth\":[{\"colorbar\":{\"outlinewidth\":0,\"ticks\":\"\"},\"type\":\"choropleth\"}],\"contour\":[{\"colorbar\":{\"outlinewidth\":0,\"ticks\":\"\"},\"colorscale\":[[0.0,\"#0d0887\"],[0.1111111111111111,\"#46039f\"],[0.2222222222222222,\"#7201a8\"],[0.3333333333333333,\"#9c179e\"],[0.4444444444444444,\"#bd3786\"],[0.5555555555555556,\"#d8576b\"],[0.6666666666666666,\"#ed7953\"],[0.7777777777777778,\"#fb9f3a\"],[0.8888888888888888,\"#fdca26\"],[1.0,\"#f0f921\"]],\"type\":\"contour\"}],\"contourcarpet\":[{\"colorbar\":{\"outlinewidth\":0,\"ticks\":\"\"},\"type\":\"contourcarpet\"}],\"heatmap\":[{\"colorbar\":{\"outlinewidth\":0,\"ticks\":\"\"},\"colorscale\":[[0.0,\"#0d0887\"],[0.1111111111111111,\"#46039f\"],[0.2222222222222222,\"#7201a8\"],[0.3333333333333333,\"#9c179e\"],[0.4444444444444444,\"#bd3786\"],[0.5555555555555556,\"#d8576b\"],[0.6666666666666666,\"#ed7953\"],[0.7777777777777778,\"#fb9f3a\"],[0.8888888888888888,\"#fdca26\"],[1.0,\"#f0f921\"]],\"type\":\"heatmap\"}],\"heatmapgl\":[{\"colorbar\":{\"outlinewidth\":0,\"ticks\":\"\"},\"colorscale\":[[0.0,\"#0d0887\"],[0.1111111111111111,\"#46039f\"],[0.2222222222222222,\"#7201a8\"],[0.3333333333333333,\"#9c179e\"],[0.4444444444444444,\"#bd3786\"],[0.5555555555555556,\"#d8576b\"],[0.6666666666666666,\"#ed7953\"],[0.7777777777777778,\"#fb9f3a\"],[0.8888888888888888,\"#fdca26\"],[1.0,\"#f0f921\"]],\"type\":\"heatmapgl\"}],\"histogram\":[{\"marker\":{\"pattern\":{\"fillmode\":\"overlay\",\"size\":10,\"solidity\":0.2}},\"type\":\"histogram\"}],\"histogram2d\":[{\"colorbar\":{\"outlinewidth\":0,\"ticks\":\"\"},\"colorscale\":[[0.0,\"#0d0887\"],[0.1111111111111111,\"#46039f\"],[0.2222222222222222,\"#7201a8\"],[0.3333333333333333,\"#9c179e\"],[0.4444444444444444,\"#bd3786\"],[0.5555555555555556,\"#d8576b\"],[0.6666666666666666,\"#ed7953\"],[0.7777777777777778,\"#fb9f3a\"],[0.8888888888888888,\"#fdca26\"],[1.0,\"#f0f921\"]],\"type\":\"histogram2d\"}],\"histogram2dcontour\":[{\"colorbar\":{\"outlinewidth\":0,\"ticks\":\"\"},\"colorscale\":[[0.0,\"#0d0887\"],[0.1111111111111111,\"#46039f\"],[0.2222222222222222,\"#7201a8\"],[0.3333333333333333,\"#9c179e\"],[0.4444444444444444,\"#bd3786\"],[0.5555555555555556,\"#d8576b\"],[0.6666666666666666,\"#ed7953\"],[0.7777777777777778,\"#fb9f3a\"],[0.8888888888888888,\"#fdca26\"],[1.0,\"#f0f921\"]],\"type\":\"histogram2dcontour\"}],\"mesh3d\":[{\"colorbar\":{\"outlinewidth\":0,\"ticks\":\"\"},\"type\":\"mesh3d\"}],\"parcoords\":[{\"line\":{\"colorbar\":{\"outlinewidth\":0,\"ticks\":\"\"}},\"type\":\"parcoords\"}],\"pie\":[{\"automargin\":true,\"type\":\"pie\"}],\"scatter\":[{\"marker\":{\"colorbar\":{\"outlinewidth\":0,\"ticks\":\"\"}},\"type\":\"scatter\"}],\"scatter3d\":[{\"line\":{\"colorbar\":{\"outlinewidth\":0,\"ticks\":\"\"}},\"marker\":{\"colorbar\":{\"outlinewidth\":0,\"ticks\":\"\"}},\"type\":\"scatter3d\"}],\"scattercarpet\":[{\"marker\":{\"colorbar\":{\"outlinewidth\":0,\"ticks\":\"\"}},\"type\":\"scattercarpet\"}],\"scattergeo\":[{\"marker\":{\"colorbar\":{\"outlinewidth\":0,\"ticks\":\"\"}},\"type\":\"scattergeo\"}],\"scattergl\":[{\"marker\":{\"colorbar\":{\"outlinewidth\":0,\"ticks\":\"\"}},\"type\":\"scattergl\"}],\"scattermapbox\":[{\"marker\":{\"colorbar\":{\"outlinewidth\":0,\"ticks\":\"\"}},\"type\":\"scattermapbox\"}],\"scatterpolar\":[{\"marker\":{\"colorbar\":{\"outlinewidth\":0,\"ticks\":\"\"}},\"type\":\"scatterpolar\"}],\"scatterpolargl\":[{\"marker\":{\"colorbar\":{\"outlinewidth\":0,\"ticks\":\"\"}},\"type\":\"scatterpolargl\"}],\"scatterternary\":[{\"marker\":{\"colorbar\":{\"outlinewidth\":0,\"ticks\":\"\"}},\"type\":\"scatterternary\"}],\"surface\":[{\"colorbar\":{\"outlinewidth\":0,\"ticks\":\"\"},\"colorscale\":[[0.0,\"#0d0887\"],[0.1111111111111111,\"#46039f\"],[0.2222222222222222,\"#7201a8\"],[0.3333333333333333,\"#9c179e\"],[0.4444444444444444,\"#bd3786\"],[0.5555555555555556,\"#d8576b\"],[0.6666666666666666,\"#ed7953\"],[0.7777777777777778,\"#fb9f3a\"],[0.8888888888888888,\"#fdca26\"],[1.0,\"#f0f921\"]],\"type\":\"surface\"}],\"table\":[{\"cells\":{\"fill\":{\"color\":\"#EBF0F8\"},\"line\":{\"color\":\"white\"}},\"header\":{\"fill\":{\"color\":\"#C8D4E3\"},\"line\":{\"color\":\"white\"}},\"type\":\"table\"}]},\"layout\":{\"annotationdefaults\":{\"arrowcolor\":\"#2a3f5f\",\"arrowhead\":0,\"arrowwidth\":1},\"autotypenumbers\":\"strict\",\"coloraxis\":{\"colorbar\":{\"outlinewidth\":0,\"ticks\":\"\"}},\"colorscale\":{\"diverging\":[[0,\"#8e0152\"],[0.1,\"#c51b7d\"],[0.2,\"#de77ae\"],[0.3,\"#f1b6da\"],[0.4,\"#fde0ef\"],[0.5,\"#f7f7f7\"],[0.6,\"#e6f5d0\"],[0.7,\"#b8e186\"],[0.8,\"#7fbc41\"],[0.9,\"#4d9221\"],[1,\"#276419\"]],\"sequential\":[[0.0,\"#0d0887\"],[0.1111111111111111,\"#46039f\"],[0.2222222222222222,\"#7201a8\"],[0.3333333333333333,\"#9c179e\"],[0.4444444444444444,\"#bd3786\"],[0.5555555555555556,\"#d8576b\"],[0.6666666666666666,\"#ed7953\"],[0.7777777777777778,\"#fb9f3a\"],[0.8888888888888888,\"#fdca26\"],[1.0,\"#f0f921\"]],\"sequentialminus\":[[0.0,\"#0d0887\"],[0.1111111111111111,\"#46039f\"],[0.2222222222222222,\"#7201a8\"],[0.3333333333333333,\"#9c179e\"],[0.4444444444444444,\"#bd3786\"],[0.5555555555555556,\"#d8576b\"],[0.6666666666666666,\"#ed7953\"],[0.7777777777777778,\"#fb9f3a\"],[0.8888888888888888,\"#fdca26\"],[1.0,\"#f0f921\"]]},\"colorway\":[\"#636efa\",\"#EF553B\",\"#00cc96\",\"#ab63fa\",\"#FFA15A\",\"#19d3f3\",\"#FF6692\",\"#B6E880\",\"#FF97FF\",\"#FECB52\"],\"font\":{\"color\":\"#2a3f5f\"},\"geo\":{\"bgcolor\":\"white\",\"lakecolor\":\"white\",\"landcolor\":\"#E5ECF6\",\"showlakes\":true,\"showland\":true,\"subunitcolor\":\"white\"},\"hoverlabel\":{\"align\":\"left\"},\"hovermode\":\"closest\",\"mapbox\":{\"style\":\"light\"},\"paper_bgcolor\":\"white\",\"plot_bgcolor\":\"#E5ECF6\",\"polar\":{\"angularaxis\":{\"gridcolor\":\"white\",\"linecolor\":\"white\",\"ticks\":\"\"},\"bgcolor\":\"#E5ECF6\",\"radialaxis\":{\"gridcolor\":\"white\",\"linecolor\":\"white\",\"ticks\":\"\"}},\"scene\":{\"xaxis\":{\"backgroundcolor\":\"#E5ECF6\",\"gridcolor\":\"white\",\"gridwidth\":2,\"linecolor\":\"white\",\"showbackground\":true,\"ticks\":\"\",\"zerolinecolor\":\"white\"},\"yaxis\":{\"backgroundcolor\":\"#E5ECF6\",\"gridcolor\":\"white\",\"gridwidth\":2,\"linecolor\":\"white\",\"showbackground\":true,\"ticks\":\"\",\"zerolinecolor\":\"white\"},\"zaxis\":{\"backgroundcolor\":\"#E5ECF6\",\"gridcolor\":\"white\",\"gridwidth\":2,\"linecolor\":\"white\",\"showbackground\":true,\"ticks\":\"\",\"zerolinecolor\":\"white\"}},\"shapedefaults\":{\"line\":{\"color\":\"#2a3f5f\"}},\"ternary\":{\"aaxis\":{\"gridcolor\":\"white\",\"linecolor\":\"white\",\"ticks\":\"\"},\"baxis\":{\"gridcolor\":\"white\",\"linecolor\":\"white\",\"ticks\":\"\"},\"bgcolor\":\"#E5ECF6\",\"caxis\":{\"gridcolor\":\"white\",\"linecolor\":\"white\",\"ticks\":\"\"}},\"title\":{\"x\":0.05},\"xaxis\":{\"automargin\":true,\"gridcolor\":\"white\",\"linecolor\":\"white\",\"ticks\":\"\",\"title\":{\"standoff\":15},\"zerolinecolor\":\"white\",\"zerolinewidth\":2},\"yaxis\":{\"automargin\":true,\"gridcolor\":\"white\",\"linecolor\":\"white\",\"ticks\":\"\",\"title\":{\"standoff\":15},\"zerolinecolor\":\"white\",\"zerolinewidth\":2}}},\"xaxis\":{\"anchor\":\"y\",\"domain\":[0.0,1.0],\"title\":{\"text\":\"value\"}},\"yaxis\":{\"anchor\":\"x\",\"domain\":[0.0,1.0],\"title\":{\"text\":\"count\"}},\"legend\":{\"title\":{\"text\":\"variable\"},\"tracegroupgap\":0},\"title\":{\"text\":\"Mean Histogram\"},\"barmode\":\"relative\"},                        {\"responsive\": true}                    ).then(function(){\n",
              "                            \n",
              "var gd = document.getElementById('a31e55f1-05e6-48ea-b909-220498ad073d');\n",
              "var x = new MutationObserver(function (mutations, observer) {{\n",
              "        var display = window.getComputedStyle(gd).display;\n",
              "        if (!display || display === 'none') {{\n",
              "            console.log([gd, 'removed!']);\n",
              "            Plotly.purge(gd);\n",
              "            observer.disconnect();\n",
              "        }}\n",
              "}});\n",
              "\n",
              "// Listen for the removal of the full notebook cells\n",
              "var notebookContainer = gd.closest('#notebook-container');\n",
              "if (notebookContainer) {{\n",
              "    x.observe(notebookContainer, {childList: true});\n",
              "}}\n",
              "\n",
              "// Listen for the clearing of the current output cell\n",
              "var outputEl = gd.closest('.output');\n",
              "if (outputEl) {{\n",
              "    x.observe(outputEl, {childList: true});\n",
              "}}\n",
              "\n",
              "                        })                };                            </script>        </div>\n",
              "</body>\n",
              "</html>"
            ]
          },
          "metadata": {}
        }
      ]
    },
    {
      "cell_type": "code",
      "source": [
        "px.histogram(df.std(),title=\"STD Histogram\",nbins=100)"
      ],
      "metadata": {
        "colab": {
          "base_uri": "https://localhost:8080/",
          "height": 542
        },
        "id": "ltjmscC0VuQs",
        "outputId": "cf5c00f8-ff8d-4de1-dc1b-0431b810fe37"
      },
      "execution_count": null,
      "outputs": [
        {
          "output_type": "display_data",
          "data": {
            "text/html": [
              "<html>\n",
              "<head><meta charset=\"utf-8\" /></head>\n",
              "<body>\n",
              "    <div>            <script src=\"https://cdnjs.cloudflare.com/ajax/libs/mathjax/2.7.5/MathJax.js?config=TeX-AMS-MML_SVG\"></script><script type=\"text/javascript\">if (window.MathJax) {MathJax.Hub.Config({SVG: {font: \"STIX-Web\"}});}</script>                <script type=\"text/javascript\">window.PlotlyConfig = {MathJaxConfig: 'local'};</script>\n",
              "        <script src=\"https://cdn.plot.ly/plotly-2.8.3.min.js\"></script>                <div id=\"8b821250-04f1-4778-b663-8d3571b8cfd2\" class=\"plotly-graph-div\" style=\"height:525px; width:100%;\"></div>            <script type=\"text/javascript\">                                    window.PLOTLYENV=window.PLOTLYENV || {};                                    if (document.getElementById(\"8b821250-04f1-4778-b663-8d3571b8cfd2\")) {                    Plotly.newPlot(                        \"8b821250-04f1-4778-b663-8d3571b8cfd2\",                        [{\"alignmentgroup\":\"True\",\"bingroup\":\"x\",\"hovertemplate\":\"variable=0<br>value=%{x}<br>count=%{y}<extra></extra>\",\"legendgroup\":\"0\",\"marker\":{\"color\":\"#636efa\",\"pattern\":{\"shape\":\"\"}},\"name\":\"0\",\"nbinsx\":100,\"offsetgroup\":\"0\",\"orientation\":\"v\",\"showlegend\":true,\"x\":[201.9478801644779,186.4112990740226,203.8474952881571,453.3724635537128,56.684969931921266,9.166681305395946,11.126482640810485,0.01258335049134763,0.07386349399274086,0.015148180825221073,0.0092585791681033,0.012499483158649391,3.2665830211188274,0.0,2.80619875672802,17.34480078837087,2.425957701061595,0.012147849998417998,2.7829319977724567,1.028014892561224,0.016775195920479134,628.8596264396856,296.9727928737645,1378.9571951894386,2912.8629215708384,0.17793536565328785,0.19048420094245072,1.2426606084817724,3.46109303672651,0.41071612857944706,0.03305509070427419,0.5356566780103516,2.9864473722382976,1.3757062031943357,1.758193269087609,3.0782328668072467,1.7363388015301462,1.7172298580874823,2.260636999357417,3.525389945214556,25.381954492955927,2.398259118795583,0.0,6.2181955452061315,0.1746477416595836,7.861663197964734,12.20587418378361,0.1897231989080841,4.541888582234587,0.0,8.663539763931848,61.0933415636662,0.0,0.24065839173075257,0.2539128097903774,147.88180733170182,0.047857949078984496,0.04858846195907655,0.24929471152358273,9.565254085352151,6.026804469183544,0.2732580355075861,8.561270749246876,7.075641838022646,4.944694954764698,7.120817616781357,11.576196200324066,310.090411372922,4.257609756958156,0.0,9.460489577256716,31.740117633203436,0.10708522056073251,0.022269851900603058,0.033119012422485675,0.03115805179363934,0.04780941850512315,0.023024581668912372,0.04913261659914608,0.01704965319269152,0.036079117800717424,0.5484965614703596,0.01275941737128689,0.03737305246054869,0.012922669300030429,53.385486222571316,0.060596842749236844,1508.7704289599203,0.08746768285559431,0.003231704509294312,0.0030188526480185328,0.00017516479549007085,0.0001047813688482819,0.22090909175339418,0.0,0.4294735137922126,0.06281341235491396,0.0003567514161197395,0.00022204873582676757,0.06313320006059801,0.0030744411936616135,0.0008520219742009941,0.0031999541629586,0.0029938596672674143,0.08758375538975123,0.08686870433063355,0.012158512490068303,0.0016805143813512899,48.94744359514515,0.009537818224807718,6.5513326991357035,0.055443177605611314,0.008983869990513843,0.12409302767326175,0.0993463691570239,0.9016359165016141,0.10820364516768333,0.11402557199618835,0.2814112848927381,0.2543933207388976,0.1349063044207635,0.2642966023393575,1.2235776014408528,0.08233766447958207,0.002253854760427736,0.052983787707651595,6.515214074035664,2.988554102783922,53.6376000101214,54.455573069984524,52.811365430323704,13.339359273095313,263.1008050152557,509.88003671002366,0.0,3.606975839075789,0.001307836380417874,0.061494218577008534,0.02588088687772078,0.02164517363754695,0.027367934345326597,18.919056319661067,0.0,3.253193766474322,31.283717040476553,23.58366993367655,0.009412171679309484,5.275686783947186,1.1274524840838087,0.07991866586407499,975.0878395058444,576.1301509247407,4242.44486187125,6553.483938881204,0.12118191415838767,0.24101337178862217,0.40362402207304854,1.1258104529182575,0.6354995549090902,0.04764176326578964,0.1977030938344948,0.15794172817812177,0.06064288160793952,0.07188671241037674,0.09694145413240583,0.07189071187901615,0.11745525518322895,0.07538840357577305,0.28312499974535343,0.0,0.0,3.3064611722005086,0.2251040900100265,4.167379644565273,6.827508888184879,0.11104729747520178,7.2508541759982466,0.0,8.676644732154067,21.618215551581784,0.0,0.0,0.0,0.0,0.0,0.0,0.34415401488030983,15.838349449073327,10.624697093237478,0.5404436314177885,16.544139057308637,8.73888969618378,5.112616536755331,14.727166267927814,17.576259430342674,569.8545707313851,11.630062586218394,0.05104765608901557,17.625690151814883,28.077166097317626,1.1779246642540337,0.04285400464040995,0.025114677830377286,0.03181895806154768,0.0533378331168766,0.05704323019738834,0.031166655334662875,0.026804656251521047,0.04675886371348949,1.1751978067800177,0.001655130692764553,0.02334971993976896,0.05650961507688688,55.48300120804503,0.07090091670537965,461.6658559398886,0.0,0.010822672408077749,0.01079592928881971,0.0,0.0,0.0,0.0,0.0,0.0,0.0,0.0,0.0,0.001700896067664166,0.001437142424063655,0.0,0.0,0.0,0.0,0.04972833304796854,0.015882824059281837,54.80625008421634,0.03785761600618957,65.02193858397476,0.022667843378550753,0.008997626401251799,0.11983359761223278,0.0,0.0,0.0,0.0,0.0,0.0,0.0,0.0,0.0,0.0,0.0,0.029616784890138265,7.358684075242328,1.1548536899424164,7.9423925101594275,18.072365330688612,17.93475191101482,4.230851765347561,85.48566638945734,169.93524424460256,0.0,1.2149665065921635,0.0003478864652069622,0.020337696840555166,0.006288336309292571,0.005466345214060126,0.008627009307286836,5.920320812391643,0.0,0.9652477106432427,9.852550064534036,7.455771709147294,0.0029559844148017156,1.6285650920584016,0.2727849556310367,0.025790684096747472,474.9476163089874,284.40783415720017,1975.3775187623228,3228.6563874046574,0.06396703745935249,0.13033228304968544,0.21777305610798442,0.3333239691504514,0.1981430805039963,0.01451586509420697,0.06482396272697503,0.05765190665769739,0.025356010136817545,0.02776334791727862,0.03408084445246737,0.027765900292102096,0.04404185050359698,0.028963710870693767,0.11740627371175831,0.0,0.0,0.0,1.0167299438448794,0.07259430713750262,1.215488946963503,2.1738929712787205,0.03213005198776642,2.135929986184831,0.0,2.5377141182160408,6.5827751212939765,0.0,0.0,0.0,0.0,0.0,0.0,0.05829387660381843,5.68892794983687,3.428226257883097,0.1739128981529777,5.821488371129233,7.6124244683482525,1.7056463559950865,5.68828532528111,6.115502056663511,263.9402695088769,3.696809363996604,0.011414255901503882,5.410568627610368,8.885066175268147,0.35515641009091253,0.01207374676316388,0.01065403659501977,0.01443552697445406,0.02470122706194774,0.013343025219348513,0.015859940828399095,0.01358264954178884,0.022520910532228156,0.3890239931050463,0.0005032367618626369,0.007159471498659091,0.020207747247676076,17.161278607649987,0.021544408570900644,147.97844202876965,0.0,0.0026713161032032888,0.002391221660225311,0.002711816343843394,0.0021093955927317066,0.0,0.0,0.0,0.0,0.0,0.0,0.0,0.0005352042836856913,0.0004649374597675033,0.0,0.0,0.0,0.0,0.015642242454154704,0.005024786627236767,17.30580089733728,0.011937528847055633,20.537148627804555,0.006820482920747617,0.0029233793772370175,0.038356423567202466,0.0,0.0,0.0,0.0,0.0,0.0,0.0,0.0,0.0,0.0,0.0,0.010719421311619974,2.831567744785789,0.36585998407945314,2.4057710096303806,1.7938849333509603,2.1463722894456776,0.5974593796777081,18.658435217139708,47.50983956560408,0.0,4.007829320365887,1.057509598539756,4.059503389667644,286.8545784696706,325.0033562304944,3.0855387350843433,6.978539181013612,0.0,32.62450469533524,6.381990245379072,23.4732124525701,1.0027810801779395,3.064858545542261,10.68887522493977,6.497148738710275,36.1999938073531,36.59620296019091,126.95413377987997,225.92988401926698,34.281962835561366,34.54834449251878,34.73636020165523,1.6205039766760763,34.29700196948411,38.567796039777065,6.163164135282476,0.184781312822441,0.6567724999143825,0.14485720493166132,0.15744210987442483,0.14251873864288886,0.17781884317736682,0.08700274416987237,0.2363933736099445,0.0,0.0,0.0,0.9177702279991358,2.257624984380483,3.0644336585958563,0.9370886979629197,8.188440334279274,4.574347416729583,0.0,1.3558740551956596,13.3630152890965,0.0,0.0,0.0,0.0,0.0,0.0,7.6050706580184855,230.64253270973413,3.174078378784516,5.0069927297347245,10.216445990506218,47.38991244159344,22.384019486405315,24.85656460517355,2.6288202472480284,15.026324522182598,10.266334148091115,5.1047656089015625,2.657597228578173,35.84525772458208,0.0,281.2419693649793,191.83464291833536,213.29585782187678,217.97436309012915,288.24466578593405,263.56793261979414,253.6070476519962,227.8495366410613,18.13701031975177,1.2340006163918376,0.9757614231294911,6.68307619829273,3.2801256248115775,24.588328723781324,5.278011538888924,0.0,324.37365281727267,323.3231726356316,0.0,0.0,0.0,0.0,0.0,0.0,0.0,0.0,0.0,37.92446338474743,330.1393288189003,0.0,0.0,0.0,0.0,5.759710213701934,101.07649089799432,7.129286698006632,4.190240250247566,20.876266955718947,3.9599767728861783,0.944638877455243,1.8807814352278143,0.0,0.0,0.0,0.0,0.0,0.0,0.0,0.0,0.0,0.0,0.0,1.2515866653557313,0.7334349000545489,2.901012212258171,0.004848486470539116,0.001569032067659547,0.0003102291428017916,1.3492386630777267,0.08785197924104389,0.20223097115258692,0.05187321328088964,19.10064600949847,17.643013551660857,0.27625973960861216,85.95806268288062,0.2490648169317548,26.82990681471451,0.06776163270494757,16.846349089514653,12.483222630854135,0.013211720231440986,0.017345787765866108,0.0037572266250708516,3.612661236037277,0.012404526231040304,0.00884970654148553,0.002881275077588296,93.17721890933396,0.25027833182749976],\"xaxis\":\"x\",\"yaxis\":\"y\",\"type\":\"histogram\"}],                        {\"template\":{\"data\":{\"bar\":[{\"error_x\":{\"color\":\"#2a3f5f\"},\"error_y\":{\"color\":\"#2a3f5f\"},\"marker\":{\"line\":{\"color\":\"#E5ECF6\",\"width\":0.5},\"pattern\":{\"fillmode\":\"overlay\",\"size\":10,\"solidity\":0.2}},\"type\":\"bar\"}],\"barpolar\":[{\"marker\":{\"line\":{\"color\":\"#E5ECF6\",\"width\":0.5},\"pattern\":{\"fillmode\":\"overlay\",\"size\":10,\"solidity\":0.2}},\"type\":\"barpolar\"}],\"carpet\":[{\"aaxis\":{\"endlinecolor\":\"#2a3f5f\",\"gridcolor\":\"white\",\"linecolor\":\"white\",\"minorgridcolor\":\"white\",\"startlinecolor\":\"#2a3f5f\"},\"baxis\":{\"endlinecolor\":\"#2a3f5f\",\"gridcolor\":\"white\",\"linecolor\":\"white\",\"minorgridcolor\":\"white\",\"startlinecolor\":\"#2a3f5f\"},\"type\":\"carpet\"}],\"choropleth\":[{\"colorbar\":{\"outlinewidth\":0,\"ticks\":\"\"},\"type\":\"choropleth\"}],\"contour\":[{\"colorbar\":{\"outlinewidth\":0,\"ticks\":\"\"},\"colorscale\":[[0.0,\"#0d0887\"],[0.1111111111111111,\"#46039f\"],[0.2222222222222222,\"#7201a8\"],[0.3333333333333333,\"#9c179e\"],[0.4444444444444444,\"#bd3786\"],[0.5555555555555556,\"#d8576b\"],[0.6666666666666666,\"#ed7953\"],[0.7777777777777778,\"#fb9f3a\"],[0.8888888888888888,\"#fdca26\"],[1.0,\"#f0f921\"]],\"type\":\"contour\"}],\"contourcarpet\":[{\"colorbar\":{\"outlinewidth\":0,\"ticks\":\"\"},\"type\":\"contourcarpet\"}],\"heatmap\":[{\"colorbar\":{\"outlinewidth\":0,\"ticks\":\"\"},\"colorscale\":[[0.0,\"#0d0887\"],[0.1111111111111111,\"#46039f\"],[0.2222222222222222,\"#7201a8\"],[0.3333333333333333,\"#9c179e\"],[0.4444444444444444,\"#bd3786\"],[0.5555555555555556,\"#d8576b\"],[0.6666666666666666,\"#ed7953\"],[0.7777777777777778,\"#fb9f3a\"],[0.8888888888888888,\"#fdca26\"],[1.0,\"#f0f921\"]],\"type\":\"heatmap\"}],\"heatmapgl\":[{\"colorbar\":{\"outlinewidth\":0,\"ticks\":\"\"},\"colorscale\":[[0.0,\"#0d0887\"],[0.1111111111111111,\"#46039f\"],[0.2222222222222222,\"#7201a8\"],[0.3333333333333333,\"#9c179e\"],[0.4444444444444444,\"#bd3786\"],[0.5555555555555556,\"#d8576b\"],[0.6666666666666666,\"#ed7953\"],[0.7777777777777778,\"#fb9f3a\"],[0.8888888888888888,\"#fdca26\"],[1.0,\"#f0f921\"]],\"type\":\"heatmapgl\"}],\"histogram\":[{\"marker\":{\"pattern\":{\"fillmode\":\"overlay\",\"size\":10,\"solidity\":0.2}},\"type\":\"histogram\"}],\"histogram2d\":[{\"colorbar\":{\"outlinewidth\":0,\"ticks\":\"\"},\"colorscale\":[[0.0,\"#0d0887\"],[0.1111111111111111,\"#46039f\"],[0.2222222222222222,\"#7201a8\"],[0.3333333333333333,\"#9c179e\"],[0.4444444444444444,\"#bd3786\"],[0.5555555555555556,\"#d8576b\"],[0.6666666666666666,\"#ed7953\"],[0.7777777777777778,\"#fb9f3a\"],[0.8888888888888888,\"#fdca26\"],[1.0,\"#f0f921\"]],\"type\":\"histogram2d\"}],\"histogram2dcontour\":[{\"colorbar\":{\"outlinewidth\":0,\"ticks\":\"\"},\"colorscale\":[[0.0,\"#0d0887\"],[0.1111111111111111,\"#46039f\"],[0.2222222222222222,\"#7201a8\"],[0.3333333333333333,\"#9c179e\"],[0.4444444444444444,\"#bd3786\"],[0.5555555555555556,\"#d8576b\"],[0.6666666666666666,\"#ed7953\"],[0.7777777777777778,\"#fb9f3a\"],[0.8888888888888888,\"#fdca26\"],[1.0,\"#f0f921\"]],\"type\":\"histogram2dcontour\"}],\"mesh3d\":[{\"colorbar\":{\"outlinewidth\":0,\"ticks\":\"\"},\"type\":\"mesh3d\"}],\"parcoords\":[{\"line\":{\"colorbar\":{\"outlinewidth\":0,\"ticks\":\"\"}},\"type\":\"parcoords\"}],\"pie\":[{\"automargin\":true,\"type\":\"pie\"}],\"scatter\":[{\"marker\":{\"colorbar\":{\"outlinewidth\":0,\"ticks\":\"\"}},\"type\":\"scatter\"}],\"scatter3d\":[{\"line\":{\"colorbar\":{\"outlinewidth\":0,\"ticks\":\"\"}},\"marker\":{\"colorbar\":{\"outlinewidth\":0,\"ticks\":\"\"}},\"type\":\"scatter3d\"}],\"scattercarpet\":[{\"marker\":{\"colorbar\":{\"outlinewidth\":0,\"ticks\":\"\"}},\"type\":\"scattercarpet\"}],\"scattergeo\":[{\"marker\":{\"colorbar\":{\"outlinewidth\":0,\"ticks\":\"\"}},\"type\":\"scattergeo\"}],\"scattergl\":[{\"marker\":{\"colorbar\":{\"outlinewidth\":0,\"ticks\":\"\"}},\"type\":\"scattergl\"}],\"scattermapbox\":[{\"marker\":{\"colorbar\":{\"outlinewidth\":0,\"ticks\":\"\"}},\"type\":\"scattermapbox\"}],\"scatterpolar\":[{\"marker\":{\"colorbar\":{\"outlinewidth\":0,\"ticks\":\"\"}},\"type\":\"scatterpolar\"}],\"scatterpolargl\":[{\"marker\":{\"colorbar\":{\"outlinewidth\":0,\"ticks\":\"\"}},\"type\":\"scatterpolargl\"}],\"scatterternary\":[{\"marker\":{\"colorbar\":{\"outlinewidth\":0,\"ticks\":\"\"}},\"type\":\"scatterternary\"}],\"surface\":[{\"colorbar\":{\"outlinewidth\":0,\"ticks\":\"\"},\"colorscale\":[[0.0,\"#0d0887\"],[0.1111111111111111,\"#46039f\"],[0.2222222222222222,\"#7201a8\"],[0.3333333333333333,\"#9c179e\"],[0.4444444444444444,\"#bd3786\"],[0.5555555555555556,\"#d8576b\"],[0.6666666666666666,\"#ed7953\"],[0.7777777777777778,\"#fb9f3a\"],[0.8888888888888888,\"#fdca26\"],[1.0,\"#f0f921\"]],\"type\":\"surface\"}],\"table\":[{\"cells\":{\"fill\":{\"color\":\"#EBF0F8\"},\"line\":{\"color\":\"white\"}},\"header\":{\"fill\":{\"color\":\"#C8D4E3\"},\"line\":{\"color\":\"white\"}},\"type\":\"table\"}]},\"layout\":{\"annotationdefaults\":{\"arrowcolor\":\"#2a3f5f\",\"arrowhead\":0,\"arrowwidth\":1},\"autotypenumbers\":\"strict\",\"coloraxis\":{\"colorbar\":{\"outlinewidth\":0,\"ticks\":\"\"}},\"colorscale\":{\"diverging\":[[0,\"#8e0152\"],[0.1,\"#c51b7d\"],[0.2,\"#de77ae\"],[0.3,\"#f1b6da\"],[0.4,\"#fde0ef\"],[0.5,\"#f7f7f7\"],[0.6,\"#e6f5d0\"],[0.7,\"#b8e186\"],[0.8,\"#7fbc41\"],[0.9,\"#4d9221\"],[1,\"#276419\"]],\"sequential\":[[0.0,\"#0d0887\"],[0.1111111111111111,\"#46039f\"],[0.2222222222222222,\"#7201a8\"],[0.3333333333333333,\"#9c179e\"],[0.4444444444444444,\"#bd3786\"],[0.5555555555555556,\"#d8576b\"],[0.6666666666666666,\"#ed7953\"],[0.7777777777777778,\"#fb9f3a\"],[0.8888888888888888,\"#fdca26\"],[1.0,\"#f0f921\"]],\"sequentialminus\":[[0.0,\"#0d0887\"],[0.1111111111111111,\"#46039f\"],[0.2222222222222222,\"#7201a8\"],[0.3333333333333333,\"#9c179e\"],[0.4444444444444444,\"#bd3786\"],[0.5555555555555556,\"#d8576b\"],[0.6666666666666666,\"#ed7953\"],[0.7777777777777778,\"#fb9f3a\"],[0.8888888888888888,\"#fdca26\"],[1.0,\"#f0f921\"]]},\"colorway\":[\"#636efa\",\"#EF553B\",\"#00cc96\",\"#ab63fa\",\"#FFA15A\",\"#19d3f3\",\"#FF6692\",\"#B6E880\",\"#FF97FF\",\"#FECB52\"],\"font\":{\"color\":\"#2a3f5f\"},\"geo\":{\"bgcolor\":\"white\",\"lakecolor\":\"white\",\"landcolor\":\"#E5ECF6\",\"showlakes\":true,\"showland\":true,\"subunitcolor\":\"white\"},\"hoverlabel\":{\"align\":\"left\"},\"hovermode\":\"closest\",\"mapbox\":{\"style\":\"light\"},\"paper_bgcolor\":\"white\",\"plot_bgcolor\":\"#E5ECF6\",\"polar\":{\"angularaxis\":{\"gridcolor\":\"white\",\"linecolor\":\"white\",\"ticks\":\"\"},\"bgcolor\":\"#E5ECF6\",\"radialaxis\":{\"gridcolor\":\"white\",\"linecolor\":\"white\",\"ticks\":\"\"}},\"scene\":{\"xaxis\":{\"backgroundcolor\":\"#E5ECF6\",\"gridcolor\":\"white\",\"gridwidth\":2,\"linecolor\":\"white\",\"showbackground\":true,\"ticks\":\"\",\"zerolinecolor\":\"white\"},\"yaxis\":{\"backgroundcolor\":\"#E5ECF6\",\"gridcolor\":\"white\",\"gridwidth\":2,\"linecolor\":\"white\",\"showbackground\":true,\"ticks\":\"\",\"zerolinecolor\":\"white\"},\"zaxis\":{\"backgroundcolor\":\"#E5ECF6\",\"gridcolor\":\"white\",\"gridwidth\":2,\"linecolor\":\"white\",\"showbackground\":true,\"ticks\":\"\",\"zerolinecolor\":\"white\"}},\"shapedefaults\":{\"line\":{\"color\":\"#2a3f5f\"}},\"ternary\":{\"aaxis\":{\"gridcolor\":\"white\",\"linecolor\":\"white\",\"ticks\":\"\"},\"baxis\":{\"gridcolor\":\"white\",\"linecolor\":\"white\",\"ticks\":\"\"},\"bgcolor\":\"#E5ECF6\",\"caxis\":{\"gridcolor\":\"white\",\"linecolor\":\"white\",\"ticks\":\"\"}},\"title\":{\"x\":0.05},\"xaxis\":{\"automargin\":true,\"gridcolor\":\"white\",\"linecolor\":\"white\",\"ticks\":\"\",\"title\":{\"standoff\":15},\"zerolinecolor\":\"white\",\"zerolinewidth\":2},\"yaxis\":{\"automargin\":true,\"gridcolor\":\"white\",\"linecolor\":\"white\",\"ticks\":\"\",\"title\":{\"standoff\":15},\"zerolinecolor\":\"white\",\"zerolinewidth\":2}}},\"xaxis\":{\"anchor\":\"y\",\"domain\":[0.0,1.0],\"title\":{\"text\":\"value\"}},\"yaxis\":{\"anchor\":\"x\",\"domain\":[0.0,1.0],\"title\":{\"text\":\"count\"}},\"legend\":{\"title\":{\"text\":\"variable\"},\"tracegroupgap\":0},\"title\":{\"text\":\"STD Histogram\"},\"barmode\":\"relative\"},                        {\"responsive\": true}                    ).then(function(){\n",
              "                            \n",
              "var gd = document.getElementById('8b821250-04f1-4778-b663-8d3571b8cfd2');\n",
              "var x = new MutationObserver(function (mutations, observer) {{\n",
              "        var display = window.getComputedStyle(gd).display;\n",
              "        if (!display || display === 'none') {{\n",
              "            console.log([gd, 'removed!']);\n",
              "            Plotly.purge(gd);\n",
              "            observer.disconnect();\n",
              "        }}\n",
              "}});\n",
              "\n",
              "// Listen for the removal of the full notebook cells\n",
              "var notebookContainer = gd.closest('#notebook-container');\n",
              "if (notebookContainer) {{\n",
              "    x.observe(notebookContainer, {childList: true});\n",
              "}}\n",
              "\n",
              "// Listen for the clearing of the current output cell\n",
              "var outputEl = gd.closest('.output');\n",
              "if (outputEl) {{\n",
              "    x.observe(outputEl, {childList: true});\n",
              "}}\n",
              "\n",
              "                        })                };                            </script>        </div>\n",
              "</body>\n",
              "</html>"
            ]
          },
          "metadata": {}
        }
      ]
    },
    {
      "cell_type": "code",
      "source": [
        "for i in range(len(df.columns.values)):\n",
        "    if df.std()[i] > 1000:\n",
        "        print(i)\n",
        "        print(df.std()[i])"
      ],
      "metadata": {
        "colab": {
          "base_uri": "https://localhost:8080/"
        },
        "id": "78p4L6jcV8CT",
        "outputId": "1cd87c25-dd4e-43a6-fb3a-f6dc6e3824a1"
      },
      "execution_count": null,
      "outputs": [
        {
          "output_type": "stream",
          "name": "stdout",
          "text": [
            "23\n",
            "1378.9571951894386\n",
            "24\n",
            "2912.8629215708384\n",
            "87\n",
            "1508.7704289599203\n",
            "152\n",
            "4242.44486187125\n",
            "153\n",
            "6553.483938881204\n",
            "280\n",
            "1975.3775187623228\n",
            "281\n",
            "3228.6563874046574\n"
          ]
        }
      ]
    },
    {
      "cell_type": "code",
      "source": [
        "sns.violinplot(x='quality', y=column_names[counter],data=df, ax=axarr[i][j])"
      ],
      "metadata": {
        "colab": {
          "base_uri": "https://localhost:8080/",
          "height": 165
        },
        "id": "hcjHdBVQ-8Ej",
        "outputId": "fd5baf94-7c3e-483c-cebf-0f3363f91995"
      },
      "execution_count": null,
      "outputs": [
        {
          "output_type": "error",
          "ename": "NameError",
          "evalue": "ignored",
          "traceback": [
            "\u001b[0;31m---------------------------------------------------------------------------\u001b[0m",
            "\u001b[0;31mNameError\u001b[0m                                 Traceback (most recent call last)",
            "\u001b[0;32m<ipython-input-92-0a345a7a04ce>\u001b[0m in \u001b[0;36m<module>\u001b[0;34m\u001b[0m\n\u001b[0;32m----> 1\u001b[0;31m \u001b[0msns\u001b[0m\u001b[0;34m.\u001b[0m\u001b[0mviolinplot\u001b[0m\u001b[0;34m(\u001b[0m\u001b[0mx\u001b[0m\u001b[0;34m=\u001b[0m\u001b[0;34m'quality'\u001b[0m\u001b[0;34m,\u001b[0m \u001b[0my\u001b[0m\u001b[0;34m=\u001b[0m\u001b[0mcolumn_names\u001b[0m\u001b[0;34m[\u001b[0m\u001b[0mcounter\u001b[0m\u001b[0;34m]\u001b[0m\u001b[0;34m,\u001b[0m\u001b[0mdata\u001b[0m\u001b[0;34m=\u001b[0m\u001b[0mdf\u001b[0m\u001b[0;34m,\u001b[0m \u001b[0max\u001b[0m\u001b[0;34m=\u001b[0m\u001b[0maxarr\u001b[0m\u001b[0;34m[\u001b[0m\u001b[0mi\u001b[0m\u001b[0;34m]\u001b[0m\u001b[0;34m[\u001b[0m\u001b[0mj\u001b[0m\u001b[0;34m]\u001b[0m\u001b[0;34m)\u001b[0m\u001b[0;34m\u001b[0m\u001b[0;34m\u001b[0m\u001b[0m\n\u001b[0m",
            "\u001b[0;31mNameError\u001b[0m: name 'counter' is not defined"
          ]
        }
      ]
    },
    {
      "cell_type": "code",
      "source": [
        "px.histogram(df.std(),title=\"STD Histogram\",nbins=100)"
      ],
      "metadata": {
        "colab": {
          "base_uri": "https://localhost:8080/",
          "height": 542
        },
        "id": "67RiI9Ei_CIF",
        "outputId": "7271652d-70dd-4a04-8f9d-0ced4ca8c556"
      },
      "execution_count": null,
      "outputs": [
        {
          "output_type": "display_data",
          "data": {
            "text/html": [
              "<html>\n",
              "<head><meta charset=\"utf-8\" /></head>\n",
              "<body>\n",
              "    <div>            <script src=\"https://cdnjs.cloudflare.com/ajax/libs/mathjax/2.7.5/MathJax.js?config=TeX-AMS-MML_SVG\"></script><script type=\"text/javascript\">if (window.MathJax) {MathJax.Hub.Config({SVG: {font: \"STIX-Web\"}});}</script>                <script type=\"text/javascript\">window.PlotlyConfig = {MathJaxConfig: 'local'};</script>\n",
              "        <script src=\"https://cdn.plot.ly/plotly-2.8.3.min.js\"></script>                <div id=\"91d6ab2d-51f5-46f2-bd6c-1202109dff72\" class=\"plotly-graph-div\" style=\"height:525px; width:100%;\"></div>            <script type=\"text/javascript\">                                    window.PLOTLYENV=window.PLOTLYENV || {};                                    if (document.getElementById(\"91d6ab2d-51f5-46f2-bd6c-1202109dff72\")) {                    Plotly.newPlot(                        \"91d6ab2d-51f5-46f2-bd6c-1202109dff72\",                        [{\"alignmentgroup\":\"True\",\"bingroup\":\"x\",\"hovertemplate\":\"variable=0<br>value=%{x}<br>count=%{y}<extra></extra>\",\"legendgroup\":\"0\",\"marker\":{\"color\":\"#636efa\",\"pattern\":{\"shape\":\"\"}},\"name\":\"0\",\"nbinsx\":100,\"offsetgroup\":\"0\",\"orientation\":\"v\",\"showlegend\":true,\"x\":[201.9478801644779,186.4112990740226,203.8474952881571,453.3724635537128,56.684969931921266,9.166681305395946,11.126482640810485,0.01258335049134763,0.07386349399274086,0.015148180825221073,0.0092585791681033,0.012499483158649391,3.2665830211188274,0.0,2.80619875672802,17.34480078837087,2.425957701061595,0.012147849998417998,2.7829319977724567,1.028014892561224,0.016775195920479134,628.8596264396856,296.9727928737645,1378.9571951894386,2912.8629215708384,0.17793536565328785,0.19048420094245072,1.2426606084817724,3.46109303672651,0.41071612857944706,0.03305509070427419,0.5356566780103516,2.9864473722382976,1.3757062031943357,1.758193269087609,3.0782328668072467,1.7363388015301462,1.7172298580874823,2.260636999357417,3.525389945214556,25.381954492955927,2.398259118795583,0.0,6.2181955452061315,0.1746477416595836,7.861663197964734,12.20587418378361,0.1897231989080841,4.541888582234587,0.0,8.663539763931848,61.0933415636662,0.0,0.24065839173075257,0.2539128097903774,147.88180733170182,0.047857949078984496,0.04858846195907655,0.24929471152358273,9.565254085352151,6.026804469183544,0.2732580355075861,8.561270749246876,7.075641838022646,4.944694954764698,7.120817616781357,11.576196200324066,310.090411372922,4.257609756958156,0.0,9.460489577256716,31.740117633203436,0.10708522056073251,0.022269851900603058,0.033119012422485675,0.03115805179363934,0.04780941850512315,0.023024581668912372,0.04913261659914608,0.01704965319269152,0.036079117800717424,0.5484965614703596,0.01275941737128689,0.03737305246054869,0.012922669300030429,53.385486222571316,0.060596842749236844,1508.7704289599203,0.08746768285559431,0.003231704509294312,0.0030188526480185328,0.00017516479549007085,0.0001047813688482819,0.22090909175339418,0.0,0.4294735137922126,0.06281341235491396,0.0003567514161197395,0.00022204873582676757,0.06313320006059801,0.0030744411936616135,0.0008520219742009941,0.0031999541629586,0.0029938596672674143,0.08758375538975123,0.08686870433063355,0.012158512490068303,0.0016805143813512899,48.94744359514515,0.009537818224807718,6.5513326991357035,0.055443177605611314,0.008983869990513843,0.12409302767326175,0.0993463691570239,0.9016359165016141,0.10820364516768333,0.11402557199618835,0.2814112848927381,0.2543933207388976,0.1349063044207635,0.2642966023393575,1.2235776014408528,0.08233766447958207,0.002253854760427736,0.052983787707651595,6.515214074035664,2.988554102783922,53.6376000101214,54.455573069984524,52.811365430323704,13.339359273095313,263.1008050152557,509.88003671002366,0.0,3.606975839075789,0.001307836380417874,0.061494218577008534,0.02588088687772078,0.02164517363754695,0.027367934345326597,18.919056319661067,0.0,3.253193766474322,31.283717040476553,23.58366993367655,0.009412171679309484,5.275686783947186,1.1274524840838087,0.07991866586407499,975.0878395058444,576.1301509247407,4242.44486187125,6553.483938881204,0.12118191415838767,0.24101337178862217,0.40362402207304854,1.1258104529182575,0.6354995549090902,0.04764176326578964,0.1977030938344948,0.15794172817812177,0.06064288160793952,0.07188671241037674,0.09694145413240583,0.07189071187901615,0.11745525518322895,0.07538840357577305,0.28312499974535343,0.0,0.0,3.3064611722005086,0.2251040900100265,4.167379644565273,6.827508888184879,0.11104729747520178,7.2508541759982466,0.0,8.676644732154067,21.618215551581784,0.0,0.0,0.0,0.0,0.0,0.0,0.34415401488030983,15.838349449073327,10.624697093237478,0.5404436314177885,16.544139057308637,8.73888969618378,5.112616536755331,14.727166267927814,17.576259430342674,569.8545707313851,11.630062586218394,0.05104765608901557,17.625690151814883,28.077166097317626,1.1779246642540337,0.04285400464040995,0.025114677830377286,0.03181895806154768,0.0533378331168766,0.05704323019738834,0.031166655334662875,0.026804656251521047,0.04675886371348949,1.1751978067800177,0.001655130692764553,0.02334971993976896,0.05650961507688688,55.48300120804503,0.07090091670537965,461.6658559398886,0.0,0.010822672408077749,0.01079592928881971,0.0,0.0,0.0,0.0,0.0,0.0,0.0,0.0,0.0,0.001700896067664166,0.001437142424063655,0.0,0.0,0.0,0.0,0.04972833304796854,0.015882824059281837,54.80625008421634,0.03785761600618957,65.02193858397476,0.022667843378550753,0.008997626401251799,0.11983359761223278,0.0,0.0,0.0,0.0,0.0,0.0,0.0,0.0,0.0,0.0,0.0,0.029616784890138265,7.358684075242328,1.1548536899424164,7.9423925101594275,18.072365330688612,17.93475191101482,4.230851765347561,85.48566638945734,169.93524424460256,0.0,1.2149665065921635,0.0003478864652069622,0.020337696840555166,0.006288336309292571,0.005466345214060126,0.008627009307286836,5.920320812391643,0.0,0.9652477106432427,9.852550064534036,7.455771709147294,0.0029559844148017156,1.6285650920584016,0.2727849556310367,0.025790684096747472,474.9476163089874,284.40783415720017,1975.3775187623228,3228.6563874046574,0.06396703745935249,0.13033228304968544,0.21777305610798442,0.3333239691504514,0.1981430805039963,0.01451586509420697,0.06482396272697503,0.05765190665769739,0.025356010136817545,0.02776334791727862,0.03408084445246737,0.027765900292102096,0.04404185050359698,0.028963710870693767,0.11740627371175831,0.0,0.0,0.0,1.0167299438448794,0.07259430713750262,1.215488946963503,2.1738929712787205,0.03213005198776642,2.135929986184831,0.0,2.5377141182160408,6.5827751212939765,0.0,0.0,0.0,0.0,0.0,0.0,0.05829387660381843,5.68892794983687,3.428226257883097,0.1739128981529777,5.821488371129233,7.6124244683482525,1.7056463559950865,5.68828532528111,6.115502056663511,263.9402695088769,3.696809363996604,0.011414255901503882,5.410568627610368,8.885066175268147,0.35515641009091253,0.01207374676316388,0.01065403659501977,0.01443552697445406,0.02470122706194774,0.013343025219348513,0.015859940828399095,0.01358264954178884,0.022520910532228156,0.3890239931050463,0.0005032367618626369,0.007159471498659091,0.020207747247676076,17.161278607649987,0.021544408570900644,147.97844202876965,0.0,0.0026713161032032888,0.002391221660225311,0.002711816343843394,0.0021093955927317066,0.0,0.0,0.0,0.0,0.0,0.0,0.0,0.0005352042836856913,0.0004649374597675033,0.0,0.0,0.0,0.0,0.015642242454154704,0.005024786627236767,17.30580089733728,0.011937528847055633,20.537148627804555,0.006820482920747617,0.0029233793772370175,0.038356423567202466,0.0,0.0,0.0,0.0,0.0,0.0,0.0,0.0,0.0,0.0,0.0,0.010719421311619974,2.831567744785789,0.36585998407945314,2.4057710096303806,1.7938849333509603,2.1463722894456776,0.5974593796777081,18.658435217139708,47.50983956560408,0.0,4.007829320365887,1.057509598539756,4.059503389667644,286.8545784696706,325.0033562304944,3.0855387350843433,6.978539181013612,0.0,32.62450469533524,6.381990245379072,23.4732124525701,1.0027810801779395,3.064858545542261,10.68887522493977,6.497148738710275,36.1999938073531,36.59620296019091,126.95413377987997,225.92988401926698,34.281962835561366,34.54834449251878,34.73636020165523,1.6205039766760763,34.29700196948411,38.567796039777065,6.163164135282476,0.184781312822441,0.6567724999143825,0.14485720493166132,0.15744210987442483,0.14251873864288886,0.17781884317736682,0.08700274416987237,0.2363933736099445,0.0,0.0,0.0,0.9177702279991358,2.257624984380483,3.0644336585958563,0.9370886979629197,8.188440334279274,4.574347416729583,0.0,1.3558740551956596,13.3630152890965,0.0,0.0,0.0,0.0,0.0,0.0,7.6050706580184855,230.64253270973413,3.174078378784516,5.0069927297347245,10.216445990506218,47.38991244159344,22.384019486405315,24.85656460517355,2.6288202472480284,15.026324522182598,10.266334148091115,5.1047656089015625,2.657597228578173,35.84525772458208,0.0,281.2419693649793,191.83464291833536,213.29585782187678,217.97436309012915,288.24466578593405,263.56793261979414,253.6070476519962,227.8495366410613,18.13701031975177,1.2340006163918376,0.9757614231294911,6.68307619829273,3.2801256248115775,24.588328723781324,5.278011538888924,0.0,324.37365281727267,323.3231726356316,0.0,0.0,0.0,0.0,0.0,0.0,0.0,0.0,0.0,37.92446338474743,330.1393288189003,0.0,0.0,0.0,0.0,5.759710213701934,101.07649089799432,7.129286698006632,4.190240250247566,20.876266955718947,3.9599767728861783,0.944638877455243,1.8807814352278143,0.0,0.0,0.0,0.0,0.0,0.0,0.0,0.0,0.0,0.0,0.0,1.2515866653557313,0.7334349000545489,2.901012212258171,0.004848486470539116,0.001569032067659547,0.0003102291428017916,1.3492386630777267,0.08785197924104389,0.20223097115258692,0.05187321328088964,19.10064600949847,17.643013551660857,0.27625973960861216,85.95806268288062,0.2490648169317548,26.82990681471451,0.06776163270494757,16.846349089514653,12.483222630854135,0.013211720231440986,0.017345787765866108,0.0037572266250708516,3.612661236037277,0.012404526231040304,0.00884970654148553,0.002881275077588296,93.17721890933396,0.25027833182749976],\"xaxis\":\"x\",\"yaxis\":\"y\",\"type\":\"histogram\"}],                        {\"template\":{\"data\":{\"bar\":[{\"error_x\":{\"color\":\"#2a3f5f\"},\"error_y\":{\"color\":\"#2a3f5f\"},\"marker\":{\"line\":{\"color\":\"#E5ECF6\",\"width\":0.5},\"pattern\":{\"fillmode\":\"overlay\",\"size\":10,\"solidity\":0.2}},\"type\":\"bar\"}],\"barpolar\":[{\"marker\":{\"line\":{\"color\":\"#E5ECF6\",\"width\":0.5},\"pattern\":{\"fillmode\":\"overlay\",\"size\":10,\"solidity\":0.2}},\"type\":\"barpolar\"}],\"carpet\":[{\"aaxis\":{\"endlinecolor\":\"#2a3f5f\",\"gridcolor\":\"white\",\"linecolor\":\"white\",\"minorgridcolor\":\"white\",\"startlinecolor\":\"#2a3f5f\"},\"baxis\":{\"endlinecolor\":\"#2a3f5f\",\"gridcolor\":\"white\",\"linecolor\":\"white\",\"minorgridcolor\":\"white\",\"startlinecolor\":\"#2a3f5f\"},\"type\":\"carpet\"}],\"choropleth\":[{\"colorbar\":{\"outlinewidth\":0,\"ticks\":\"\"},\"type\":\"choropleth\"}],\"contour\":[{\"colorbar\":{\"outlinewidth\":0,\"ticks\":\"\"},\"colorscale\":[[0.0,\"#0d0887\"],[0.1111111111111111,\"#46039f\"],[0.2222222222222222,\"#7201a8\"],[0.3333333333333333,\"#9c179e\"],[0.4444444444444444,\"#bd3786\"],[0.5555555555555556,\"#d8576b\"],[0.6666666666666666,\"#ed7953\"],[0.7777777777777778,\"#fb9f3a\"],[0.8888888888888888,\"#fdca26\"],[1.0,\"#f0f921\"]],\"type\":\"contour\"}],\"contourcarpet\":[{\"colorbar\":{\"outlinewidth\":0,\"ticks\":\"\"},\"type\":\"contourcarpet\"}],\"heatmap\":[{\"colorbar\":{\"outlinewidth\":0,\"ticks\":\"\"},\"colorscale\":[[0.0,\"#0d0887\"],[0.1111111111111111,\"#46039f\"],[0.2222222222222222,\"#7201a8\"],[0.3333333333333333,\"#9c179e\"],[0.4444444444444444,\"#bd3786\"],[0.5555555555555556,\"#d8576b\"],[0.6666666666666666,\"#ed7953\"],[0.7777777777777778,\"#fb9f3a\"],[0.8888888888888888,\"#fdca26\"],[1.0,\"#f0f921\"]],\"type\":\"heatmap\"}],\"heatmapgl\":[{\"colorbar\":{\"outlinewidth\":0,\"ticks\":\"\"},\"colorscale\":[[0.0,\"#0d0887\"],[0.1111111111111111,\"#46039f\"],[0.2222222222222222,\"#7201a8\"],[0.3333333333333333,\"#9c179e\"],[0.4444444444444444,\"#bd3786\"],[0.5555555555555556,\"#d8576b\"],[0.6666666666666666,\"#ed7953\"],[0.7777777777777778,\"#fb9f3a\"],[0.8888888888888888,\"#fdca26\"],[1.0,\"#f0f921\"]],\"type\":\"heatmapgl\"}],\"histogram\":[{\"marker\":{\"pattern\":{\"fillmode\":\"overlay\",\"size\":10,\"solidity\":0.2}},\"type\":\"histogram\"}],\"histogram2d\":[{\"colorbar\":{\"outlinewidth\":0,\"ticks\":\"\"},\"colorscale\":[[0.0,\"#0d0887\"],[0.1111111111111111,\"#46039f\"],[0.2222222222222222,\"#7201a8\"],[0.3333333333333333,\"#9c179e\"],[0.4444444444444444,\"#bd3786\"],[0.5555555555555556,\"#d8576b\"],[0.6666666666666666,\"#ed7953\"],[0.7777777777777778,\"#fb9f3a\"],[0.8888888888888888,\"#fdca26\"],[1.0,\"#f0f921\"]],\"type\":\"histogram2d\"}],\"histogram2dcontour\":[{\"colorbar\":{\"outlinewidth\":0,\"ticks\":\"\"},\"colorscale\":[[0.0,\"#0d0887\"],[0.1111111111111111,\"#46039f\"],[0.2222222222222222,\"#7201a8\"],[0.3333333333333333,\"#9c179e\"],[0.4444444444444444,\"#bd3786\"],[0.5555555555555556,\"#d8576b\"],[0.6666666666666666,\"#ed7953\"],[0.7777777777777778,\"#fb9f3a\"],[0.8888888888888888,\"#fdca26\"],[1.0,\"#f0f921\"]],\"type\":\"histogram2dcontour\"}],\"mesh3d\":[{\"colorbar\":{\"outlinewidth\":0,\"ticks\":\"\"},\"type\":\"mesh3d\"}],\"parcoords\":[{\"line\":{\"colorbar\":{\"outlinewidth\":0,\"ticks\":\"\"}},\"type\":\"parcoords\"}],\"pie\":[{\"automargin\":true,\"type\":\"pie\"}],\"scatter\":[{\"marker\":{\"colorbar\":{\"outlinewidth\":0,\"ticks\":\"\"}},\"type\":\"scatter\"}],\"scatter3d\":[{\"line\":{\"colorbar\":{\"outlinewidth\":0,\"ticks\":\"\"}},\"marker\":{\"colorbar\":{\"outlinewidth\":0,\"ticks\":\"\"}},\"type\":\"scatter3d\"}],\"scattercarpet\":[{\"marker\":{\"colorbar\":{\"outlinewidth\":0,\"ticks\":\"\"}},\"type\":\"scattercarpet\"}],\"scattergeo\":[{\"marker\":{\"colorbar\":{\"outlinewidth\":0,\"ticks\":\"\"}},\"type\":\"scattergeo\"}],\"scattergl\":[{\"marker\":{\"colorbar\":{\"outlinewidth\":0,\"ticks\":\"\"}},\"type\":\"scattergl\"}],\"scattermapbox\":[{\"marker\":{\"colorbar\":{\"outlinewidth\":0,\"ticks\":\"\"}},\"type\":\"scattermapbox\"}],\"scatterpolar\":[{\"marker\":{\"colorbar\":{\"outlinewidth\":0,\"ticks\":\"\"}},\"type\":\"scatterpolar\"}],\"scatterpolargl\":[{\"marker\":{\"colorbar\":{\"outlinewidth\":0,\"ticks\":\"\"}},\"type\":\"scatterpolargl\"}],\"scatterternary\":[{\"marker\":{\"colorbar\":{\"outlinewidth\":0,\"ticks\":\"\"}},\"type\":\"scatterternary\"}],\"surface\":[{\"colorbar\":{\"outlinewidth\":0,\"ticks\":\"\"},\"colorscale\":[[0.0,\"#0d0887\"],[0.1111111111111111,\"#46039f\"],[0.2222222222222222,\"#7201a8\"],[0.3333333333333333,\"#9c179e\"],[0.4444444444444444,\"#bd3786\"],[0.5555555555555556,\"#d8576b\"],[0.6666666666666666,\"#ed7953\"],[0.7777777777777778,\"#fb9f3a\"],[0.8888888888888888,\"#fdca26\"],[1.0,\"#f0f921\"]],\"type\":\"surface\"}],\"table\":[{\"cells\":{\"fill\":{\"color\":\"#EBF0F8\"},\"line\":{\"color\":\"white\"}},\"header\":{\"fill\":{\"color\":\"#C8D4E3\"},\"line\":{\"color\":\"white\"}},\"type\":\"table\"}]},\"layout\":{\"annotationdefaults\":{\"arrowcolor\":\"#2a3f5f\",\"arrowhead\":0,\"arrowwidth\":1},\"autotypenumbers\":\"strict\",\"coloraxis\":{\"colorbar\":{\"outlinewidth\":0,\"ticks\":\"\"}},\"colorscale\":{\"diverging\":[[0,\"#8e0152\"],[0.1,\"#c51b7d\"],[0.2,\"#de77ae\"],[0.3,\"#f1b6da\"],[0.4,\"#fde0ef\"],[0.5,\"#f7f7f7\"],[0.6,\"#e6f5d0\"],[0.7,\"#b8e186\"],[0.8,\"#7fbc41\"],[0.9,\"#4d9221\"],[1,\"#276419\"]],\"sequential\":[[0.0,\"#0d0887\"],[0.1111111111111111,\"#46039f\"],[0.2222222222222222,\"#7201a8\"],[0.3333333333333333,\"#9c179e\"],[0.4444444444444444,\"#bd3786\"],[0.5555555555555556,\"#d8576b\"],[0.6666666666666666,\"#ed7953\"],[0.7777777777777778,\"#fb9f3a\"],[0.8888888888888888,\"#fdca26\"],[1.0,\"#f0f921\"]],\"sequentialminus\":[[0.0,\"#0d0887\"],[0.1111111111111111,\"#46039f\"],[0.2222222222222222,\"#7201a8\"],[0.3333333333333333,\"#9c179e\"],[0.4444444444444444,\"#bd3786\"],[0.5555555555555556,\"#d8576b\"],[0.6666666666666666,\"#ed7953\"],[0.7777777777777778,\"#fb9f3a\"],[0.8888888888888888,\"#fdca26\"],[1.0,\"#f0f921\"]]},\"colorway\":[\"#636efa\",\"#EF553B\",\"#00cc96\",\"#ab63fa\",\"#FFA15A\",\"#19d3f3\",\"#FF6692\",\"#B6E880\",\"#FF97FF\",\"#FECB52\"],\"font\":{\"color\":\"#2a3f5f\"},\"geo\":{\"bgcolor\":\"white\",\"lakecolor\":\"white\",\"landcolor\":\"#E5ECF6\",\"showlakes\":true,\"showland\":true,\"subunitcolor\":\"white\"},\"hoverlabel\":{\"align\":\"left\"},\"hovermode\":\"closest\",\"mapbox\":{\"style\":\"light\"},\"paper_bgcolor\":\"white\",\"plot_bgcolor\":\"#E5ECF6\",\"polar\":{\"angularaxis\":{\"gridcolor\":\"white\",\"linecolor\":\"white\",\"ticks\":\"\"},\"bgcolor\":\"#E5ECF6\",\"radialaxis\":{\"gridcolor\":\"white\",\"linecolor\":\"white\",\"ticks\":\"\"}},\"scene\":{\"xaxis\":{\"backgroundcolor\":\"#E5ECF6\",\"gridcolor\":\"white\",\"gridwidth\":2,\"linecolor\":\"white\",\"showbackground\":true,\"ticks\":\"\",\"zerolinecolor\":\"white\"},\"yaxis\":{\"backgroundcolor\":\"#E5ECF6\",\"gridcolor\":\"white\",\"gridwidth\":2,\"linecolor\":\"white\",\"showbackground\":true,\"ticks\":\"\",\"zerolinecolor\":\"white\"},\"zaxis\":{\"backgroundcolor\":\"#E5ECF6\",\"gridcolor\":\"white\",\"gridwidth\":2,\"linecolor\":\"white\",\"showbackground\":true,\"ticks\":\"\",\"zerolinecolor\":\"white\"}},\"shapedefaults\":{\"line\":{\"color\":\"#2a3f5f\"}},\"ternary\":{\"aaxis\":{\"gridcolor\":\"white\",\"linecolor\":\"white\",\"ticks\":\"\"},\"baxis\":{\"gridcolor\":\"white\",\"linecolor\":\"white\",\"ticks\":\"\"},\"bgcolor\":\"#E5ECF6\",\"caxis\":{\"gridcolor\":\"white\",\"linecolor\":\"white\",\"ticks\":\"\"}},\"title\":{\"x\":0.05},\"xaxis\":{\"automargin\":true,\"gridcolor\":\"white\",\"linecolor\":\"white\",\"ticks\":\"\",\"title\":{\"standoff\":15},\"zerolinecolor\":\"white\",\"zerolinewidth\":2},\"yaxis\":{\"automargin\":true,\"gridcolor\":\"white\",\"linecolor\":\"white\",\"ticks\":\"\",\"title\":{\"standoff\":15},\"zerolinecolor\":\"white\",\"zerolinewidth\":2}}},\"xaxis\":{\"anchor\":\"y\",\"domain\":[0.0,1.0],\"title\":{\"text\":\"value\"}},\"yaxis\":{\"anchor\":\"x\",\"domain\":[0.0,1.0],\"title\":{\"text\":\"count\"}},\"legend\":{\"title\":{\"text\":\"variable\"},\"tracegroupgap\":0},\"title\":{\"text\":\"STD Histogram\"},\"barmode\":\"relative\"},                        {\"responsive\": true}                    ).then(function(){\n",
              "                            \n",
              "var gd = document.getElementById('91d6ab2d-51f5-46f2-bd6c-1202109dff72');\n",
              "var x = new MutationObserver(function (mutations, observer) {{\n",
              "        var display = window.getComputedStyle(gd).display;\n",
              "        if (!display || display === 'none') {{\n",
              "            console.log([gd, 'removed!']);\n",
              "            Plotly.purge(gd);\n",
              "            observer.disconnect();\n",
              "        }}\n",
              "}});\n",
              "\n",
              "// Listen for the removal of the full notebook cells\n",
              "var notebookContainer = gd.closest('#notebook-container');\n",
              "if (notebookContainer) {{\n",
              "    x.observe(notebookContainer, {childList: true});\n",
              "}}\n",
              "\n",
              "// Listen for the clearing of the current output cell\n",
              "var outputEl = gd.closest('.output');\n",
              "if (outputEl) {{\n",
              "    x.observe(outputEl, {childList: true});\n",
              "}}\n",
              "\n",
              "                        })                };                            </script>        </div>\n",
              "</body>\n",
              "</html>"
            ]
          },
          "metadata": {}
        }
      ]
    },
    {
      "cell_type": "code",
      "source": [
        "px.histogram(df.mean(),title=\"Mean Histogram\",nbins=100)"
      ],
      "metadata": {
        "colab": {
          "base_uri": "https://localhost:8080/",
          "height": 542
        },
        "id": "Sp1PvEOK_Gwq",
        "outputId": "63c90379-68c5-4a55-e32c-e4f418de1e15"
      },
      "execution_count": null,
      "outputs": [
        {
          "output_type": "display_data",
          "data": {
            "text/html": [
              "<html>\n",
              "<head><meta charset=\"utf-8\" /></head>\n",
              "<body>\n",
              "    <div>            <script src=\"https://cdnjs.cloudflare.com/ajax/libs/mathjax/2.7.5/MathJax.js?config=TeX-AMS-MML_SVG\"></script><script type=\"text/javascript\">if (window.MathJax) {MathJax.Hub.Config({SVG: {font: \"STIX-Web\"}});}</script>                <script type=\"text/javascript\">window.PlotlyConfig = {MathJaxConfig: 'local'};</script>\n",
              "        <script src=\"https://cdn.plot.ly/plotly-2.8.3.min.js\"></script>                <div id=\"06a38990-5a71-4d8a-8602-3f4f78006f25\" class=\"plotly-graph-div\" style=\"height:525px; width:100%;\"></div>            <script type=\"text/javascript\">                                    window.PLOTLYENV=window.PLOTLYENV || {};                                    if (document.getElementById(\"06a38990-5a71-4d8a-8602-3f4f78006f25\")) {                    Plotly.newPlot(                        \"06a38990-5a71-4d8a-8602-3f4f78006f25\",                        [{\"alignmentgroup\":\"True\",\"bingroup\":\"x\",\"hovertemplate\":\"variable=0<br>value=%{x}<br>count=%{y}<extra></extra>\",\"legendgroup\":\"0\",\"marker\":{\"color\":\"#636efa\",\"pattern\":{\"shape\":\"\"}},\"name\":\"0\",\"nbinsx\":100,\"offsetgroup\":\"0\",\"orientation\":\"v\",\"showlegend\":true,\"x\":[3003.1700846905537,2484.126377850163,2181.8391141368074,1379.4740869706839,4.220809511400652,99.15309446254072,100.29822579804559,0.1211627361563518,1.4632160912052115,-0.000817785016286645,5.889250814332243e-05,0.9643465798045602,199.9396529641694,0.0,9.003592768729641,413.10572618892513,9.907558762214983,0.9714114657980458,190.03209504885993,12.399369250814333,1.4050200651465796,-5618.668078175896,2699.680618892508,-3794.1179152442996,-295.51102019543976,1.203955374592834,1.9385381107491857,6.640262540716613,69.49014938110749,2.3660435830618893,0.18411446254071662,3.6738379153094463,85.29132788273616,8.957449120521172,50.553211205211724,64.52055081433225,49.381651400651464,66.18045986970684,86.78552827361564,118.60995674267103,66.73017915309447,3.312074983713355,70.0,355.51909420195443,10.03093400651466,136.786894267101,733.7121940065148,1.1772570684039088,139.96178377850163,1.0,632.2677746579805,157.03596247557002,0.0,4.580963517915309,4.825910749185668,2848.6899022801304,0.9264344625407166,0.9467344625407166,4.581531270358306,3.0191362866449505,355.1745891205211,10.420975374592834,116.56173146579806,13.955511009771987,20.5272264495114,27.125629706840392,706.7233132247557,16.982012247557005,147.41865778501628,1.0,619.1577098371336,104.19258045602606,0.002733224755700326,-0.0068996742671009765,-0.02937928338762215,-0.00719557003257329,-0.0135757003257329,0.0035456026058631913,-0.01851231270358306,-0.020931530944625406,0.005905407166123779,7.446387426710097,0.13203680781758956,2.401787947882736,0.9823779804560261,1808.0911832573292,0.18355368078175896,8579.920343778502,0.0021856677524429977,0.0005290553745928339,-0.0005431270358306187,-2.8794788273615638e-05,6.006514657980457e-05,0.016707622149837138,0.0,-0.016520716612377848,0.001342019543973941,-2.2475570032573292e-05,-6.5146579804560266e-06,0.0014504885993485346,-0.009798697068403906,-1.3159609120521179e-05,-0.0005199348534201955,0.0005429967426710096,-0.0017925732899022795,-0.010856677524429967,0.9453880130293161,0.00012175895765472314,747.3108912052116,0.987111009771987,58.624356677524425,0.5933082084690554,0.9707876872964168,6.311174723127036,15.796410423452768,3.898834527687296,15.82957003257329,15.794671009771987,1.1834908143322476,2.7516885993485345,0.6485396091205211,3.1913622149837133,-0.553322671009772,0.7451339413680782,0.9978138110749185,2.318583061889251,1004.0189854723127,39.389824495114006,117.00651465798046,137.48423452768728,122.12436482084692,57.11042136807818,411.5806299022802,26.375837719869708,0.0,6.584657980456027,0.004147622149837133,0.11999237785016288,0.0635556351791531,0.05496540716612378,0.017428925081433223,8.473733159609122,0.0,6.808902931596092,14.109250814332247,1.209368729641694,0.011944364820846905,7.694306188925082,0.505958306188925,0.058349837133550485,879.299674267101,555.6514657980456,4069.2912052117263,4811.184364820847,0.1403100977198697,0.12764104234527685,0.2512384364820847,2.7879478827361566,1.2356351791530946,0.12441824104234525,0.400514657980456,0.6841837133550488,0.11977570032573291,0.3198554397394137,0.5761228013029316,0.31985537459283386,0.7767933550488599,0.24461980456026058,0.39395765472312705,0.0,0.0,19.01304885993485,0.5464657980456027,10.772032573289902,26.698877394136808,0.14493335504885993,7.388169381107492,0.0,17.96971980456026,43.143563517915304,0.0,0.0,0.0,0.0,0.0,0.0,0.278128990228013,8.684039087947882,20.11556351791531,0.5579941368078175,11.493387622149836,17.64082736156352,7.821081433224756,10.166651335504886,30.14756143322476,32.76111609120521,9.06899022801303,0.0013029315960912053,20.44091856677524,73.30312899022802,0.03006514657980456,0.0882585667752443,0.05622586319218242,0.05098416938110748,0.05989022801302932,0.08277263843648207,0.08045328990228014,0.08282638436482084,0.07107758957654724,3.7718421498371337,0.003220130293159609,0.060693355048859934,0.008924234527687296,122.87577934853421,0.057604104234527685,1011.3812959609121,0.0,0.0191528338762215,0.0178414332247557,0.0,0.0,0.0,0.0,0.0,0.0,0.0,0.0,0.0,0.004791335504885992,0.004576612377850163,0.0,0.0,0.0,0.0,0.02525472312703583,0.0010542671009771984,109.49897524429969,0.0043376547231270355,4.678950879478826,0.032939348534201954,0.013896286644951138,0.4037164820846905,0.0,0.0,0.0,0.0,0.0,0.0,0.0,0.0,0.0,0.0,0.0,0.07044267100977199,19.50849381107492,3.7750448208469054,29.09201654723127,45.84113791530945,41.12568866449511,20.015031791530944,134.6094438436482,8.792538762214981,0.0,2.192168990228013,0.0011124429967426708,0.0410485342019544,0.018008143322475568,0.01506788273615635,0.00577530944625407,2.8049158957654723,0.0,2.1165434527687297,4.277466775244299,0.3715233224755701,0.003929185667752443,2.5777338110749186,0.12318820846905537,0.020005798045602607,400.3785313355049,253.24181061889252,1879.7524678827363,2350.851710488599,0.0638628013029316,0.060120521172638434,0.11803068403908795,0.9097316612377849,0.4034250162866449,0.040365667752443,0.13210482084690553,0.2648711400651466,0.04850840390879478,0.12885980456026058,0.21836918566775243,0.1288599348534202,0.3043616286644951,0.09730325732899023,0.1597828013029316,0.0,0.0,0.0,5.97599661237785,0.17245798045602603,3.185335895765473,7.928476221498371,0.043147687296416944,2.2700348534201953,0.0,5.402768599348535,13.30757641693811,0.0,0.0,0.0,0.0,0.0,0.0,0.08197100977198697,2.5921888599348533,6.2236614332247555,0.1686414332247557,3.4174811726384364,9.747853811074918,2.3218536156351792,3.0382019543973944,9.349472573289901,14.921237524429968,2.7380166123778498,0.00029133550488599346,6.218302410423452,23.230479478827366,0.009064951140065147,0.0245357003257329,0.025017263843648208,0.02300058631921824,0.027368208469055372,0.023197198697068405,0.04002618892508143,0.04159869706840391,0.034269315960912046,1.2989127035830619,0.0009883387622149837,0.019829641693811073,0.002980846905537459,39.94322631921824,0.017837133550488597,323.81753042345275,0.0,0.005205342019543973,0.004813224755700325,0.0037859283387622145,0.0031748534201954397,0.0,0.0,0.0,0.0,0.0,0.0,0.0,0.0016018892508143322,0.0015710097719869708,0.0,0.0,0.0,0.0,0.00830403908794788,0.00033583061889250806,35.11617928338762,0.0013543322475570033,1.4427398697068405,0.010864234527687297,0.0045205863192182396,0.13399758957654723,0.0,0.0,0.0,0.0,0.0,0.0,0.0,0.0,0.0,0.0,0.0,0.024153941368078174,6.7341111400651466,1.2308015635179155,5.298309771986971,4.555801824104234,4.907530553745929,2.59382325732899,30.69114605863192,25.30779081433225,0.0,6.569763517915309,3.3868834527687297,8.186269576547232,320.27696729641696,309.1489192833876,1.8233162866449513,4.175001758957655,0.0,77.60884436482085,3.328612703583062,6.823508208469056,1.2357921824104234,4.057189706840391,4.2134070358306195,4.191182996742671,18.393667882736157,22.3875874267101,99.7223535504886,205.09861107491858,14.76602892508143,9.383080846905537,7.518071661237786,4.016018566775244,54.7250135504886,70.71705596091206,11.525835504885992,0.8018315309446254,1.3415236482084691,0.6334123778501629,0.894891661237785,0.6465983713355048,1.1730694462540716,0.2817657980456026,0.3315555048859935,0.0,0.0,0.0,5.347034527687296,5.458011921824104,7.875851791530944,3.6415660586319216,12.345034136807818,5.279501824104234,0.0,2.8436044299674266,29.266377394136804,0.0,0.0,0.0,0.0,0.0,0.0,6.059277719869707,223.45489726384366,5.668683452768729,5.374526579804559,9.597468859934855,138.1199741368078,39.34279342019544,37.59579231270358,4.2729349837133555,20.188985146579803,6.27322996742671,0.13029315960912052,3.2935351140065148,75.69799530944626,0.0,316.24216208469056,203.76650299674267,214.3866,198.20597192182407,300.7233540716612,236.83053563517913,350.470148208469,268.23692807817594,51.36919439739414,2.418319674267101,2.529087947882736,0.9681185016286644,6.808354006514659,28.949708013029316,11.48470599348534,0.0,261.25602019543976,240.96566560260587,0.0,0.0,0.0,0.0,0.0,0.0,0.0,0.0,0.0,55.77318912052118,275.9040506188925,0.0,0.0,0.0,0.0,2.7054711400651463,11.200648143322475,14.709653159609122,0.4596338110749186,5.699025863192183,5.51440684039088,1.438617328990228,6.393236742671009,0.0,0.0,0.0,0.0,0.0,0.0,0.0,0.0,0.0,0.0,0.0,3.0280581758957656,1.943285928338762,9.604882866449513,0.1110500325732899,0.00846201954397394,0.0025069706840390874,7.604432247557004,0.9940373941368079,0.3257742671009772,0.07251628664495113,32.29638918566775,530.5133459283388,2.1011634527687297,28.317347622149835,0.34508351791530945,9.12467687296417,0.1045272312703583,5.537361237785015,16.615189576547234,0.49976625407166125,0.015320325732899024,0.003846384364820847,3.0684145276872967,0.021502019543973943,0.016473811074918566,0.005284234527687296,99.0163951791531,0.06710097719869706],\"xaxis\":\"x\",\"yaxis\":\"y\",\"type\":\"histogram\"}],                        {\"template\":{\"data\":{\"bar\":[{\"error_x\":{\"color\":\"#2a3f5f\"},\"error_y\":{\"color\":\"#2a3f5f\"},\"marker\":{\"line\":{\"color\":\"#E5ECF6\",\"width\":0.5},\"pattern\":{\"fillmode\":\"overlay\",\"size\":10,\"solidity\":0.2}},\"type\":\"bar\"}],\"barpolar\":[{\"marker\":{\"line\":{\"color\":\"#E5ECF6\",\"width\":0.5},\"pattern\":{\"fillmode\":\"overlay\",\"size\":10,\"solidity\":0.2}},\"type\":\"barpolar\"}],\"carpet\":[{\"aaxis\":{\"endlinecolor\":\"#2a3f5f\",\"gridcolor\":\"white\",\"linecolor\":\"white\",\"minorgridcolor\":\"white\",\"startlinecolor\":\"#2a3f5f\"},\"baxis\":{\"endlinecolor\":\"#2a3f5f\",\"gridcolor\":\"white\",\"linecolor\":\"white\",\"minorgridcolor\":\"white\",\"startlinecolor\":\"#2a3f5f\"},\"type\":\"carpet\"}],\"choropleth\":[{\"colorbar\":{\"outlinewidth\":0,\"ticks\":\"\"},\"type\":\"choropleth\"}],\"contour\":[{\"colorbar\":{\"outlinewidth\":0,\"ticks\":\"\"},\"colorscale\":[[0.0,\"#0d0887\"],[0.1111111111111111,\"#46039f\"],[0.2222222222222222,\"#7201a8\"],[0.3333333333333333,\"#9c179e\"],[0.4444444444444444,\"#bd3786\"],[0.5555555555555556,\"#d8576b\"],[0.6666666666666666,\"#ed7953\"],[0.7777777777777778,\"#fb9f3a\"],[0.8888888888888888,\"#fdca26\"],[1.0,\"#f0f921\"]],\"type\":\"contour\"}],\"contourcarpet\":[{\"colorbar\":{\"outlinewidth\":0,\"ticks\":\"\"},\"type\":\"contourcarpet\"}],\"heatmap\":[{\"colorbar\":{\"outlinewidth\":0,\"ticks\":\"\"},\"colorscale\":[[0.0,\"#0d0887\"],[0.1111111111111111,\"#46039f\"],[0.2222222222222222,\"#7201a8\"],[0.3333333333333333,\"#9c179e\"],[0.4444444444444444,\"#bd3786\"],[0.5555555555555556,\"#d8576b\"],[0.6666666666666666,\"#ed7953\"],[0.7777777777777778,\"#fb9f3a\"],[0.8888888888888888,\"#fdca26\"],[1.0,\"#f0f921\"]],\"type\":\"heatmap\"}],\"heatmapgl\":[{\"colorbar\":{\"outlinewidth\":0,\"ticks\":\"\"},\"colorscale\":[[0.0,\"#0d0887\"],[0.1111111111111111,\"#46039f\"],[0.2222222222222222,\"#7201a8\"],[0.3333333333333333,\"#9c179e\"],[0.4444444444444444,\"#bd3786\"],[0.5555555555555556,\"#d8576b\"],[0.6666666666666666,\"#ed7953\"],[0.7777777777777778,\"#fb9f3a\"],[0.8888888888888888,\"#fdca26\"],[1.0,\"#f0f921\"]],\"type\":\"heatmapgl\"}],\"histogram\":[{\"marker\":{\"pattern\":{\"fillmode\":\"overlay\",\"size\":10,\"solidity\":0.2}},\"type\":\"histogram\"}],\"histogram2d\":[{\"colorbar\":{\"outlinewidth\":0,\"ticks\":\"\"},\"colorscale\":[[0.0,\"#0d0887\"],[0.1111111111111111,\"#46039f\"],[0.2222222222222222,\"#7201a8\"],[0.3333333333333333,\"#9c179e\"],[0.4444444444444444,\"#bd3786\"],[0.5555555555555556,\"#d8576b\"],[0.6666666666666666,\"#ed7953\"],[0.7777777777777778,\"#fb9f3a\"],[0.8888888888888888,\"#fdca26\"],[1.0,\"#f0f921\"]],\"type\":\"histogram2d\"}],\"histogram2dcontour\":[{\"colorbar\":{\"outlinewidth\":0,\"ticks\":\"\"},\"colorscale\":[[0.0,\"#0d0887\"],[0.1111111111111111,\"#46039f\"],[0.2222222222222222,\"#7201a8\"],[0.3333333333333333,\"#9c179e\"],[0.4444444444444444,\"#bd3786\"],[0.5555555555555556,\"#d8576b\"],[0.6666666666666666,\"#ed7953\"],[0.7777777777777778,\"#fb9f3a\"],[0.8888888888888888,\"#fdca26\"],[1.0,\"#f0f921\"]],\"type\":\"histogram2dcontour\"}],\"mesh3d\":[{\"colorbar\":{\"outlinewidth\":0,\"ticks\":\"\"},\"type\":\"mesh3d\"}],\"parcoords\":[{\"line\":{\"colorbar\":{\"outlinewidth\":0,\"ticks\":\"\"}},\"type\":\"parcoords\"}],\"pie\":[{\"automargin\":true,\"type\":\"pie\"}],\"scatter\":[{\"marker\":{\"colorbar\":{\"outlinewidth\":0,\"ticks\":\"\"}},\"type\":\"scatter\"}],\"scatter3d\":[{\"line\":{\"colorbar\":{\"outlinewidth\":0,\"ticks\":\"\"}},\"marker\":{\"colorbar\":{\"outlinewidth\":0,\"ticks\":\"\"}},\"type\":\"scatter3d\"}],\"scattercarpet\":[{\"marker\":{\"colorbar\":{\"outlinewidth\":0,\"ticks\":\"\"}},\"type\":\"scattercarpet\"}],\"scattergeo\":[{\"marker\":{\"colorbar\":{\"outlinewidth\":0,\"ticks\":\"\"}},\"type\":\"scattergeo\"}],\"scattergl\":[{\"marker\":{\"colorbar\":{\"outlinewidth\":0,\"ticks\":\"\"}},\"type\":\"scattergl\"}],\"scattermapbox\":[{\"marker\":{\"colorbar\":{\"outlinewidth\":0,\"ticks\":\"\"}},\"type\":\"scattermapbox\"}],\"scatterpolar\":[{\"marker\":{\"colorbar\":{\"outlinewidth\":0,\"ticks\":\"\"}},\"type\":\"scatterpolar\"}],\"scatterpolargl\":[{\"marker\":{\"colorbar\":{\"outlinewidth\":0,\"ticks\":\"\"}},\"type\":\"scatterpolargl\"}],\"scatterternary\":[{\"marker\":{\"colorbar\":{\"outlinewidth\":0,\"ticks\":\"\"}},\"type\":\"scatterternary\"}],\"surface\":[{\"colorbar\":{\"outlinewidth\":0,\"ticks\":\"\"},\"colorscale\":[[0.0,\"#0d0887\"],[0.1111111111111111,\"#46039f\"],[0.2222222222222222,\"#7201a8\"],[0.3333333333333333,\"#9c179e\"],[0.4444444444444444,\"#bd3786\"],[0.5555555555555556,\"#d8576b\"],[0.6666666666666666,\"#ed7953\"],[0.7777777777777778,\"#fb9f3a\"],[0.8888888888888888,\"#fdca26\"],[1.0,\"#f0f921\"]],\"type\":\"surface\"}],\"table\":[{\"cells\":{\"fill\":{\"color\":\"#EBF0F8\"},\"line\":{\"color\":\"white\"}},\"header\":{\"fill\":{\"color\":\"#C8D4E3\"},\"line\":{\"color\":\"white\"}},\"type\":\"table\"}]},\"layout\":{\"annotationdefaults\":{\"arrowcolor\":\"#2a3f5f\",\"arrowhead\":0,\"arrowwidth\":1},\"autotypenumbers\":\"strict\",\"coloraxis\":{\"colorbar\":{\"outlinewidth\":0,\"ticks\":\"\"}},\"colorscale\":{\"diverging\":[[0,\"#8e0152\"],[0.1,\"#c51b7d\"],[0.2,\"#de77ae\"],[0.3,\"#f1b6da\"],[0.4,\"#fde0ef\"],[0.5,\"#f7f7f7\"],[0.6,\"#e6f5d0\"],[0.7,\"#b8e186\"],[0.8,\"#7fbc41\"],[0.9,\"#4d9221\"],[1,\"#276419\"]],\"sequential\":[[0.0,\"#0d0887\"],[0.1111111111111111,\"#46039f\"],[0.2222222222222222,\"#7201a8\"],[0.3333333333333333,\"#9c179e\"],[0.4444444444444444,\"#bd3786\"],[0.5555555555555556,\"#d8576b\"],[0.6666666666666666,\"#ed7953\"],[0.7777777777777778,\"#fb9f3a\"],[0.8888888888888888,\"#fdca26\"],[1.0,\"#f0f921\"]],\"sequentialminus\":[[0.0,\"#0d0887\"],[0.1111111111111111,\"#46039f\"],[0.2222222222222222,\"#7201a8\"],[0.3333333333333333,\"#9c179e\"],[0.4444444444444444,\"#bd3786\"],[0.5555555555555556,\"#d8576b\"],[0.6666666666666666,\"#ed7953\"],[0.7777777777777778,\"#fb9f3a\"],[0.8888888888888888,\"#fdca26\"],[1.0,\"#f0f921\"]]},\"colorway\":[\"#636efa\",\"#EF553B\",\"#00cc96\",\"#ab63fa\",\"#FFA15A\",\"#19d3f3\",\"#FF6692\",\"#B6E880\",\"#FF97FF\",\"#FECB52\"],\"font\":{\"color\":\"#2a3f5f\"},\"geo\":{\"bgcolor\":\"white\",\"lakecolor\":\"white\",\"landcolor\":\"#E5ECF6\",\"showlakes\":true,\"showland\":true,\"subunitcolor\":\"white\"},\"hoverlabel\":{\"align\":\"left\"},\"hovermode\":\"closest\",\"mapbox\":{\"style\":\"light\"},\"paper_bgcolor\":\"white\",\"plot_bgcolor\":\"#E5ECF6\",\"polar\":{\"angularaxis\":{\"gridcolor\":\"white\",\"linecolor\":\"white\",\"ticks\":\"\"},\"bgcolor\":\"#E5ECF6\",\"radialaxis\":{\"gridcolor\":\"white\",\"linecolor\":\"white\",\"ticks\":\"\"}},\"scene\":{\"xaxis\":{\"backgroundcolor\":\"#E5ECF6\",\"gridcolor\":\"white\",\"gridwidth\":2,\"linecolor\":\"white\",\"showbackground\":true,\"ticks\":\"\",\"zerolinecolor\":\"white\"},\"yaxis\":{\"backgroundcolor\":\"#E5ECF6\",\"gridcolor\":\"white\",\"gridwidth\":2,\"linecolor\":\"white\",\"showbackground\":true,\"ticks\":\"\",\"zerolinecolor\":\"white\"},\"zaxis\":{\"backgroundcolor\":\"#E5ECF6\",\"gridcolor\":\"white\",\"gridwidth\":2,\"linecolor\":\"white\",\"showbackground\":true,\"ticks\":\"\",\"zerolinecolor\":\"white\"}},\"shapedefaults\":{\"line\":{\"color\":\"#2a3f5f\"}},\"ternary\":{\"aaxis\":{\"gridcolor\":\"white\",\"linecolor\":\"white\",\"ticks\":\"\"},\"baxis\":{\"gridcolor\":\"white\",\"linecolor\":\"white\",\"ticks\":\"\"},\"bgcolor\":\"#E5ECF6\",\"caxis\":{\"gridcolor\":\"white\",\"linecolor\":\"white\",\"ticks\":\"\"}},\"title\":{\"x\":0.05},\"xaxis\":{\"automargin\":true,\"gridcolor\":\"white\",\"linecolor\":\"white\",\"ticks\":\"\",\"title\":{\"standoff\":15},\"zerolinecolor\":\"white\",\"zerolinewidth\":2},\"yaxis\":{\"automargin\":true,\"gridcolor\":\"white\",\"linecolor\":\"white\",\"ticks\":\"\",\"title\":{\"standoff\":15},\"zerolinecolor\":\"white\",\"zerolinewidth\":2}}},\"xaxis\":{\"anchor\":\"y\",\"domain\":[0.0,1.0],\"title\":{\"text\":\"value\"}},\"yaxis\":{\"anchor\":\"x\",\"domain\":[0.0,1.0],\"title\":{\"text\":\"count\"}},\"legend\":{\"title\":{\"text\":\"variable\"},\"tracegroupgap\":0},\"title\":{\"text\":\"Mean Histogram\"},\"barmode\":\"relative\"},                        {\"responsive\": true}                    ).then(function(){\n",
              "                            \n",
              "var gd = document.getElementById('06a38990-5a71-4d8a-8602-3f4f78006f25');\n",
              "var x = new MutationObserver(function (mutations, observer) {{\n",
              "        var display = window.getComputedStyle(gd).display;\n",
              "        if (!display || display === 'none') {{\n",
              "            console.log([gd, 'removed!']);\n",
              "            Plotly.purge(gd);\n",
              "            observer.disconnect();\n",
              "        }}\n",
              "}});\n",
              "\n",
              "// Listen for the removal of the full notebook cells\n",
              "var notebookContainer = gd.closest('#notebook-container');\n",
              "if (notebookContainer) {{\n",
              "    x.observe(notebookContainer, {childList: true});\n",
              "}}\n",
              "\n",
              "// Listen for the clearing of the current output cell\n",
              "var outputEl = gd.closest('.output');\n",
              "if (outputEl) {{\n",
              "    x.observe(outputEl, {childList: true});\n",
              "}}\n",
              "\n",
              "                        })                };                            </script>        </div>\n",
              "</body>\n",
              "</html>"
            ]
          },
          "metadata": {}
        }
      ]
    },
    {
      "cell_type": "markdown",
      "metadata": {
        "id": "PZMHVVjl7YnX"
      },
      "source": [
        "Scikit-learn has a utility function for conducting standard scalars `StandardScaler()`\n",
        "\n",
        "We could implement the standard scaler in steps but it is more convenient to do it with a pipeline"
      ]
    },
    {
      "cell_type": "markdown",
      "metadata": {
        "id": "nBh7FGX47YnX"
      },
      "source": [
        "### Scaled Logistic Regression (5 points)\n",
        "\n",
        "1. Use the `Pipeline` utility to create a machine learning model that:\n",
        "    - Computes the standard scalar of the data\n",
        "    - Conducts logistic regression\n",
        "2. Fit the model"
      ]
    },
    {
      "cell_type": "code",
      "execution_count": null,
      "metadata": {
        "id": "3V1JmQ1e7YnY",
        "colab": {
          "base_uri": "https://localhost:8080/"
        },
        "outputId": "9d87d318-3c39-45ea-830a-6b675103df0a"
      },
      "outputs": [
        {
          "output_type": "execute_result",
          "data": {
            "text/plain": [
              "(1074, 538)"
            ]
          },
          "metadata": {},
          "execution_count": 96
        }
      ],
      "source": [
        "# Your code goes here\n",
        "X_normalized=df.drop('Pass/Fail', axis=1)\n",
        "y_normalized=df['Pass/Fail']\n",
        "X_normalized = StandardScaler().fit_transform(X_normalized)\n",
        "\n",
        "X_normalized_train, X_normalized_test, y_normalized_train, y_normalized_test=train_test_split(X_normalized, y_normalized, stratify=y_normalized, test_size=0.3, random_state=42)\n",
        "\n",
        "lr_n = LogisticRegression(max_iter=1500)\n",
        "X_normalized_train.shape"
      ]
    },
    {
      "cell_type": "code",
      "source": [
        "from sklearn.pipeline import make_pipeline\n",
        "from sklearn import set_config\n",
        "\n",
        "X_normalized=df.drop('Pass/Fail', axis=1)\n",
        "y_normalized=df['Pass/Fail']\n",
        "\n",
        "set_config(display=\"diagram\")\n",
        "Pipeline(steps=[('StandardScaler', StandardScaler()), ('Logistic Regression', LogisticRegression(max_iter=1500))])"
      ],
      "metadata": {
        "colab": {
          "base_uri": "https://localhost:8080/",
          "height": 126
        },
        "id": "nLzp5IiE_UeE",
        "outputId": "9cc5a7fc-7324-4188-ee9b-429ad72f7502"
      },
      "execution_count": null,
      "outputs": [
        {
          "output_type": "execute_result",
          "data": {
            "text/plain": [
              "Pipeline(steps=[('StandardScaler', StandardScaler()),\n",
              "                ('Logistic Regression', LogisticRegression(max_iter=1500))])"
            ],
            "text/html": [
              "<style>#sk-8c60f9b9-1c16-43ac-9fdf-02e7508d802f {color: black;background-color: white;}#sk-8c60f9b9-1c16-43ac-9fdf-02e7508d802f pre{padding: 0;}#sk-8c60f9b9-1c16-43ac-9fdf-02e7508d802f div.sk-toggleable {background-color: white;}#sk-8c60f9b9-1c16-43ac-9fdf-02e7508d802f label.sk-toggleable__label {cursor: pointer;display: block;width: 100%;margin-bottom: 0;padding: 0.3em;box-sizing: border-box;text-align: center;}#sk-8c60f9b9-1c16-43ac-9fdf-02e7508d802f label.sk-toggleable__label-arrow:before {content: \"▸\";float: left;margin-right: 0.25em;color: #696969;}#sk-8c60f9b9-1c16-43ac-9fdf-02e7508d802f label.sk-toggleable__label-arrow:hover:before {color: black;}#sk-8c60f9b9-1c16-43ac-9fdf-02e7508d802f div.sk-estimator:hover label.sk-toggleable__label-arrow:before {color: black;}#sk-8c60f9b9-1c16-43ac-9fdf-02e7508d802f div.sk-toggleable__content {max-height: 0;max-width: 0;overflow: hidden;text-align: left;background-color: #f0f8ff;}#sk-8c60f9b9-1c16-43ac-9fdf-02e7508d802f div.sk-toggleable__content pre {margin: 0.2em;color: black;border-radius: 0.25em;background-color: #f0f8ff;}#sk-8c60f9b9-1c16-43ac-9fdf-02e7508d802f input.sk-toggleable__control:checked~div.sk-toggleable__content {max-height: 200px;max-width: 100%;overflow: auto;}#sk-8c60f9b9-1c16-43ac-9fdf-02e7508d802f input.sk-toggleable__control:checked~label.sk-toggleable__label-arrow:before {content: \"▾\";}#sk-8c60f9b9-1c16-43ac-9fdf-02e7508d802f div.sk-estimator input.sk-toggleable__control:checked~label.sk-toggleable__label {background-color: #d4ebff;}#sk-8c60f9b9-1c16-43ac-9fdf-02e7508d802f div.sk-label input.sk-toggleable__control:checked~label.sk-toggleable__label {background-color: #d4ebff;}#sk-8c60f9b9-1c16-43ac-9fdf-02e7508d802f input.sk-hidden--visually {border: 0;clip: rect(1px 1px 1px 1px);clip: rect(1px, 1px, 1px, 1px);height: 1px;margin: -1px;overflow: hidden;padding: 0;position: absolute;width: 1px;}#sk-8c60f9b9-1c16-43ac-9fdf-02e7508d802f div.sk-estimator {font-family: monospace;background-color: #f0f8ff;border: 1px dotted black;border-radius: 0.25em;box-sizing: border-box;margin-bottom: 0.5em;}#sk-8c60f9b9-1c16-43ac-9fdf-02e7508d802f div.sk-estimator:hover {background-color: #d4ebff;}#sk-8c60f9b9-1c16-43ac-9fdf-02e7508d802f div.sk-parallel-item::after {content: \"\";width: 100%;border-bottom: 1px solid gray;flex-grow: 1;}#sk-8c60f9b9-1c16-43ac-9fdf-02e7508d802f div.sk-label:hover label.sk-toggleable__label {background-color: #d4ebff;}#sk-8c60f9b9-1c16-43ac-9fdf-02e7508d802f div.sk-serial::before {content: \"\";position: absolute;border-left: 1px solid gray;box-sizing: border-box;top: 2em;bottom: 0;left: 50%;}#sk-8c60f9b9-1c16-43ac-9fdf-02e7508d802f div.sk-serial {display: flex;flex-direction: column;align-items: center;background-color: white;padding-right: 0.2em;padding-left: 0.2em;}#sk-8c60f9b9-1c16-43ac-9fdf-02e7508d802f div.sk-item {z-index: 1;}#sk-8c60f9b9-1c16-43ac-9fdf-02e7508d802f div.sk-parallel {display: flex;align-items: stretch;justify-content: center;background-color: white;}#sk-8c60f9b9-1c16-43ac-9fdf-02e7508d802f div.sk-parallel::before {content: \"\";position: absolute;border-left: 1px solid gray;box-sizing: border-box;top: 2em;bottom: 0;left: 50%;}#sk-8c60f9b9-1c16-43ac-9fdf-02e7508d802f div.sk-parallel-item {display: flex;flex-direction: column;position: relative;background-color: white;}#sk-8c60f9b9-1c16-43ac-9fdf-02e7508d802f div.sk-parallel-item:first-child::after {align-self: flex-end;width: 50%;}#sk-8c60f9b9-1c16-43ac-9fdf-02e7508d802f div.sk-parallel-item:last-child::after {align-self: flex-start;width: 50%;}#sk-8c60f9b9-1c16-43ac-9fdf-02e7508d802f div.sk-parallel-item:only-child::after {width: 0;}#sk-8c60f9b9-1c16-43ac-9fdf-02e7508d802f div.sk-dashed-wrapped {border: 1px dashed gray;margin: 0 0.4em 0.5em 0.4em;box-sizing: border-box;padding-bottom: 0.4em;background-color: white;position: relative;}#sk-8c60f9b9-1c16-43ac-9fdf-02e7508d802f div.sk-label label {font-family: monospace;font-weight: bold;background-color: white;display: inline-block;line-height: 1.2em;}#sk-8c60f9b9-1c16-43ac-9fdf-02e7508d802f div.sk-label-container {position: relative;z-index: 2;text-align: center;}#sk-8c60f9b9-1c16-43ac-9fdf-02e7508d802f div.sk-container {/* jupyter's `normalize.less` sets `[hidden] { display: none; }` but bootstrap.min.css set `[hidden] { display: none !important; }` so we also need the `!important` here to be able to override the default hidden behavior on the sphinx rendered scikit-learn.org. See: https://github.com/scikit-learn/scikit-learn/issues/21755 */display: inline-block !important;position: relative;}#sk-8c60f9b9-1c16-43ac-9fdf-02e7508d802f div.sk-text-repr-fallback {display: none;}</style><div id=\"sk-8c60f9b9-1c16-43ac-9fdf-02e7508d802f\" class=\"sk-top-container\"><div class=\"sk-text-repr-fallback\"><pre>Pipeline(steps=[(&#x27;StandardScaler&#x27;, StandardScaler()),\n",
              "                (&#x27;Logistic Regression&#x27;, LogisticRegression(max_iter=1500))])</pre><b>Please rerun this cell to show the HTML repr or trust the notebook.</b></div><div class=\"sk-container\" hidden><div class=\"sk-item sk-dashed-wrapped\"><div class=\"sk-label-container\"><div class=\"sk-label sk-toggleable\"><input class=\"sk-toggleable__control sk-hidden--visually\" id=\"95e9d396-5fac-46f1-8541-be33aae4a517\" type=\"checkbox\" ><label for=\"95e9d396-5fac-46f1-8541-be33aae4a517\" class=\"sk-toggleable__label sk-toggleable__label-arrow\">Pipeline</label><div class=\"sk-toggleable__content\"><pre>Pipeline(steps=[(&#x27;StandardScaler&#x27;, StandardScaler()),\n",
              "                (&#x27;Logistic Regression&#x27;, LogisticRegression(max_iter=1500))])</pre></div></div></div><div class=\"sk-serial\"><div class=\"sk-item\"><div class=\"sk-estimator sk-toggleable\"><input class=\"sk-toggleable__control sk-hidden--visually\" id=\"16fc6f86-ccd0-49e6-9197-17cdce5bda8d\" type=\"checkbox\" ><label for=\"16fc6f86-ccd0-49e6-9197-17cdce5bda8d\" class=\"sk-toggleable__label sk-toggleable__label-arrow\">StandardScaler</label><div class=\"sk-toggleable__content\"><pre>StandardScaler()</pre></div></div></div><div class=\"sk-item\"><div class=\"sk-estimator sk-toggleable\"><input class=\"sk-toggleable__control sk-hidden--visually\" id=\"6152ff2b-dd72-4085-9bf0-c5fb9c0be52f\" type=\"checkbox\" ><label for=\"6152ff2b-dd72-4085-9bf0-c5fb9c0be52f\" class=\"sk-toggleable__label sk-toggleable__label-arrow\">LogisticRegression</label><div class=\"sk-toggleable__content\"><pre>LogisticRegression(max_iter=1500)</pre></div></div></div></div></div></div></div>"
            ]
          },
          "metadata": {},
          "execution_count": 97
        }
      ]
    },
    {
      "cell_type": "markdown",
      "metadata": {
        "id": "VdBdn_7Y7YnY"
      },
      "source": [
        "Visualize the results as you have done before"
      ]
    },
    {
      "cell_type": "code",
      "execution_count": null,
      "metadata": {
        "id": "9WwKs6xT7YnY",
        "colab": {
          "base_uri": "https://localhost:8080/",
          "height": 756
        },
        "outputId": "26c8cd47-fc8e-48c0-f798-0cd43e833530"
      },
      "outputs": [
        {
          "output_type": "stream",
          "name": "stderr",
          "text": [
            "/usr/local/lib/python3.8/dist-packages/sklearn/base.py:450: UserWarning:\n",
            "\n",
            "X does not have valid feature names, but LogisticRegression was fitted with feature names\n",
            "\n"
          ]
        },
        {
          "output_type": "stream",
          "name": "stdout",
          "text": [
            "classification reports:\n",
            "               precision    recall  f1-score   support\n",
            "\n",
            "           0       0.98      0.54      0.70      1002\n",
            "           1       0.12      0.86      0.21        72\n",
            "\n",
            "    accuracy                           0.56      1074\n",
            "   macro avg       0.55      0.70      0.45      1074\n",
            "weighted avg       0.92      0.56      0.67      1074\n",
            "\n"
          ]
        },
        {
          "output_type": "display_data",
          "data": {
            "text/plain": [
              "<Figure size 864x576 with 1 Axes>"
            ],
            "image/png": "[encoded data removed]"
          },
          "metadata": {
            "needs_background": "light"
          }
        }
      ],
      "source": [
        "y_normalized_pred_train= lr.predict(X_normalized_train)\n",
        "\n",
        "print(\"classification reports:\\n\",classification_report(y_normalized_train, y_normalized_pred_train))\n",
        "cm = confusion_matrix(y_normalized_train,y_normalized_pred_train)\n",
        "    \n",
        "fig, ax = plt.subplots(figsize=(12,8))\n",
        "plt.clf()\n",
        "plt.imshow(cm, interpolation='nearest', cmap=plt.cm.cividis)\n",
        "classNames = ['Negative','Positive']\n",
        "plt.title('Pass/Fail Index')\n",
        "plt.ylabel('True label')\n",
        "plt.xlabel('Predicted label')\n",
        "tick_marks = np.arange(len(classNames))\n",
        "plt.xticks(tick_marks, classNames)\n",
        "plt.yticks(tick_marks, classNames)\n",
        "s = [['TN','FP'], ['FN', 'TP']]\n",
        "for i in range(2):\n",
        "    for j in range(2):\n",
        "        plt.text(j,i, str(s[i][j])+\" = \"+str(cm[i][j]))\n",
        "plt.show()"
      ]
    },
    {
      "cell_type": "code",
      "execution_count": null,
      "metadata": {
        "id": "HLvlNVkD7YnY",
        "colab": {
          "base_uri": "https://localhost:8080/",
          "height": 756
        },
        "outputId": "122d471e-2bbf-4248-c085-f48ecd9e5a8b"
      },
      "outputs": [
        {
          "output_type": "stream",
          "name": "stdout",
          "text": [
            "classification reports:\n",
            "               precision    recall  f1-score   support\n",
            "\n",
            "           0       0.96      0.57      0.71       430\n",
            "           1       0.10      0.68      0.18        31\n",
            "\n",
            "    accuracy                           0.57       461\n",
            "   macro avg       0.53      0.62      0.44       461\n",
            "weighted avg       0.90      0.57      0.68       461\n",
            "\n"
          ]
        },
        {
          "output_type": "stream",
          "name": "stderr",
          "text": [
            "/usr/local/lib/python3.8/dist-packages/sklearn/base.py:450: UserWarning:\n",
            "\n",
            "X does not have valid feature names, but LogisticRegression was fitted with feature names\n",
            "\n"
          ]
        },
        {
          "output_type": "display_data",
          "data": {
            "text/plain": [
              "<Figure size 864x576 with 1 Axes>"
            ],
            "image/png": "[encoded data removed]"
          },
          "metadata": {
            "needs_background": "light"
          }
        }
      ],
      "source": [
        "# Your code goes here\n",
        "y_normalized_pred_test= lr.predict(X_normalized_test)\n",
        "\n",
        "print(\"classification reports:\\n\",classification_report(y_normalized_test, y_normalized_pred_test))\n",
        "cm = confusion_matrix(y_normalized_test,y_normalized_pred_test)\n",
        "    \n",
        "fig, ax = plt.subplots(figsize=(12,8))\n",
        "plt.clf()\n",
        "plt.imshow(cm, interpolation='nearest', cmap=plt.cm.cividis)\n",
        "classNames = ['Negative','Positive']\n",
        "plt.title('Pass/Fail Index')\n",
        "plt.ylabel('True label')\n",
        "plt.xlabel('Predicted label')\n",
        "tick_marks = np.arange(len(classNames))\n",
        "plt.xticks(tick_marks, classNames)\n",
        "plt.yticks(tick_marks, classNames)\n",
        "s = [['TN','FP'], ['FN', 'TP']]\n",
        "for i in range(2):\n",
        "    for j in range(2):\n",
        "        plt.text(j,i, str(s[i][j])+\" = \"+str(cm[i][j]))\n",
        "plt.show()"
      ]
    },
    {
      "cell_type": "markdown",
      "metadata": {
        "id": "QSV0YjCS7YnY"
      },
      "source": [
        "### Standard Scaled Random Forest (5 points)"
      ]
    },
    {
      "cell_type": "markdown",
      "metadata": {
        "id": "bv9YAU-R7YnY"
      },
      "source": [
        "1. Use the `Pipeline` utility to create a machine learning model that:\n",
        "    - Computes the standard scalar of the data\n",
        "    - Conducts Random Forest\n",
        "2. Fit the model"
      ]
    },
    {
      "cell_type": "code",
      "execution_count": null,
      "metadata": {
        "id": "0F4AF4Cq7YnY"
      },
      "outputs": [],
      "source": [
        "# Your code goes here"
      ]
    },
    {
      "cell_type": "code",
      "execution_count": null,
      "metadata": {
        "id": "iqJ2KUiw7YnZ"
      },
      "outputs": [],
      "source": [
        "# Your code goes here"
      ]
    },
    {
      "cell_type": "markdown",
      "metadata": {
        "id": "1VeipL1R7YnZ"
      },
      "source": [
        "<span style=\"color:blue\"> Question: Explain what is going on with the random forest model? Why are the results so bad? (5 points)</span>"
      ]
    },
    {
      "cell_type": "markdown",
      "metadata": {
        "id": "CaAKJVmo7YnZ"
      },
      "source": [
        "## Feature Reduction\n",
        "\n",
        "### Logistic Regression (5 Points)\n",
        "\n",
        "We can use PCA to reduce the number of features such that highly covariant features are combined. This helps deal with the curse of dimensionality.\n",
        "\n",
        "Add PCA to the pipeline for the logistic regression, and visualize the results as we have done before"
      ]
    },
    {
      "cell_type": "code",
      "execution_count": null,
      "metadata": {
        "id": "x0bezNCD7YnZ"
      },
      "outputs": [],
      "source": [
        "# Your code goes here to build and fit the model"
      ]
    },
    {
      "cell_type": "code",
      "execution_count": null,
      "metadata": {
        "id": "oCF8oMsq7YnZ"
      },
      "outputs": [],
      "source": [
        "# Your code goes here to validate the training performance"
      ]
    },
    {
      "cell_type": "code",
      "execution_count": null,
      "metadata": {
        "id": "tLMRCkjb7Yna"
      },
      "outputs": [],
      "source": [
        "# Your code goes here to validate the test performance"
      ]
    },
    {
      "cell_type": "markdown",
      "metadata": {
        "id": "n7tdb9bF7Yna"
      },
      "source": [
        "### Random Forest (5 points)\n",
        "\n",
        "Add PCA to the pipeline for the logistic regression, and visualize the results as we have done before"
      ]
    },
    {
      "cell_type": "code",
      "execution_count": null,
      "metadata": {
        "id": "jGDOj2kg7Yna"
      },
      "outputs": [],
      "source": [
        "# Your code goes here to build and fit the feature reduced random forest classifier"
      ]
    },
    {
      "cell_type": "code",
      "execution_count": null,
      "metadata": {
        "id": "UYGGV-jY7Yna"
      },
      "outputs": [],
      "source": [
        "# Your code goes here to visualize the training results"
      ]
    },
    {
      "cell_type": "code",
      "execution_count": null,
      "metadata": {
        "id": "wN8SrUzO7Yna"
      },
      "outputs": [],
      "source": [
        "# Your code goes here to visualize the test results"
      ]
    },
    {
      "cell_type": "markdown",
      "metadata": {
        "id": "Ukm2qWOr7Ynb"
      },
      "source": [
        "<span style=\"color:blue\"> Question: Explain if adding PCA helped, explain why you think PCA helped or did not help. (5 points)</span> "
      ]
    },
    {
      "cell_type": "markdown",
      "metadata": {
        "id": "TaWRFaTu7Ynb"
      },
      "source": [
        "## Hyperparameter Tuning \n",
        "\n",
        "To improve a machine learning model you might want to tune the hyperparameters.\n",
        "\n",
        "Scikit-learn has automated tools for cross-validation and hyperparameter search. You can just define a dictionary of values that you want to search and it will try all of the fits returning the best results"
      ]
    },
    {
      "cell_type": "markdown",
      "metadata": {
        "id": "RlY8Rls37Ynb"
      },
      "source": [
        "### Logistic Regression (7.5 points)\n",
        "\n",
        "Conduct build a pipeline and build a parameter grid to search the following hyperparameters:\n",
        "1. C = [ 0.001, .01, .1, 1, 10, 100]\n",
        "2. penalty = ['l1', 'l2']\n",
        "3. class_weight = ['balanced']\n",
        "4. solver = ['saga']\n",
        "5. PCA n_components = [2, 3, 4, 5, 8, 10]\n",
        "\n",
        "To conduct the fitting you should build the classifier with GridSearchCV. This conducts a grid search with cross-folds. See the documentation for more information. \n",
        "\n",
        "For the GridSearchCV set the scoring to 'f1', cv=5. If you want to monitor the status you can set verbose=10. "
      ]
    },
    {
      "cell_type": "code",
      "execution_count": null,
      "metadata": {
        "id": "PTde5kle7Ynb"
      },
      "outputs": [],
      "source": [
        "# Your code goes here"
      ]
    },
    {
      "cell_type": "markdown",
      "metadata": {
        "id": "qYr4NgKT7Ynb"
      },
      "source": [
        "You should look and see what the best estimator was from the search. \n",
        "\n",
        "You can use the `best_estimator_` method"
      ]
    },
    {
      "cell_type": "code",
      "execution_count": null,
      "metadata": {
        "id": "hCzItYHy7Ynb"
      },
      "outputs": [],
      "source": [
        "# your code to evaluate the training process"
      ]
    },
    {
      "cell_type": "code",
      "execution_count": null,
      "metadata": {
        "id": "boCas1lj7Ync"
      },
      "outputs": [],
      "source": [
        "# Your code goes here for validating the model"
      ]
    },
    {
      "cell_type": "markdown",
      "metadata": {
        "id": "s7rRgv7N7Ync"
      },
      "source": [
        "### Random Forest Classifier (7.5 points)\n",
        "\n",
        "Conduct build a pipeline and build a parameter grid to search the following hyperparameters:\n",
        "1. Random Forest Criterion = [ \"gini\", \"entropy\", \"log_loss\"]\n",
        "2. max depth = [4, 8, 12]\n",
        "3. max features = ['sqrt', 'log2']\n",
        "4. PCA n_components = [4, 8, 10, 20]\n",
        "\n",
        "To conduct the fitting you should build the classifier with GridSearchCV. This conducts a grid search with cross-folds. See the documentation for more information. \n",
        "\n",
        "For the GridSearchCV set the scoring to 'f1', cv=5. If you want to monitor the status you can set verbose=10. "
      ]
    },
    {
      "cell_type": "code",
      "execution_count": null,
      "metadata": {
        "id": "rZVJ3NRy7Ync"
      },
      "outputs": [],
      "source": [
        "# Your code goes here"
      ]
    },
    {
      "cell_type": "code",
      "execution_count": null,
      "metadata": {
        "id": "OgVcNv8d7Ync"
      },
      "outputs": [],
      "source": [
        "# Your code to show the best estimator goes here"
      ]
    },
    {
      "cell_type": "code",
      "execution_count": null,
      "metadata": {
        "id": "-tN4HfHq7Ync"
      },
      "outputs": [],
      "source": [
        "# Your code to evaluate the training process"
      ]
    },
    {
      "cell_type": "code",
      "execution_count": null,
      "metadata": {
        "id": "Ee68aK647Ync"
      },
      "outputs": [],
      "source": [
        "# Your code to evaluate the performance of the model"
      ]
    },
    {
      "cell_type": "markdown",
      "metadata": {
        "id": "YUoTYoW67Ynd"
      },
      "source": [
        "## Balancing in the Data (10 points)\n",
        "\n",
        "This is a classification problem, it is useful to see if the classes are balanced as this affects model training. \n",
        "\n",
        "If you have a highly unbalanced dataset you can train a model to predict the most common classes but getting the uncommon classes wrong has little effect on the model performance metrics.\n",
        "\n",
        "View the ratio of the class outcomes. \n",
        "\n",
        "The class outcomes are stored in the ['pass/fail'] column, you can view the values and counts using the `.value_count()` built-in method"
      ]
    },
    {
      "cell_type": "code",
      "execution_count": null,
      "metadata": {
        "id": "ajtlGByr7Ynd"
      },
      "outputs": [],
      "source": [
        "# Your code goes here"
      ]
    },
    {
      "cell_type": "markdown",
      "metadata": {
        "id": "LY4TFzH57Ynd"
      },
      "source": [
        "Use `SMOTE(`)` to balance the dataset"
      ]
    },
    {
      "cell_type": "code",
      "execution_count": null,
      "metadata": {
        "id": "5b-vDpPF7Ynd"
      },
      "outputs": [],
      "source": [
        "# Your code goes here"
      ]
    },
    {
      "cell_type": "code",
      "execution_count": null,
      "metadata": {
        "id": "SLQPTNK67Ynd"
      },
      "outputs": [],
      "source": [
        "# Check that this worked as expected"
      ]
    },
    {
      "cell_type": "markdown",
      "metadata": {
        "id": "mOTVgZGv7Yne"
      },
      "source": [
        "Using the balanced dataset repeat the analysis done with the hyperparameter search\n",
        "\n",
        "### Logistic Regression (5 points)"
      ]
    },
    {
      "cell_type": "code",
      "execution_count": null,
      "metadata": {
        "id": "eakmVYcO7Yne"
      },
      "outputs": [],
      "source": [
        "# Your fitting code here"
      ]
    },
    {
      "cell_type": "code",
      "execution_count": null,
      "metadata": {
        "id": "h30xATlJ7Yne"
      },
      "outputs": [],
      "source": [
        "# Your code to show the best estimator"
      ]
    },
    {
      "cell_type": "code",
      "execution_count": null,
      "metadata": {
        "id": "Ac6c_fzo7Yne"
      },
      "outputs": [],
      "source": [
        "# Your code to check the training process"
      ]
    },
    {
      "cell_type": "code",
      "execution_count": null,
      "metadata": {
        "id": "_cZNAEu77Yne"
      },
      "outputs": [],
      "source": [
        "# Your code to validate the training process"
      ]
    },
    {
      "cell_type": "markdown",
      "metadata": {
        "id": "auYuGimZ7Yne"
      },
      "source": [
        "### Random Forest Classifier (5 Points)"
      ]
    },
    {
      "cell_type": "code",
      "execution_count": null,
      "metadata": {
        "id": "4rjKwqeW7Ynf"
      },
      "outputs": [],
      "source": [
        "# Your code to conduct the classifier"
      ]
    },
    {
      "cell_type": "code",
      "execution_count": null,
      "metadata": {
        "id": "BmR7iAmP7Ynf"
      },
      "outputs": [],
      "source": [
        "# Your code to show the best estimator"
      ]
    },
    {
      "cell_type": "code",
      "execution_count": null,
      "metadata": {
        "id": "sImE3qGF7Ynf"
      },
      "outputs": [],
      "source": [
        "# Your code to validate the training process"
      ]
    },
    {
      "cell_type": "code",
      "execution_count": null,
      "metadata": {
        "id": "lnNXpOto7Ynf"
      },
      "outputs": [],
      "source": [
        "# Your code to validate the model performance"
      ]
    },
    {
      "cell_type": "markdown",
      "metadata": {
        "id": "4GkhgnxQ7Yng"
      },
      "source": [
        "<span style=\"color:blue\">Question: Given that you are trying to predict and determine the underlying features responsible for producing products that \"pass\" which model would be better and why? (5 points)</span>"
      ]
    },
    {
      "cell_type": "markdown",
      "metadata": {
        "id": "YqxbUqBg7Yng"
      },
      "source": [
        "## Bonus (10 Points): \n",
        "\n",
        "Use any method available to you to get a better validation F1 score for the Pass Classification"
      ]
    },
    {
      "cell_type": "markdown",
      "metadata": {
        "id": "uJe4Ssv77Yng"
      },
      "source": [
        "A trick to always get better results is to use ensemble methods"
      ]
    }
  ],
  "metadata": {
    "kernelspec": {
      "display_name": "Python 3.10.0 ('jupyterbook')",
      "language": "python",
      "name": "python3"
    },
    "language_info": {
      "codemirror_mode": {
        "name": "ipython",
        "version": 3
      },
      "file_extension": ".py",
      "mimetype": "text/x-python",
      "name": "python",
      "nbconvert_exporter": "python",
      "pygments_lexer": "ipython3",
      "version": "3.10.8"
    },
    "orig_nbformat": 4,
    "vscode": {
      "interpreter": {
        "hash": "c475b5beda6d617ffb7b2fcf453fbe132321ffc1e1f96c06cf49356e1e7f42cb"
      }
    },
    "colab": {
      "provenance": [],
      "collapsed_sections": [
        "OiNKSHte7YnW",
        "nBh7FGX47YnX",
        "QSV0YjCS7YnY",
        "n7tdb9bF7Yna",
        "RlY8Rls37Ynb",
        "s7rRgv7N7Ync",
        "mOTVgZGv7Yne",
        "auYuGimZ7Yne"
      ],
      "include_colab_link": true
    },
    "accelerator": "GPU",
    "gpuClass": "standard"
  },
  "nbformat": 4,
  "nbformat_minor": 0
}